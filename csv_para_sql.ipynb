{
 "cells": [
  {
   "cell_type": "code",
   "execution_count": 1,
   "metadata": {},
   "outputs": [],
   "source": [
    "import pandas as pd"
   ]
  },
  {
   "cell_type": "code",
   "execution_count": 2,
   "metadata": {},
   "outputs": [
    {
     "data": {
      "text/html": [
       "<div>\n",
       "<style scoped>\n",
       "    .dataframe tbody tr th:only-of-type {\n",
       "        vertical-align: middle;\n",
       "    }\n",
       "\n",
       "    .dataframe tbody tr th {\n",
       "        vertical-align: top;\n",
       "    }\n",
       "\n",
       "    .dataframe thead th {\n",
       "        text-align: right;\n",
       "    }\n",
       "</style>\n",
       "<table border=\"1\" class=\"dataframe\">\n",
       "  <thead>\n",
       "    <tr style=\"text-align: right;\">\n",
       "      <th></th>\n",
       "      <th>ano</th>\n",
       "      <th>mes</th>\n",
       "      <th>sigla_uf</th>\n",
       "      <th>tipo_consumo</th>\n",
       "      <th>numero_consumidores</th>\n",
       "      <th>consumo</th>\n",
       "    </tr>\n",
       "  </thead>\n",
       "  <tbody>\n",
       "    <tr>\n",
       "      <th>0</th>\n",
       "      <td>2004</td>\n",
       "      <td>1</td>\n",
       "      <td>TO</td>\n",
       "      <td>Total</td>\n",
       "      <td>NaN</td>\n",
       "      <td>65876</td>\n",
       "    </tr>\n",
       "    <tr>\n",
       "      <th>1</th>\n",
       "      <td>2004</td>\n",
       "      <td>1</td>\n",
       "      <td>BA</td>\n",
       "      <td>Total</td>\n",
       "      <td>NaN</td>\n",
       "      <td>1444451</td>\n",
       "    </tr>\n",
       "    <tr>\n",
       "      <th>2</th>\n",
       "      <td>2004</td>\n",
       "      <td>1</td>\n",
       "      <td>PR</td>\n",
       "      <td>Total</td>\n",
       "      <td>NaN</td>\n",
       "      <td>1596274</td>\n",
       "    </tr>\n",
       "    <tr>\n",
       "      <th>3</th>\n",
       "      <td>2004</td>\n",
       "      <td>1</td>\n",
       "      <td>RS</td>\n",
       "      <td>Total</td>\n",
       "      <td>NaN</td>\n",
       "      <td>1780912</td>\n",
       "    </tr>\n",
       "    <tr>\n",
       "      <th>4</th>\n",
       "      <td>2004</td>\n",
       "      <td>1</td>\n",
       "      <td>GO</td>\n",
       "      <td>Total</td>\n",
       "      <td>NaN</td>\n",
       "      <td>630624</td>\n",
       "    </tr>\n",
       "  </tbody>\n",
       "</table>\n",
       "</div>"
      ],
      "text/plain": [
       "    ano  mes sigla_uf tipo_consumo  numero_consumidores  consumo\n",
       "0  2004    1       TO        Total                  NaN    65876\n",
       "1  2004    1       BA        Total                  NaN  1444451\n",
       "2  2004    1       PR        Total                  NaN  1596274\n",
       "3  2004    1       RS        Total                  NaN  1780912\n",
       "4  2004    1       GO        Total                  NaN   630624"
      ]
     },
     "execution_count": 2,
     "metadata": {},
     "output_type": "execute_result"
    }
   ],
   "source": [
    "df = pd.read_csv(\"br_mme_consumo_energia_eletrica_uf.csv\")\n",
    "df.head()"
   ]
  },
  {
   "cell_type": "code",
   "execution_count": 3,
   "metadata": {},
   "outputs": [
    {
     "data": {
      "text/plain": [
       "<bound method NDFrame.describe of         ano  mes sigla_uf tipo_consumo  numero_consumidores  consumo\n",
       "0      2004    1       TO        Total                  NaN    65876\n",
       "1      2004    1       BA        Total                  NaN  1444451\n",
       "2      2004    1       PR        Total                  NaN  1596274\n",
       "3      2004    1       RS        Total                  NaN  1780912\n",
       "4      2004    1       GO        Total                  NaN   630624\n",
       "...     ...  ...      ...          ...                  ...      ...\n",
       "38875  2023   12       BA  Residencial            5932740.0   718461\n",
       "38876  2023   12       PA  Residencial            2614106.0   478726\n",
       "38877  2023   12       AC  Residencial             245699.0    58301\n",
       "38878  2023   12       RN  Residencial            1390080.0   210119\n",
       "38879  2023   12       SC  Residencial            2719791.0   655389\n",
       "\n",
       "[38880 rows x 6 columns]>"
      ]
     },
     "execution_count": 3,
     "metadata": {},
     "output_type": "execute_result"
    }
   ],
   "source": [
    "df.describe"
   ]
  },
  {
   "cell_type": "code",
   "execution_count": 7,
   "metadata": {},
   "outputs": [
    {
     "data": {
      "text/plain": [
       "ano                    0\n",
       "mes                    0\n",
       "sigla_uf               0\n",
       "tipo_consumo           0\n",
       "numero_consumidores    0\n",
       "consumo                0\n",
       "dtype: int64"
      ]
     },
     "execution_count": 7,
     "metadata": {},
     "output_type": "execute_result"
    }
   ],
   "source": [
    "df.isnull().sum()"
   ]
  },
  {
   "cell_type": "code",
   "execution_count": 5,
   "metadata": {},
   "outputs": [],
   "source": [
    "df.dropna(inplace=True)"
   ]
  },
  {
   "cell_type": "code",
   "execution_count": 6,
   "metadata": {},
   "outputs": [
    {
     "name": "stdout",
     "output_type": "stream",
     "text": [
      "Arquivo SQL 'init.sql' criado com sucesso.\n"
     ]
    }
   ],
   "source": [
    "def dataframe_to_sql(df, table_name, file_name):\n",
    "    # Começar a criação do script SQL\n",
    "    sql_script = f\"CREATE TABLE {table_name} (\\n\"\n",
    "    \n",
    "    # Adicionar os tipos de dados das colunas\n",
    "    for col in df.columns:\n",
    "        dtype = str(df[col].dtype)\n",
    "        if 'int' in dtype:\n",
    "            sql_type = 'INTEGER'\n",
    "        elif 'float' in dtype:\n",
    "            sql_type = 'REAL'\n",
    "        else:\n",
    "            sql_type = 'TEXT'\n",
    "        sql_script += f\"    {col} {sql_type},\\n\"\n",
    "    \n",
    "    # Remover a última vírgula e adicionar o fechamento do CREATE TABLE\n",
    "    sql_script = sql_script.rstrip(',\\n') + \"\\n);\\n\\n\"\n",
    "    \n",
    "    # Adicionar os INSERTs\n",
    "    for _, row in df.iterrows():\n",
    "        values = ', '.join([f\"'{str(v)}'\" if isinstance(v, str) else str(v) for v in row])\n",
    "        sql_script += f\"INSERT INTO {table_name} VALUES ({values});\\n\"\n",
    "    \n",
    "    # Salvar o script SQL em um arquivo\n",
    "    with open(file_name, 'w') as f:\n",
    "        f.write(sql_script)\n",
    "\n",
    "    print(f\"Arquivo SQL '{file_name}' criado com sucesso.\")\n",
    "\n",
    "\n",
    "dataframe_to_sql(df, 'consumo_energia_eletrica', 'init.sql')\n"
   ]
  },
  {
   "cell_type": "markdown",
   "metadata": {},
   "source": [
    "O que foi feito:"
   ]
  },
  {
   "cell_type": "markdown",
   "metadata": {},
   "source": [
    "Simplesmente um dropna para retirada de dados nulos, não foram muitos e não parecem impactar tanto nos resultados.\n",
    "A maior parte dos dados nulos era do ano de 2004, provavelmente por falta de monitoração, ou seja, o dropna não afeta a predição de valores acima de 2004."
   ]
  },
  {
   "cell_type": "markdown",
   "metadata": {},
   "source": [
    "O database então foi convertido em um init.sql, que é adicionado à um container mysql\n",
    "A tabela no container será utlizada nas predições."
   ]
  },
  {
   "cell_type": "markdown",
   "metadata": {},
   "source": []
  }
 ],
 "metadata": {
  "kernelspec": {
   "display_name": "Python 3",
   "language": "python",
   "name": "python3"
  },
  "language_info": {
   "codemirror_mode": {
    "name": "ipython",
    "version": 3
   },
   "file_extension": ".py",
   "mimetype": "text/x-python",
   "name": "python",
   "nbconvert_exporter": "python",
   "pygments_lexer": "ipython3",
   "version": "3.10.12"
  }
 },
 "nbformat": 4,
 "nbformat_minor": 2
}
