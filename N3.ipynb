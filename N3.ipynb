{
 "cells": [
  {
   "cell_type": "code",
   "execution_count": 79,
   "metadata": {},
   "outputs": [],
   "source": [
    "import mysql.connector\n",
    "import pandas as pd\n",
    "import seaborn as sns\n",
    "from IPython.display import HTML\n",
    "import base64\n",
    "from io import BytesIO\n",
    "import matplotlib.pyplot as plt\n",
    "from sklearn.preprocessing import LabelEncoder\n",
    "from sklearn.model_selection import train_test_split\n",
    "from sklearn.linear_model import LinearRegression\n",
    "from sklearn.ensemble import RandomForestRegressor\n",
    "from sklearn.metrics import mean_squared_error, r2_score, mean_absolute_error\n",
    "from sklearn.preprocessing import StandardScaler\n",
    "import tensorflow as tf\n",
    "from tensorflow.keras.models import Sequential\n",
    "from tensorflow.keras.layers import Dense, Dropout\n",
    "from tensorflow.keras.regularizers import l2\n"
   ]
  },
  {
   "cell_type": "code",
   "execution_count": 80,
   "metadata": {},
   "outputs": [
    {
     "name": "stderr",
     "output_type": "stream",
     "text": [
      "3707.23s - pydevd: Sending message related to process being replaced timed-out after 5 seconds\n"
     ]
    },
    {
     "name": "stdout",
     "output_type": "stream",
     "text": [
      "Defaulting to user installation because normal site-packages is not writeable\n",
      "Requirement already satisfied: mysql-connector-python in /home/vandelsoncleitoso/.local/lib/python3.10/site-packages (9.1.0)\n",
      "Requirement already satisfied: pandas in /home/vandelsoncleitoso/.local/lib/python3.10/site-packages (2.1.1)\n",
      "Requirement already satisfied: python-dateutil>=2.8.2 in /usr/local/lib/python3.10/dist-packages (from pandas) (2.8.2)\n",
      "Requirement already satisfied: numpy>=1.22.4 in /usr/local/lib/python3.10/dist-packages (from pandas) (1.25.2)\n",
      "Requirement already satisfied: tzdata>=2022.1 in /home/vandelsoncleitoso/.local/lib/python3.10/site-packages (from pandas) (2023.3)\n",
      "Requirement already satisfied: pytz>=2020.1 in /home/vandelsoncleitoso/.local/lib/python3.10/site-packages (from pandas) (2023.3.post1)\n",
      "Requirement already satisfied: six>=1.5 in /usr/lib/python3/dist-packages (from python-dateutil>=2.8.2->pandas) (1.16.0)\n",
      "Note: you may need to restart the kernel to use updated packages.\n"
     ]
    }
   ],
   "source": [
    "%pip install mysql-connector-python pandas\n"
   ]
  },
  {
   "cell_type": "code",
   "execution_count": 81,
   "metadata": {},
   "outputs": [
    {
     "name": "stdout",
     "output_type": "stream",
     "text": [
      "Antes de começar, executar 'sudo docker-compose up --build' nesta pasta\n",
      "Caso não queira, basta usar o endereõ de ip que estáhospedando o docker na rede interna.\n"
     ]
    }
   ],
   "source": [
    "print(\"Antes de começar, executar 'sudo docker-compose up --build' nesta pasta\")\n",
    "print(\"Caso não queira, basta usar o endereõ de ip que estáhospedando o docker na rede interna.\")\n",
    "host = input(\"digite o endereço para hospedagem: \")"
   ]
  },
  {
   "cell_type": "markdown",
   "metadata": {},
   "source": [
    "O que escrever no documento:\n",
    "\n",
    "Documento, entre 5 e 10 páginas, relatório do que foi feito e justificar"
   ]
  },
  {
   "cell_type": "code",
   "execution_count": 82,
   "metadata": {},
   "outputs": [
    {
     "name": "stdout",
     "output_type": "stream",
     "text": [
      "        ano  mes sigla_uf tipo_consumo  numero_consumidores  consumo\n",
      "0      2004    1       RN       Outros              40857.0    69617\n",
      "1      2004    1       SP       Outros             311650.0   937538\n",
      "2      2004    1       MS       Outros              56881.0    67601\n",
      "3      2004    1       SC       Outros             226165.0   209380\n",
      "4      2004    1       RJ       Outros              70634.0   416128\n",
      "...     ...  ...      ...          ...                  ...      ...\n",
      "25915  2023   12       BA  Residencial            5932740.0   718461\n",
      "25916  2023   12       PA  Residencial            2614106.0   478726\n",
      "25917  2023   12       AC  Residencial             245699.0    58301\n",
      "25918  2023   12       RN  Residencial            1390080.0   210119\n",
      "25919  2023   12       SC  Residencial            2719791.0   655389\n",
      "\n",
      "[25920 rows x 6 columns]\n"
     ]
    },
    {
     "name": "stderr",
     "output_type": "stream",
     "text": [
      "/tmp/ipykernel_9644/2328889262.py:10: UserWarning: pandas only supports SQLAlchemy connectable (engine/connection) or database string URI or sqlite3 DBAPI2 connection. Other DBAPI2 objects are not tested. Please consider using SQLAlchemy.\n",
      "  df = pd.read_sql(query, connection)\n"
     ]
    }
   ],
   "source": [
    "db_config = {\n",
    "    'host': host,  # Endereço do MySQL no Docker (localhost ou o IP do contêiner), no caso do meu notebook é 192.168.137.4\n",
    "    'port': 3306,         # Porta do MySQL\n",
    "    'user': 'root',       # Usuário do MySQL\n",
    "    'password': 'rootpassword',  # Senha configurada no Docker\n",
    "    'database': 'N3'      # Nome do banco de dados\n",
    "}\n",
    "connection = mysql.connector.connect(**db_config)\n",
    "query = \"SELECT * FROM consumo_energia_eletrica;\"\n",
    "df = pd.read_sql(query, connection)\n",
    "connection.close()\n",
    "print(df)\n"
   ]
  },
  {
   "cell_type": "code",
   "execution_count": 83,
   "metadata": {},
   "outputs": [
    {
     "data": {
      "text/plain": [
       "['ano', 'mes', 'sigla_uf', 'tipo_consumo', 'numero_consumidores', 'consumo']"
      ]
     },
     "execution_count": 83,
     "metadata": {},
     "output_type": "execute_result"
    }
   ],
   "source": [
    "df.columns.to_list()"
   ]
  },
  {
   "cell_type": "code",
   "execution_count": 84,
   "metadata": {},
   "outputs": [
    {
     "name": "stdout",
     "output_type": "stream",
     "text": [
      "    ano  mes sigla_uf tipo_consumo  numero_consumidores  consumo\n",
      "0  2004    1       RN       Outros              40857.0    69617\n",
      "1  2004    1       SP       Outros             311650.0   937538\n",
      "2  2004    1       MS       Outros              56881.0    67601\n",
      "3  2004    1       SC       Outros             226165.0   209380\n",
      "4  2004    1       RJ       Outros              70634.0   416128\n"
     ]
    }
   ],
   "source": [
    "print(df.head())\n"
   ]
  },
  {
   "cell_type": "code",
   "execution_count": 85,
   "metadata": {},
   "outputs": [
    {
     "name": "stdout",
     "output_type": "stream",
     "text": [
      "                ano           mes  numero_consumidores       consumo\n",
      "count  25920.000000  25920.000000         2.592000e+04  2.592000e+04\n",
      "mean    2013.500000      6.500000         6.823034e+05  3.391709e+05\n",
      "std        5.766393      3.452119         1.839312e+06  6.036427e+05\n",
      "min     2004.000000      1.000000         5.200000e+01  3.540000e+02\n",
      "25%     2008.750000      3.750000         1.895650e+04  6.154550e+04\n",
      "50%     2013.500000      6.500000         1.081745e+05  1.367545e+05\n",
      "75%     2018.250000      9.250000         4.424120e+05  3.616518e+05\n",
      "max     2023.000000     12.000000         1.920126e+07  4.849895e+06\n",
      "ano                    0\n",
      "mes                    0\n",
      "sigla_uf               0\n",
      "tipo_consumo           0\n",
      "numero_consumidores    0\n",
      "consumo                0\n",
      "dtype: int64\n"
     ]
    }
   ],
   "source": [
    "print(df.describe())\n",
    "print(df.isnull().sum())\n"
   ]
  },
  {
   "cell_type": "code",
   "execution_count": 86,
   "metadata": {},
   "outputs": [
    {
     "data": {
      "image/png": "[encoded data removed]",
      "text/plain": [
       "<Figure size 1000x600 with 2 Axes>"
      ]
     },
     "metadata": {},
     "output_type": "display_data"
    },
    {
     "data": {
      "image/png": "[encoded data removed]",
      "text/plain": [
       "<Figure size 1000x600 with 1 Axes>"
      ]
     },
     "metadata": {},
     "output_type": "display_data"
    }
   ],
   "source": [
    "plt.figure(figsize=(10, 6))\n",
    "sns.heatmap(df.pivot_table(values='consumo', index='ano', columns='mes', aggfunc='sum'), cmap='YlGnBu')\n",
    "plt.title('Distribuição de Consumo de Energia por Ano e Mês')\n",
    "plt.show()\n",
    "\n",
    "plt.figure(figsize=(10, 6))\n",
    "sns.boxplot(x='tipo_consumo', y='consumo', data=df)\n",
    "plt.title('Distribuição de Consumo por Tipo de Consumo')\n",
    "plt.show()\n"
   ]
  },
  {
   "cell_type": "code",
   "execution_count": 87,
   "metadata": {},
   "outputs": [],
   "source": [
    "label_encoder = LabelEncoder()\n",
    "df['sigla_uf_encoded'] = label_encoder.fit_transform(df['sigla_uf'])\n",
    "df['tipo_consumo_encoded'] = label_encoder.fit_transform(df['tipo_consumo'])\n"
   ]
  },
  {
   "cell_type": "code",
   "execution_count": 88,
   "metadata": {},
   "outputs": [],
   "source": [
    "X = df[['ano', 'mes', 'sigla_uf_encoded', 'tipo_consumo_encoded', 'numero_consumidores']]\n",
    "y = df['consumo']"
   ]
  },
  {
   "cell_type": "code",
   "execution_count": 89,
   "metadata": {},
   "outputs": [],
   "source": [
    "X_train, X_test, y_train, y_test = train_test_split(X, y, test_size=0.2, random_state=42)\n"
   ]
  },
  {
   "cell_type": "code",
   "execution_count": 90,
   "metadata": {},
   "outputs": [
    {
     "name": "stdout",
     "output_type": "stream",
     "text": [
      "MSE (Regressão Linear): 259602195469.6708\n",
      "R2 (Regressão Linear): 0.30515543196663786\n"
     ]
    }
   ],
   "source": [
    "model_lr = LinearRegression()\n",
    "model_lr.fit(X_train, y_train)\n",
    "\n",
    "y_pred_lr = model_lr.predict(X_test)\n",
    "\n",
    "mse_lr = mean_squared_error(y_test, y_pred_lr)\n",
    "r2_lr = r2_score(y_test, y_pred_lr)\n",
    "\n",
    "print(f'MSE (Regressão Linear): {mse_lr}')\n",
    "print(f'R2 (Regressão Linear): {r2_lr}')\n"
   ]
  },
  {
   "cell_type": "code",
   "execution_count": 91,
   "metadata": {},
   "outputs": [
    {
     "name": "stdout",
     "output_type": "stream",
     "text": [
      "MSE (Random Forest): 883081775.7618694\n",
      "R2 (Random Forest): 0.9976363660025784\n"
     ]
    }
   ],
   "source": [
    "model_rf = RandomForestRegressor(n_estimators=100, random_state=42)\n",
    "model_rf.fit(X_train, y_train)\n",
    "\n",
    "y_pred_rf = model_rf.predict(X_test)\n",
    "\n",
    "mse_rf = mean_squared_error(y_test, y_pred_rf)\n",
    "r2_rf = r2_score(y_test, y_pred_rf)\n",
    "\n",
    "print(f'MSE (Random Forest): {mse_rf}')\n",
    "print(f'R2 (Random Forest): {r2_rf}')\n"
   ]
  },
  {
   "cell_type": "markdown",
   "metadata": {},
   "source": [
    "Como o Random Forest Funciona Internamente:\n",
    "Ensemble Learning: Random Forest é uma técnica de ensemble learning que combina múltiplos modelos (árvores de decisão, neste caso) para melhorar a precisão e reduzir o overfitting.\n",
    "\n",
    "Árvores de Decisão: Cada árvore de decisão é treinada em um subconjunto aleatório dos dados. As divisões nas árvores são feitas de forma que cada árvore possa aprender de diferentes aspectos dos dados.\n",
    "\n",
    "Bootstrap Aggregation (Bagging): Random Forest usa amostragem bootstrap, o que significa que cada árvore é treinada em um subconjunto de dados com reposição. Isso ajuda a criar diversas árvores e reduz a variabilidade.\n",
    "\n",
    "Agregação das Previsões: As previsões finais são feitas agregando (por exemplo, através de média para regressão) as previsões de todas as árvores individuais. Isso tende a produzir previsões mais robustas e precisas do que uma única árvore de decisão.\n",
    "\n",
    "Isso proporciona uma combinação poderosa de flexibilidade e robustez, tornando o Random Forest uma ferramenta valiosa para muitos tipos de problemas de previsão.\n",
    "\n",
    " DIDÁTICA TECH. Entenda como funciona o Random Forest (Machine Learning). 2022. Disponível em: https://didatica.tech/o-que-e-e-como-funciona-o-algoritmo-randomforest/. Acesso em: 19 nov. 2024.\n",
    "\n"
   ]
  },
  {
   "cell_type": "code",
   "execution_count": 92,
   "metadata": {},
   "outputs": [
    {
     "name": "stdout",
     "output_type": "stream",
     "text": [
      "sigla uf encoded: \n",
      " 0        19\n",
      "1        25\n",
      "2        11\n",
      "3        23\n",
      "4        18\n",
      "         ..\n",
      "25915     4\n",
      "25916    13\n",
      "25917     0\n",
      "25918    19\n",
      "25919    23\n",
      "Name: sigla_uf_encoded, Length: 25920, dtype: int64 \n",
      "Tipo consumo encoded:\n",
      " 25910    3\n",
      "25911    3\n",
      "25912    3\n",
      "25913    3\n",
      "25914    3\n",
      "25915    3\n",
      "25916    3\n",
      "25917    3\n",
      "25918    3\n",
      "25919    3\n",
      "Name: tipo_consumo_encoded, dtype: int64\n"
     ]
    }
   ],
   "source": [
    "print(\"sigla uf encoded: \\n\",df['sigla_uf_encoded'], \"\\nTipo consumo encoded:\\n\", df['tipo_consumo_encoded'].tail(10))"
   ]
  },
  {
   "cell_type": "code",
   "execution_count": 93,
   "metadata": {},
   "outputs": [
    {
     "data": {
      "text/html": [
       "<div>\n",
       "<style scoped>\n",
       "    .dataframe tbody tr th:only-of-type {\n",
       "        vertical-align: middle;\n",
       "    }\n",
       "\n",
       "    .dataframe tbody tr th {\n",
       "        vertical-align: top;\n",
       "    }\n",
       "\n",
       "    .dataframe thead th {\n",
       "        text-align: right;\n",
       "    }\n",
       "</style>\n",
       "<table border=\"1\" class=\"dataframe\">\n",
       "  <thead>\n",
       "    <tr style=\"text-align: right;\">\n",
       "      <th></th>\n",
       "      <th>ano</th>\n",
       "      <th>mes</th>\n",
       "      <th>sigla_uf</th>\n",
       "      <th>tipo_consumo</th>\n",
       "      <th>numero_consumidores</th>\n",
       "      <th>consumo</th>\n",
       "      <th>sigla_uf_encoded</th>\n",
       "      <th>tipo_consumo_encoded</th>\n",
       "    </tr>\n",
       "  </thead>\n",
       "  <tbody>\n",
       "    <tr>\n",
       "      <th>25915</th>\n",
       "      <td>2023</td>\n",
       "      <td>12</td>\n",
       "      <td>BA</td>\n",
       "      <td>Residencial</td>\n",
       "      <td>5932740.0</td>\n",
       "      <td>718461</td>\n",
       "      <td>4</td>\n",
       "      <td>3</td>\n",
       "    </tr>\n",
       "    <tr>\n",
       "      <th>25916</th>\n",
       "      <td>2023</td>\n",
       "      <td>12</td>\n",
       "      <td>PA</td>\n",
       "      <td>Residencial</td>\n",
       "      <td>2614106.0</td>\n",
       "      <td>478726</td>\n",
       "      <td>13</td>\n",
       "      <td>3</td>\n",
       "    </tr>\n",
       "    <tr>\n",
       "      <th>25917</th>\n",
       "      <td>2023</td>\n",
       "      <td>12</td>\n",
       "      <td>AC</td>\n",
       "      <td>Residencial</td>\n",
       "      <td>245699.0</td>\n",
       "      <td>58301</td>\n",
       "      <td>0</td>\n",
       "      <td>3</td>\n",
       "    </tr>\n",
       "    <tr>\n",
       "      <th>25918</th>\n",
       "      <td>2023</td>\n",
       "      <td>12</td>\n",
       "      <td>RN</td>\n",
       "      <td>Residencial</td>\n",
       "      <td>1390080.0</td>\n",
       "      <td>210119</td>\n",
       "      <td>19</td>\n",
       "      <td>3</td>\n",
       "    </tr>\n",
       "    <tr>\n",
       "      <th>25919</th>\n",
       "      <td>2023</td>\n",
       "      <td>12</td>\n",
       "      <td>SC</td>\n",
       "      <td>Residencial</td>\n",
       "      <td>2719791.0</td>\n",
       "      <td>655389</td>\n",
       "      <td>23</td>\n",
       "      <td>3</td>\n",
       "    </tr>\n",
       "  </tbody>\n",
       "</table>\n",
       "</div>"
      ],
      "text/plain": [
       "        ano  mes sigla_uf tipo_consumo  numero_consumidores  consumo  \\\n",
       "25915  2023   12       BA  Residencial            5932740.0   718461   \n",
       "25916  2023   12       PA  Residencial            2614106.0   478726   \n",
       "25917  2023   12       AC  Residencial             245699.0    58301   \n",
       "25918  2023   12       RN  Residencial            1390080.0   210119   \n",
       "25919  2023   12       SC  Residencial            2719791.0   655389   \n",
       "\n",
       "       sigla_uf_encoded  tipo_consumo_encoded  \n",
       "25915                 4                     3  \n",
       "25916                13                     3  \n",
       "25917                 0                     3  \n",
       "25918                19                     3  \n",
       "25919                23                     3  "
      ]
     },
     "execution_count": 93,
     "metadata": {},
     "output_type": "execute_result"
    }
   ],
   "source": [
    "df.tail()"
   ]
  },
  {
   "cell_type": "code",
   "execution_count": 94,
   "metadata": {},
   "outputs": [
    {
     "name": "stdout",
     "output_type": "stream",
     "text": [
      "Consumo previsto: 626948.89\n"
     ]
    }
   ],
   "source": [
    "# Dados de entrada para previsão\n",
    "novos_dados = pd.DataFrame({\n",
    "    'ano': [2023],\n",
    "    'mes': [12],\n",
    "    'sigla_uf_encoded': [23],  # Codificando o estado\n",
    "    'tipo_consumo_encoded': [3],  # Codificando o tipo de consumo\n",
    "    'numero_consumidores': [2719791.0]\n",
    "})\n",
    "\n",
    "# Prevendo o consumo para os novos dados\n",
    "consumo_predito = model_rf.predict(novos_dados)\n",
    "print(f'Consumo previsto: {consumo_predito[0]}')\n"
   ]
  },
  {
   "cell_type": "code",
   "execution_count": 95,
   "metadata": {},
   "outputs": [
    {
     "name": "stdout",
     "output_type": "stream",
     "text": [
      "Diferença entre consumo real e predito:  [28440.11]  ou seja, uma diferença de [4.33942437] %\n"
     ]
    }
   ],
   "source": [
    "consumo_real = 655389.00\n",
    "diferenca = consumo_real-consumo_predito\n",
    "print(\"Diferença entre consumo real e predito: \", diferenca, \" ou seja, uma diferença de\", (diferenca*100)/consumo_real,\"%\")"
   ]
  },
  {
   "cell_type": "code",
   "execution_count": 96,
   "metadata": {},
   "outputs": [
    {
     "name": "stdout",
     "output_type": "stream",
     "text": [
      "Consumo previsto: 209598.36\n"
     ]
    }
   ],
   "source": [
    "#outra predção\n",
    "novos_dados = pd.DataFrame({\n",
    "    'ano': [2023],\n",
    "    'mes': [12],\n",
    "    'sigla_uf_encoded': [19],  # Codificando o estado\n",
    "    'tipo_consumo_encoded': [3],  # Codificando o tipo de consumo\n",
    "    'numero_consumidores': [1390080.0]\n",
    "})\n",
    "\n",
    "# Prevendo o consumo para os novos dados\n",
    "consumo_predito = model_rf.predict(novos_dados)\n",
    "print(f'Consumo previsto: {consumo_predito[0]}')"
   ]
  },
  {
   "cell_type": "code",
   "execution_count": 97,
   "metadata": {},
   "outputs": [
    {
     "name": "stdout",
     "output_type": "stream",
     "text": [
      "Diferença entre consumo real e predito:  [520.64]  ou seja, uma diferença de [0.2477834] %\n"
     ]
    }
   ],
   "source": [
    "consumo_real = 210119.00\n",
    "diferenca = consumo_real-consumo_predito\n",
    "print(\"Diferença entre consumo real e predito: \", diferenca, \" ou seja, uma diferença de\", (diferenca*100)/consumo_real,\"%\")"
   ]
  },
  {
   "cell_type": "code",
   "execution_count": 98,
   "metadata": {},
   "outputs": [
    {
     "name": "stdout",
     "output_type": "stream",
     "text": [
      "Epoch 1/50\n"
     ]
    },
    {
     "name": "stderr",
     "output_type": "stream",
     "text": [
      "/home/vandelsoncleitoso/.local/lib/python3.10/site-packages/keras/src/layers/core/dense.py:86: UserWarning: Do not pass an `input_shape`/`input_dim` argument to a layer. When using Sequential models, prefer using an `Input(shape)` object as the first layer in the model instead.\n",
      "  super().__init__(activity_regularizer=activity_regularizer, **kwargs)\n"
     ]
    },
    {
     "name": "stdout",
     "output_type": "stream",
     "text": [
      "\u001b[1m1659/1659\u001b[0m \u001b[32m━━━━━━━━━━━━━━━━━━━━\u001b[0m\u001b[37m\u001b[0m \u001b[1m3s\u001b[0m 1ms/step - loss: 481853571072.0000 - mean_absolute_error: 338117.8438 - val_loss: 453546999808.0000 - val_mean_absolute_error: 317584.5000\n",
      "Epoch 2/50\n",
      "\u001b[1m1659/1659\u001b[0m \u001b[32m━━━━━━━━━━━━━━━━━━━━\u001b[0m\u001b[37m\u001b[0m \u001b[1m3s\u001b[0m 1ms/step - loss: 443967537152.0000 - mean_absolute_error: 313183.0625 - val_loss: 391807565824.0000 - val_mean_absolute_error: 279129.0312\n",
      "Epoch 3/50\n",
      "\u001b[1m1659/1659\u001b[0m \u001b[32m━━━━━━━━━━━━━━━━━━━━\u001b[0m\u001b[37m\u001b[0m \u001b[1m2s\u001b[0m 1ms/step - loss: 387009314816.0000 - mean_absolute_error: 277460.8125 - val_loss: 327083982848.0000 - val_mean_absolute_error: 264368.3750\n",
      "Epoch 4/50\n",
      "\u001b[1m1659/1659\u001b[0m \u001b[32m━━━━━━━━━━━━━━━━━━━━\u001b[0m\u001b[37m\u001b[0m \u001b[1m1s\u001b[0m 774us/step - loss: 336424206336.0000 - mean_absolute_error: 276369.8125 - val_loss: 294776569856.0000 - val_mean_absolute_error: 272681.7500\n",
      "Epoch 5/50\n",
      "\u001b[1m1659/1659\u001b[0m \u001b[32m━━━━━━━━━━━━━━━━━━━━\u001b[0m\u001b[37m\u001b[0m \u001b[1m2s\u001b[0m 905us/step - loss: 337882546176.0000 - mean_absolute_error: 291471.1250 - val_loss: 281282576384.0000 - val_mean_absolute_error: 279701.0938\n",
      "Epoch 6/50\n",
      "\u001b[1m1659/1659\u001b[0m \u001b[32m━━━━━━━━━━━━━━━━━━━━\u001b[0m\u001b[37m\u001b[0m \u001b[1m1s\u001b[0m 748us/step - loss: 321415348224.0000 - mean_absolute_error: 298106.0312 - val_loss: 273055580160.0000 - val_mean_absolute_error: 280497.8125\n",
      "Epoch 7/50\n",
      "\u001b[1m1659/1659\u001b[0m \u001b[32m━━━━━━━━━━━━━━━━━━━━\u001b[0m\u001b[37m\u001b[0m \u001b[1m1s\u001b[0m 797us/step - loss: 278372581376.0000 - mean_absolute_error: 282001.5312 - val_loss: 266633248768.0000 - val_mean_absolute_error: 279054.9062\n",
      "Epoch 8/50\n",
      "\u001b[1m1659/1659\u001b[0m \u001b[32m━━━━━━━━━━━━━━━━━━━━\u001b[0m\u001b[37m\u001b[0m \u001b[1m1s\u001b[0m 808us/step - loss: 290584002560.0000 - mean_absolute_error: 286664.3125 - val_loss: 261292556288.0000 - val_mean_absolute_error: 276344.0625\n",
      "Epoch 9/50\n",
      "\u001b[1m1659/1659\u001b[0m \u001b[32m━━━━━━━━━━━━━━━━━━━━\u001b[0m\u001b[37m\u001b[0m \u001b[1m1s\u001b[0m 838us/step - loss: 272111583232.0000 - mean_absolute_error: 278123.1875 - val_loss: 257231454208.0000 - val_mean_absolute_error: 274065.2812\n",
      "Epoch 10/50\n",
      "\u001b[1m1659/1659\u001b[0m \u001b[32m━━━━━━━━━━━━━━━━━━━━\u001b[0m\u001b[37m\u001b[0m \u001b[1m1s\u001b[0m 816us/step - loss: 284707848192.0000 - mean_absolute_error: 279362.8125 - val_loss: 254024744960.0000 - val_mean_absolute_error: 270876.7188\n",
      "Epoch 11/50\n",
      "\u001b[1m1659/1659\u001b[0m \u001b[32m━━━━━━━━━━━━━━━━━━━━\u001b[0m\u001b[37m\u001b[0m \u001b[1m1s\u001b[0m 825us/step - loss: 281459163136.0000 - mean_absolute_error: 276721.2188 - val_loss: 251612545024.0000 - val_mean_absolute_error: 268173.4375\n",
      "Epoch 12/50\n",
      "\u001b[1m1659/1659\u001b[0m \u001b[32m━━━━━━━━━━━━━━━━━━━━\u001b[0m\u001b[37m\u001b[0m \u001b[1m2s\u001b[0m 777us/step - loss: 279307681792.0000 - mean_absolute_error: 274800.6562 - val_loss: 250023165952.0000 - val_mean_absolute_error: 265639.3125\n",
      "Epoch 13/50\n",
      "\u001b[1m1659/1659\u001b[0m \u001b[32m━━━━━━━━━━━━━━━━━━━━\u001b[0m\u001b[37m\u001b[0m \u001b[1m1s\u001b[0m 821us/step - loss: 283479998464.0000 - mean_absolute_error: 277872.9062 - val_loss: 248894472192.0000 - val_mean_absolute_error: 264571.1562\n",
      "Epoch 14/50\n",
      "\u001b[1m1659/1659\u001b[0m \u001b[32m━━━━━━━━━━━━━━━━━━━━\u001b[0m\u001b[37m\u001b[0m \u001b[1m1s\u001b[0m 778us/step - loss: 270905245696.0000 - mean_absolute_error: 270003.7812 - val_loss: 248118738944.0000 - val_mean_absolute_error: 262233.6562\n",
      "Epoch 15/50\n",
      "\u001b[1m1659/1659\u001b[0m \u001b[32m━━━━━━━━━━━━━━━━━━━━\u001b[0m\u001b[37m\u001b[0m \u001b[1m1s\u001b[0m 758us/step - loss: 280049876992.0000 - mean_absolute_error: 273809.8125 - val_loss: 247574462464.0000 - val_mean_absolute_error: 259920.2031\n",
      "Epoch 16/50\n",
      "\u001b[1m1659/1659\u001b[0m \u001b[32m━━━━━━━━━━━━━━━━━━━━\u001b[0m\u001b[37m\u001b[0m \u001b[1m1s\u001b[0m 814us/step - loss: 267234492416.0000 - mean_absolute_error: 265251.3750 - val_loss: 247158276096.0000 - val_mean_absolute_error: 260148.8906\n",
      "Epoch 17/50\n",
      "\u001b[1m1659/1659\u001b[0m \u001b[32m━━━━━━━━━━━━━━━━━━━━\u001b[0m\u001b[37m\u001b[0m \u001b[1m1s\u001b[0m 751us/step - loss: 275307855872.0000 - mean_absolute_error: 270128.1875 - val_loss: 246875242496.0000 - val_mean_absolute_error: 258630.1562\n",
      "Epoch 18/50\n",
      "\u001b[1m1659/1659\u001b[0m \u001b[32m━━━━━━━━━━━━━━━━━━━━\u001b[0m\u001b[37m\u001b[0m \u001b[1m1s\u001b[0m 760us/step - loss: 292122165248.0000 - mean_absolute_error: 272181.9375 - val_loss: 246665756672.0000 - val_mean_absolute_error: 257249.8125\n",
      "Epoch 19/50\n",
      "\u001b[1m1659/1659\u001b[0m \u001b[32m━━━━━━━━━━━━━━━━━━━━\u001b[0m\u001b[37m\u001b[0m \u001b[1m1s\u001b[0m 826us/step - loss: 270373781504.0000 - mean_absolute_error: 263400.6562 - val_loss: 246460170240.0000 - val_mean_absolute_error: 257158.8438\n",
      "Epoch 20/50\n",
      "\u001b[1m1659/1659\u001b[0m \u001b[32m━━━━━━━━━━━━━━━━━━━━\u001b[0m\u001b[37m\u001b[0m \u001b[1m1s\u001b[0m 758us/step - loss: 257862008832.0000 - mean_absolute_error: 261895.3438 - val_loss: 246283026432.0000 - val_mean_absolute_error: 257036.1875\n",
      "Epoch 21/50\n",
      "\u001b[1m1659/1659\u001b[0m \u001b[32m━━━━━━━━━━━━━━━━━━━━\u001b[0m\u001b[37m\u001b[0m \u001b[1m1s\u001b[0m 756us/step - loss: 291216752640.0000 - mean_absolute_error: 269751.0000 - val_loss: 246155411456.0000 - val_mean_absolute_error: 255926.4219\n",
      "Epoch 22/50\n",
      "\u001b[1m1659/1659\u001b[0m \u001b[32m━━━━━━━━━━━━━━━━━━━━\u001b[0m\u001b[37m\u001b[0m \u001b[1m1s\u001b[0m 776us/step - loss: 264467955712.0000 - mean_absolute_error: 262902.3750 - val_loss: 246035824640.0000 - val_mean_absolute_error: 255780.3906\n",
      "Epoch 23/50\n",
      "\u001b[1m1659/1659\u001b[0m \u001b[32m━━━━━━━━━━━━━━━━━━━━\u001b[0m\u001b[37m\u001b[0m \u001b[1m1s\u001b[0m 819us/step - loss: 264524365824.0000 - mean_absolute_error: 262495.8125 - val_loss: 245903163392.0000 - val_mean_absolute_error: 256022.2188\n",
      "Epoch 24/50\n",
      "\u001b[1m1659/1659\u001b[0m \u001b[32m━━━━━━━━━━━━━━━━━━━━\u001b[0m\u001b[37m\u001b[0m \u001b[1m1s\u001b[0m 751us/step - loss: 263805485056.0000 - mean_absolute_error: 262080.3281 - val_loss: 245819850752.0000 - val_mean_absolute_error: 255629.2344\n",
      "Epoch 25/50\n",
      "\u001b[1m1659/1659\u001b[0m \u001b[32m━━━━━━━━━━━━━━━━━━━━\u001b[0m\u001b[37m\u001b[0m \u001b[1m1s\u001b[0m 775us/step - loss: 264365981696.0000 - mean_absolute_error: 262665.3750 - val_loss: 245711093760.0000 - val_mean_absolute_error: 255536.7656\n",
      "Epoch 26/50\n",
      "\u001b[1m1659/1659\u001b[0m \u001b[32m━━━━━━━━━━━━━━━━━━━━\u001b[0m\u001b[37m\u001b[0m \u001b[1m1s\u001b[0m 864us/step - loss: 265685876736.0000 - mean_absolute_error: 262905.0000 - val_loss: 245591638016.0000 - val_mean_absolute_error: 255315.2031\n",
      "Epoch 27/50\n",
      "\u001b[1m1659/1659\u001b[0m \u001b[32m━━━━━━━━━━━━━━━━━━━━\u001b[0m\u001b[37m\u001b[0m \u001b[1m1s\u001b[0m 850us/step - loss: 253973299200.0000 - mean_absolute_error: 260450.7031 - val_loss: 245473574912.0000 - val_mean_absolute_error: 255383.4531\n",
      "Epoch 28/50\n",
      "\u001b[1m1659/1659\u001b[0m \u001b[32m━━━━━━━━━━━━━━━━━━━━\u001b[0m\u001b[37m\u001b[0m \u001b[1m1s\u001b[0m 791us/step - loss: 266000859136.0000 - mean_absolute_error: 263604.6875 - val_loss: 245420212224.0000 - val_mean_absolute_error: 255013.7969\n",
      "Epoch 29/50\n",
      "\u001b[1m1659/1659\u001b[0m \u001b[32m━━━━━━━━━━━━━━━━━━━━\u001b[0m\u001b[37m\u001b[0m \u001b[1m2s\u001b[0m 914us/step - loss: 252662726656.0000 - mean_absolute_error: 259576.7812 - val_loss: 245315813376.0000 - val_mean_absolute_error: 254802.6250\n",
      "Epoch 30/50\n",
      "\u001b[1m1659/1659\u001b[0m \u001b[32m━━━━━━━━━━━━━━━━━━━━\u001b[0m\u001b[37m\u001b[0m \u001b[1m1s\u001b[0m 789us/step - loss: 286310268928.0000 - mean_absolute_error: 268491.0938 - val_loss: 245227864064.0000 - val_mean_absolute_error: 253764.1094\n",
      "Epoch 31/50\n",
      "\u001b[1m1659/1659\u001b[0m \u001b[32m━━━━━━━━━━━━━━━━━━━━\u001b[0m\u001b[37m\u001b[0m \u001b[1m1s\u001b[0m 771us/step - loss: 304248193024.0000 - mean_absolute_error: 271744.7812 - val_loss: 245109899264.0000 - val_mean_absolute_error: 253060.3750\n",
      "Epoch 32/50\n",
      "\u001b[1m1659/1659\u001b[0m \u001b[32m━━━━━━━━━━━━━━━━━━━━\u001b[0m\u001b[37m\u001b[0m \u001b[1m3s\u001b[0m 906us/step - loss: 266561388544.0000 - mean_absolute_error: 261662.9844 - val_loss: 244972503040.0000 - val_mean_absolute_error: 253595.6406\n",
      "Epoch 33/50\n",
      "\u001b[1m1659/1659\u001b[0m \u001b[32m━━━━━━━━━━━━━━━━━━━━\u001b[0m\u001b[37m\u001b[0m \u001b[1m2s\u001b[0m 1ms/step - loss: 292105551872.0000 - mean_absolute_error: 271304.1875 - val_loss: 244894236672.0000 - val_mean_absolute_error: 252682.3750\n",
      "Epoch 34/50\n",
      "\u001b[1m1659/1659\u001b[0m \u001b[32m━━━━━━━━━━━━━━━━━━━━\u001b[0m\u001b[37m\u001b[0m \u001b[1m2s\u001b[0m 1ms/step - loss: 250461110272.0000 - mean_absolute_error: 255537.0938 - val_loss: 244772356096.0000 - val_mean_absolute_error: 253878.5469\n",
      "Epoch 35/50\n",
      "\u001b[1m1659/1659\u001b[0m \u001b[32m━━━━━━━━━━━━━━━━━━━━\u001b[0m\u001b[37m\u001b[0m \u001b[1m1s\u001b[0m 759us/step - loss: 279167959040.0000 - mean_absolute_error: 265157.6875 - val_loss: 244666056704.0000 - val_mean_absolute_error: 253213.1094\n",
      "Epoch 36/50\n",
      "\u001b[1m1659/1659\u001b[0m \u001b[32m━━━━━━━━━━━━━━━━━━━━\u001b[0m\u001b[37m\u001b[0m \u001b[1m1s\u001b[0m 796us/step - loss: 261683150848.0000 - mean_absolute_error: 256872.4688 - val_loss: 244564721664.0000 - val_mean_absolute_error: 252638.6875\n",
      "Epoch 37/50\n",
      "\u001b[1m1659/1659\u001b[0m \u001b[32m━━━━━━━━━━━━━━━━━━━━\u001b[0m\u001b[37m\u001b[0m \u001b[1m1s\u001b[0m 608us/step - loss: 262639468544.0000 - mean_absolute_error: 260507.2969 - val_loss: 244448821248.0000 - val_mean_absolute_error: 253227.7812\n",
      "Epoch 38/50\n",
      "\u001b[1m1659/1659\u001b[0m \u001b[32m━━━━━━━━━━━━━━━━━━━━\u001b[0m\u001b[37m\u001b[0m \u001b[1m1s\u001b[0m 654us/step - loss: 271697625088.0000 - mean_absolute_error: 262910.8438 - val_loss: 244328857600.0000 - val_mean_absolute_error: 252964.7031\n",
      "Epoch 39/50\n",
      "\u001b[1m1659/1659\u001b[0m \u001b[32m━━━━━━━━━━━━━━━━━━━━\u001b[0m\u001b[37m\u001b[0m \u001b[1m1s\u001b[0m 666us/step - loss: 260015570944.0000 - mean_absolute_error: 258436.4375 - val_loss: 244228014080.0000 - val_mean_absolute_error: 252655.9219\n",
      "Epoch 40/50\n",
      "\u001b[1m1659/1659\u001b[0m \u001b[32m━━━━━━━━━━━━━━━━━━━━\u001b[0m\u001b[37m\u001b[0m \u001b[1m1s\u001b[0m 730us/step - loss: 261003673600.0000 - mean_absolute_error: 257211.2188 - val_loss: 244124270592.0000 - val_mean_absolute_error: 252758.4531\n",
      "Epoch 41/50\n",
      "\u001b[1m1659/1659\u001b[0m \u001b[32m━━━━━━━━━━━━━━━━━━━━\u001b[0m\u001b[37m\u001b[0m \u001b[1m1s\u001b[0m 672us/step - loss: 272433987584.0000 - mean_absolute_error: 264301.9688 - val_loss: 244032077824.0000 - val_mean_absolute_error: 251397.3906\n",
      "Epoch 42/50\n",
      "\u001b[1m1659/1659\u001b[0m \u001b[32m━━━━━━━━━━━━━━━━━━━━\u001b[0m\u001b[37m\u001b[0m \u001b[1m1s\u001b[0m 670us/step - loss: 257841872896.0000 - mean_absolute_error: 258633.8594 - val_loss: 243934920704.0000 - val_mean_absolute_error: 251168.7344\n",
      "Epoch 43/50\n",
      "\u001b[1m1659/1659\u001b[0m \u001b[32m━━━━━━━━━━━━━━━━━━━━\u001b[0m\u001b[37m\u001b[0m \u001b[1m1s\u001b[0m 680us/step - loss: 287487852544.0000 - mean_absolute_error: 265737.5312 - val_loss: 243796099072.0000 - val_mean_absolute_error: 251111.7188\n",
      "Epoch 44/50\n",
      "\u001b[1m1659/1659\u001b[0m \u001b[32m━━━━━━━━━━━━━━━━━━━━\u001b[0m\u001b[37m\u001b[0m \u001b[1m1s\u001b[0m 730us/step - loss: 254746804224.0000 - mean_absolute_error: 255865.6094 - val_loss: 243662569472.0000 - val_mean_absolute_error: 251815.1250\n",
      "Epoch 45/50\n",
      "\u001b[1m1659/1659\u001b[0m \u001b[32m━━━━━━━━━━━━━━━━━━━━\u001b[0m\u001b[37m\u001b[0m \u001b[1m1s\u001b[0m 668us/step - loss: 289046429696.0000 - mean_absolute_error: 265826.5938 - val_loss: 243560153088.0000 - val_mean_absolute_error: 251654.2500\n",
      "Epoch 46/50\n",
      "\u001b[1m1659/1659\u001b[0m \u001b[32m━━━━━━━━━━━━━━━━━━━━\u001b[0m\u001b[37m\u001b[0m \u001b[1m1s\u001b[0m 677us/step - loss: 266490462208.0000 - mean_absolute_error: 261005.3125 - val_loss: 243457343488.0000 - val_mean_absolute_error: 251358.5156\n",
      "Epoch 47/50\n",
      "\u001b[1m1659/1659\u001b[0m \u001b[32m━━━━━━━━━━━━━━━━━━━━\u001b[0m\u001b[37m\u001b[0m \u001b[1m1s\u001b[0m 770us/step - loss: 273214685184.0000 - mean_absolute_error: 262015.3281 - val_loss: 243333316608.0000 - val_mean_absolute_error: 250751.5625\n",
      "Epoch 48/50\n",
      "\u001b[1m1659/1659\u001b[0m \u001b[32m━━━━━━━━━━━━━━━━━━━━\u001b[0m\u001b[37m\u001b[0m \u001b[1m1s\u001b[0m 667us/step - loss: 271271952384.0000 - mean_absolute_error: 259159.9219 - val_loss: 243212091392.0000 - val_mean_absolute_error: 250658.8281\n",
      "Epoch 49/50\n",
      "\u001b[1m1659/1659\u001b[0m \u001b[32m━━━━━━━━━━━━━━━━━━━━\u001b[0m\u001b[37m\u001b[0m \u001b[1m1s\u001b[0m 664us/step - loss: 267793793024.0000 - mean_absolute_error: 261559.9062 - val_loss: 243135512576.0000 - val_mean_absolute_error: 251644.0312\n",
      "Epoch 50/50\n",
      "\u001b[1m1659/1659\u001b[0m \u001b[32m━━━━━━━━━━━━━━━━━━━━\u001b[0m\u001b[37m\u001b[0m \u001b[1m1s\u001b[0m 721us/step - loss: 279382425600.0000 - mean_absolute_error: 265840.5312 - val_loss: 243012468736.0000 - val_mean_absolute_error: 250453.2188\n",
      "\u001b[1m162/162\u001b[0m \u001b[32m━━━━━━━━━━━━━━━━━━━━\u001b[0m\u001b[37m\u001b[0m \u001b[1m0s\u001b[0m 461us/step\n",
      "Rede neural sequencial, com uma camada de entrada, uma oculta e uma de saída relu.\n",
      "Mean Squared Error: 255634508128.62964\n",
      "Mean Absolute Error: 253617.9974320023\n"
     ]
    }
   ],
   "source": [
    "scaler = StandardScaler()\n",
    "X_train_scaled = scaler.fit_transform(X_train)\n",
    "X_test_scaled = scaler.transform(X_test)\n",
    "model = Sequential()\n",
    "model.add(Dense(64, input_dim=X_train.shape[1], activation='relu'))\n",
    "model.add(Dense(32, activation='relu'))\n",
    "model.add(Dense(1))  \n",
    "model.compile(loss='mean_squared_error', optimizer='adam', metrics=['mean_absolute_error'])\n",
    "history = model.fit(X_train_scaled, y_train, epochs=50, batch_size=10, validation_split=0.2, verbose=1)\n",
    "y_pred = model.predict(X_test_scaled)\n",
    "mse = mean_squared_error(y_test, y_pred)\n",
    "mae = mean_absolute_error(y_test, y_pred)\n",
    "print(\"Rede neural sequencial, com uma camada de entrada, uma oculta e uma de saída relu.\")\n",
    "print(f'Mean Squared Error: {mse}')\n",
    "print(f'Mean Absolute Error: {mae}')\n",
    "#resultado foi bem ruim"
   ]
  },
  {
   "cell_type": "code",
   "execution_count": 99,
   "metadata": {},
   "outputs": [
    {
     "name": "stdout",
     "output_type": "stream",
     "text": [
      "Epoch 1/100\n"
     ]
    },
    {
     "name": "stderr",
     "output_type": "stream",
     "text": [
      "/home/vandelsoncleitoso/.local/lib/python3.10/site-packages/keras/src/layers/core/dense.py:86: UserWarning: Do not pass an `input_shape`/`input_dim` argument to a layer. When using Sequential models, prefer using an `Input(shape)` object as the first layer in the model instead.\n",
      "  super().__init__(activity_regularizer=activity_regularizer, **kwargs)\n"
     ]
    },
    {
     "name": "stdout",
     "output_type": "stream",
     "text": [
      "\u001b[1m1037/1037\u001b[0m \u001b[32m━━━━━━━━━━━━━━━━━━━━\u001b[0m\u001b[37m\u001b[0m \u001b[1m2s\u001b[0m 1ms/step - loss: 452638375936.0000 - mean_absolute_error: 321684.1562 - val_loss: 282488832000.0000 - val_mean_absolute_error: 279543.6250\n",
      "Epoch 2/100\n",
      "\u001b[1m1037/1037\u001b[0m \u001b[32m━━━━━━━━━━━━━━━━━━━━\u001b[0m\u001b[37m\u001b[0m \u001b[1m1s\u001b[0m 1ms/step - loss: 297711206400.0000 - mean_absolute_error: 291703.5938 - val_loss: 256733069312.0000 - val_mean_absolute_error: 269920.8438\n",
      "Epoch 3/100\n",
      "\u001b[1m1037/1037\u001b[0m \u001b[32m━━━━━━━━━━━━━━━━━━━━\u001b[0m\u001b[37m\u001b[0m \u001b[1m1s\u001b[0m 1ms/step - loss: 287606571008.0000 - mean_absolute_error: 281677.1562 - val_loss: 248987123712.0000 - val_mean_absolute_error: 257216.6250\n",
      "Epoch 4/100\n",
      "\u001b[1m1037/1037\u001b[0m \u001b[32m━━━━━━━━━━━━━━━━━━━━\u001b[0m\u001b[37m\u001b[0m \u001b[1m1s\u001b[0m 1ms/step - loss: 272811917312.0000 - mean_absolute_error: 266343.1562 - val_loss: 245981298688.0000 - val_mean_absolute_error: 257085.7812\n",
      "Epoch 5/100\n",
      "\u001b[1m1037/1037\u001b[0m \u001b[32m━━━━━━━━━━━━━━━━━━━━\u001b[0m\u001b[37m\u001b[0m \u001b[1m1s\u001b[0m 1ms/step - loss: 299838603264.0000 - mean_absolute_error: 273773.9375 - val_loss: 245000306688.0000 - val_mean_absolute_error: 257206.7031\n",
      "Epoch 6/100\n",
      "\u001b[1m1037/1037\u001b[0m \u001b[32m━━━━━━━━━━━━━━━━━━━━\u001b[0m\u001b[37m\u001b[0m \u001b[1m1s\u001b[0m 1ms/step - loss: 268418940928.0000 - mean_absolute_error: 265057.4688 - val_loss: 244726038528.0000 - val_mean_absolute_error: 249627.5312\n",
      "Epoch 7/100\n",
      "\u001b[1m1037/1037\u001b[0m \u001b[32m━━━━━━━━━━━━━━━━━━━━\u001b[0m\u001b[37m\u001b[0m \u001b[1m1s\u001b[0m 1ms/step - loss: 290622406656.0000 - mean_absolute_error: 267853.9375 - val_loss: 244010352640.0000 - val_mean_absolute_error: 246851.8438\n",
      "Epoch 8/100\n",
      "\u001b[1m1037/1037\u001b[0m \u001b[32m━━━━━━━━━━━━━━━━━━━━\u001b[0m\u001b[37m\u001b[0m \u001b[1m1s\u001b[0m 1ms/step - loss: 276961329152.0000 - mean_absolute_error: 262379.9688 - val_loss: 243381321728.0000 - val_mean_absolute_error: 251242.3438\n",
      "Epoch 9/100\n",
      "\u001b[1m1037/1037\u001b[0m \u001b[32m━━━━━━━━━━━━━━━━━━━━\u001b[0m\u001b[37m\u001b[0m \u001b[1m1s\u001b[0m 1ms/step - loss: 250279444480.0000 - mean_absolute_error: 256464.9062 - val_loss: 243136823296.0000 - val_mean_absolute_error: 249862.9219\n",
      "Epoch 10/100\n",
      "\u001b[1m1037/1037\u001b[0m \u001b[32m━━━━━━━━━━━━━━━━━━━━\u001b[0m\u001b[37m\u001b[0m \u001b[1m1s\u001b[0m 1ms/step - loss: 274933710848.0000 - mean_absolute_error: 264512.6875 - val_loss: 242726699008.0000 - val_mean_absolute_error: 251232.7812\n",
      "Epoch 11/100\n",
      "\u001b[1m1037/1037\u001b[0m \u001b[32m━━━━━━━━━━━━━━━━━━━━\u001b[0m\u001b[37m\u001b[0m \u001b[1m1s\u001b[0m 1ms/step - loss: 259965353984.0000 - mean_absolute_error: 257742.5625 - val_loss: 242676482048.0000 - val_mean_absolute_error: 246942.3438\n",
      "Epoch 12/100\n",
      "\u001b[1m1037/1037\u001b[0m \u001b[32m━━━━━━━━━━━━━━━━━━━━\u001b[0m\u001b[37m\u001b[0m \u001b[1m1s\u001b[0m 1ms/step - loss: 285740826624.0000 - mean_absolute_error: 263962.6250 - val_loss: 242054529024.0000 - val_mean_absolute_error: 247213.0000\n",
      "Epoch 13/100\n",
      "\u001b[1m1037/1037\u001b[0m \u001b[32m━━━━━━━━━━━━━━━━━━━━\u001b[0m\u001b[37m\u001b[0m \u001b[1m1s\u001b[0m 1ms/step - loss: 263249575936.0000 - mean_absolute_error: 259066.0469 - val_loss: 241576067072.0000 - val_mean_absolute_error: 249679.3281\n",
      "Epoch 14/100\n",
      "\u001b[1m1037/1037\u001b[0m \u001b[32m━━━━━━━━━━━━━━━━━━━━\u001b[0m\u001b[37m\u001b[0m \u001b[1m1s\u001b[0m 971us/step - loss: 280707956736.0000 - mean_absolute_error: 266935.8125 - val_loss: 241257971712.0000 - val_mean_absolute_error: 250771.9531\n",
      "Epoch 15/100\n",
      "\u001b[1m1037/1037\u001b[0m \u001b[32m━━━━━━━━━━━━━━━━━━━━\u001b[0m\u001b[37m\u001b[0m \u001b[1m1s\u001b[0m 1ms/step - loss: 267739561984.0000 - mean_absolute_error: 263104.0938 - val_loss: 240660185088.0000 - val_mean_absolute_error: 248066.7344\n",
      "Epoch 16/100\n",
      "\u001b[1m1037/1037\u001b[0m \u001b[32m━━━━━━━━━━━━━━━━━━━━\u001b[0m\u001b[37m\u001b[0m \u001b[1m1s\u001b[0m 1ms/step - loss: 270618673152.0000 - mean_absolute_error: 260358.7344 - val_loss: 240286040064.0000 - val_mean_absolute_error: 246638.5625\n",
      "Epoch 17/100\n",
      "\u001b[1m1037/1037\u001b[0m \u001b[32m━━━━━━━━━━━━━━━━━━━━\u001b[0m\u001b[37m\u001b[0m \u001b[1m1s\u001b[0m 1ms/step - loss: 269599227904.0000 - mean_absolute_error: 260166.2812 - val_loss: 239716368384.0000 - val_mean_absolute_error: 246832.1875\n",
      "Epoch 18/100\n",
      "\u001b[1m1037/1037\u001b[0m \u001b[32m━━━━━━━━━━━━━━━━━━━━\u001b[0m\u001b[37m\u001b[0m \u001b[1m1s\u001b[0m 1ms/step - loss: 288188334080.0000 - mean_absolute_error: 265743.4062 - val_loss: 239113994240.0000 - val_mean_absolute_error: 244212.0000\n",
      "Epoch 19/100\n",
      "\u001b[1m1037/1037\u001b[0m \u001b[32m━━━━━━━━━━━━━━━━━━━━\u001b[0m\u001b[37m\u001b[0m \u001b[1m1s\u001b[0m 997us/step - loss: 263036518400.0000 - mean_absolute_error: 258197.0312 - val_loss: 238317174784.0000 - val_mean_absolute_error: 246042.0312\n",
      "Epoch 20/100\n",
      "\u001b[1m1037/1037\u001b[0m \u001b[32m━━━━━━━━━━━━━━━━━━━━\u001b[0m\u001b[37m\u001b[0m \u001b[1m1s\u001b[0m 1ms/step - loss: 265490087936.0000 - mean_absolute_error: 258683.2500 - val_loss: 237401980928.0000 - val_mean_absolute_error: 242312.6406\n",
      "Epoch 21/100\n",
      "\u001b[1m1037/1037\u001b[0m \u001b[32m━━━━━━━━━━━━━━━━━━━━\u001b[0m\u001b[37m\u001b[0m \u001b[1m1s\u001b[0m 1ms/step - loss: 260304568320.0000 - mean_absolute_error: 257303.0781 - val_loss: 235865751552.0000 - val_mean_absolute_error: 244477.8281\n",
      "Epoch 22/100\n",
      "\u001b[1m1037/1037\u001b[0m \u001b[32m━━━━━━━━━━━━━━━━━━━━\u001b[0m\u001b[37m\u001b[0m \u001b[1m1s\u001b[0m 1ms/step - loss: 249882443776.0000 - mean_absolute_error: 251318.1406 - val_loss: 234231939072.0000 - val_mean_absolute_error: 247766.4688\n",
      "Epoch 23/100\n",
      "\u001b[1m1037/1037\u001b[0m \u001b[32m━━━━━━━━━━━━━━━━━━━━\u001b[0m\u001b[37m\u001b[0m \u001b[1m1s\u001b[0m 1ms/step - loss: 284967141376.0000 - mean_absolute_error: 266725.9375 - val_loss: 232131411968.0000 - val_mean_absolute_error: 239954.0000\n",
      "Epoch 24/100\n",
      "\u001b[1m1037/1037\u001b[0m \u001b[32m━━━━━━━━━━━━━━━━━━━━\u001b[0m\u001b[37m\u001b[0m \u001b[1m1s\u001b[0m 1ms/step - loss: 258619310080.0000 - mean_absolute_error: 252675.2188 - val_loss: 229372297216.0000 - val_mean_absolute_error: 241248.0312\n",
      "Epoch 25/100\n",
      "\u001b[1m1037/1037\u001b[0m \u001b[32m━━━━━━━━━━━━━━━━━━━━\u001b[0m\u001b[37m\u001b[0m \u001b[1m1s\u001b[0m 1ms/step - loss: 250737786880.0000 - mean_absolute_error: 252173.3125 - val_loss: 226805334016.0000 - val_mean_absolute_error: 234952.7969\n",
      "Epoch 26/100\n",
      "\u001b[1m1037/1037\u001b[0m \u001b[32m━━━━━━━━━━━━━━━━━━━━\u001b[0m\u001b[37m\u001b[0m \u001b[1m1s\u001b[0m 1ms/step - loss: 254102519808.0000 - mean_absolute_error: 250812.3906 - val_loss: 222856282112.0000 - val_mean_absolute_error: 234618.1094\n",
      "Epoch 27/100\n",
      "\u001b[1m1037/1037\u001b[0m \u001b[32m━━━━━━━━━━━━━━━━━━━━\u001b[0m\u001b[37m\u001b[0m \u001b[1m1s\u001b[0m 1ms/step - loss: 243745357824.0000 - mean_absolute_error: 244328.1250 - val_loss: 219121451008.0000 - val_mean_absolute_error: 233140.5156\n",
      "Epoch 28/100\n",
      "\u001b[1m1037/1037\u001b[0m \u001b[32m━━━━━━━━━━━━━━━━━━━━\u001b[0m\u001b[37m\u001b[0m \u001b[1m1s\u001b[0m 1ms/step - loss: 211239944192.0000 - mean_absolute_error: 236147.0938 - val_loss: 215341563904.0000 - val_mean_absolute_error: 234053.2656\n",
      "Epoch 29/100\n",
      "\u001b[1m1037/1037\u001b[0m \u001b[32m━━━━━━━━━━━━━━━━━━━━\u001b[0m\u001b[37m\u001b[0m \u001b[1m1s\u001b[0m 1ms/step - loss: 230233931776.0000 - mean_absolute_error: 240766.8125 - val_loss: 211781648384.0000 - val_mean_absolute_error: 230811.4062\n",
      "Epoch 30/100\n",
      "\u001b[1m1037/1037\u001b[0m \u001b[32m━━━━━━━━━━━━━━━━━━━━\u001b[0m\u001b[37m\u001b[0m \u001b[1m1s\u001b[0m 1ms/step - loss: 261559681024.0000 - mean_absolute_error: 254663.6250 - val_loss: 208703635456.0000 - val_mean_absolute_error: 228078.0938\n",
      "Epoch 31/100\n",
      "\u001b[1m1037/1037\u001b[0m \u001b[32m━━━━━━━━━━━━━━━━━━━━\u001b[0m\u001b[37m\u001b[0m \u001b[1m1s\u001b[0m 1ms/step - loss: 227535126528.0000 - mean_absolute_error: 240432.0781 - val_loss: 205208764416.0000 - val_mean_absolute_error: 224163.7031\n",
      "Epoch 32/100\n",
      "\u001b[1m1037/1037\u001b[0m \u001b[32m━━━━━━━━━━━━━━━━━━━━\u001b[0m\u001b[37m\u001b[0m \u001b[1m1s\u001b[0m 1ms/step - loss: 234346250240.0000 - mean_absolute_error: 243241.5469 - val_loss: 201601089536.0000 - val_mean_absolute_error: 216426.6406\n",
      "Epoch 33/100\n",
      "\u001b[1m1037/1037\u001b[0m \u001b[32m━━━━━━━━━━━━━━━━━━━━\u001b[0m\u001b[37m\u001b[0m \u001b[1m1s\u001b[0m 1ms/step - loss: 231023476736.0000 - mean_absolute_error: 240444.0625 - val_loss: 199509671936.0000 - val_mean_absolute_error: 218130.1406\n",
      "Epoch 34/100\n",
      "\u001b[1m1037/1037\u001b[0m \u001b[32m━━━━━━━━━━━━━━━━━━━━\u001b[0m\u001b[37m\u001b[0m \u001b[1m1s\u001b[0m 1ms/step - loss: 249244155904.0000 - mean_absolute_error: 250344.3594 - val_loss: 196677746688.0000 - val_mean_absolute_error: 210873.1719\n",
      "Epoch 35/100\n",
      "\u001b[1m1037/1037\u001b[0m \u001b[32m━━━━━━━━━━━━━━━━━━━━\u001b[0m\u001b[37m\u001b[0m \u001b[1m1s\u001b[0m 1ms/step - loss: 215550705664.0000 - mean_absolute_error: 236430.9062 - val_loss: 193854226432.0000 - val_mean_absolute_error: 208766.4375\n",
      "Epoch 36/100\n",
      "\u001b[1m1037/1037\u001b[0m \u001b[32m━━━━━━━━━━━━━━━━━━━━\u001b[0m\u001b[37m\u001b[0m \u001b[1m2s\u001b[0m 1ms/step - loss: 221953916928.0000 - mean_absolute_error: 237876.2031 - val_loss: 192259801088.0000 - val_mean_absolute_error: 207630.6094\n",
      "Epoch 37/100\n",
      "\u001b[1m1037/1037\u001b[0m \u001b[32m━━━━━━━━━━━━━━━━━━━━\u001b[0m\u001b[37m\u001b[0m \u001b[1m1s\u001b[0m 1ms/step - loss: 225121878016.0000 - mean_absolute_error: 239285.0000 - val_loss: 190123229184.0000 - val_mean_absolute_error: 206594.7812\n",
      "Epoch 38/100\n",
      "\u001b[1m1037/1037\u001b[0m \u001b[32m━━━━━━━━━━━━━━━━━━━━\u001b[0m\u001b[37m\u001b[0m \u001b[1m1s\u001b[0m 1ms/step - loss: 220898885632.0000 - mean_absolute_error: 237832.2188 - val_loss: 189268099072.0000 - val_mean_absolute_error: 204015.6875\n",
      "Epoch 39/100\n",
      "\u001b[1m1037/1037\u001b[0m \u001b[32m━━━━━━━━━━━━━━━━━━━━\u001b[0m\u001b[37m\u001b[0m \u001b[1m1s\u001b[0m 1ms/step - loss: 206250721280.0000 - mean_absolute_error: 230916.1719 - val_loss: 188942499840.0000 - val_mean_absolute_error: 209207.3594\n",
      "Epoch 40/100\n",
      "\u001b[1m1037/1037\u001b[0m \u001b[32m━━━━━━━━━━━━━━━━━━━━\u001b[0m\u001b[37m\u001b[0m \u001b[1m1s\u001b[0m 904us/step - loss: 239681372160.0000 - mean_absolute_error: 243002.7500 - val_loss: 186232553472.0000 - val_mean_absolute_error: 204826.7188\n",
      "Epoch 41/100\n",
      "\u001b[1m1037/1037\u001b[0m \u001b[32m━━━━━━━━━━━━━━━━━━━━\u001b[0m\u001b[37m\u001b[0m \u001b[1m1s\u001b[0m 969us/step - loss: 227817963520.0000 - mean_absolute_error: 238307.0469 - val_loss: 184784109568.0000 - val_mean_absolute_error: 201868.8281\n",
      "Epoch 42/100\n",
      "\u001b[1m1037/1037\u001b[0m \u001b[32m━━━━━━━━━━━━━━━━━━━━\u001b[0m\u001b[37m\u001b[0m \u001b[1m1s\u001b[0m 916us/step - loss: 201850945536.0000 - mean_absolute_error: 230921.0938 - val_loss: 184886444032.0000 - val_mean_absolute_error: 205915.2969\n",
      "Epoch 43/100\n",
      "\u001b[1m1037/1037\u001b[0m \u001b[32m━━━━━━━━━━━━━━━━━━━━\u001b[0m\u001b[37m\u001b[0m \u001b[1m1s\u001b[0m 922us/step - loss: 219791327232.0000 - mean_absolute_error: 236252.6875 - val_loss: 183492149248.0000 - val_mean_absolute_error: 199944.8281\n",
      "Epoch 44/100\n",
      "\u001b[1m1037/1037\u001b[0m \u001b[32m━━━━━━━━━━━━━━━━━━━━\u001b[0m\u001b[37m\u001b[0m \u001b[1m1s\u001b[0m 916us/step - loss: 206354235392.0000 - mean_absolute_error: 230972.2812 - val_loss: 182364356608.0000 - val_mean_absolute_error: 197289.7031\n",
      "Epoch 45/100\n",
      "\u001b[1m1037/1037\u001b[0m \u001b[32m━━━━━━━━━━━━━━━━━━━━\u001b[0m\u001b[37m\u001b[0m \u001b[1m1s\u001b[0m 975us/step - loss: 212282605568.0000 - mean_absolute_error: 232562.4844 - val_loss: 181446410240.0000 - val_mean_absolute_error: 197561.3438\n",
      "Epoch 46/100\n",
      "\u001b[1m1037/1037\u001b[0m \u001b[32m━━━━━━━━━━━━━━━━━━━━\u001b[0m\u001b[37m\u001b[0m \u001b[1m1s\u001b[0m 892us/step - loss: 219317256192.0000 - mean_absolute_error: 235072.2656 - val_loss: 180340031488.0000 - val_mean_absolute_error: 198026.7500\n",
      "Epoch 47/100\n",
      "\u001b[1m1037/1037\u001b[0m \u001b[32m━━━━━━━━━━━━━━━━━━━━\u001b[0m\u001b[37m\u001b[0m \u001b[1m1s\u001b[0m 938us/step - loss: 218899316736.0000 - mean_absolute_error: 235173.9375 - val_loss: 180197883904.0000 - val_mean_absolute_error: 195272.8594\n",
      "Epoch 48/100\n",
      "\u001b[1m1037/1037\u001b[0m \u001b[32m━━━━━━━━━━━━━━━━━━━━\u001b[0m\u001b[37m\u001b[0m \u001b[1m1s\u001b[0m 951us/step - loss: 215505420288.0000 - mean_absolute_error: 232371.5781 - val_loss: 179977682944.0000 - val_mean_absolute_error: 199502.6250\n",
      "Epoch 49/100\n",
      "\u001b[1m1037/1037\u001b[0m \u001b[32m━━━━━━━━━━━━━━━━━━━━\u001b[0m\u001b[37m\u001b[0m \u001b[1m1s\u001b[0m 899us/step - loss: 206353154048.0000 - mean_absolute_error: 231206.6562 - val_loss: 178164449280.0000 - val_mean_absolute_error: 194308.8281\n",
      "Epoch 50/100\n",
      "\u001b[1m1037/1037\u001b[0m \u001b[32m━━━━━━━━━━━━━━━━━━━━\u001b[0m\u001b[37m\u001b[0m \u001b[1m1s\u001b[0m 842us/step - loss: 209949687808.0000 - mean_absolute_error: 230763.3125 - val_loss: 177821089792.0000 - val_mean_absolute_error: 194414.2344\n",
      "Epoch 51/100\n",
      "\u001b[1m1037/1037\u001b[0m \u001b[32m━━━━━━━━━━━━━━━━━━━━\u001b[0m\u001b[37m\u001b[0m \u001b[1m1s\u001b[0m 959us/step - loss: 206161428480.0000 - mean_absolute_error: 230912.6406 - val_loss: 177950359552.0000 - val_mean_absolute_error: 196281.0469\n",
      "Epoch 52/100\n",
      "\u001b[1m1037/1037\u001b[0m \u001b[32m━━━━━━━━━━━━━━━━━━━━\u001b[0m\u001b[37m\u001b[0m \u001b[1m1s\u001b[0m 904us/step - loss: 233972252672.0000 - mean_absolute_error: 239096.7188 - val_loss: 175800532992.0000 - val_mean_absolute_error: 194070.8594\n",
      "Epoch 53/100\n",
      "\u001b[1m1037/1037\u001b[0m \u001b[32m━━━━━━━━━━━━━━━━━━━━\u001b[0m\u001b[37m\u001b[0m \u001b[1m1s\u001b[0m 1ms/step - loss: 211917225984.0000 - mean_absolute_error: 232656.7344 - val_loss: 176033890304.0000 - val_mean_absolute_error: 191827.2812\n",
      "Epoch 54/100\n",
      "\u001b[1m1037/1037\u001b[0m \u001b[32m━━━━━━━━━━━━━━━━━━━━\u001b[0m\u001b[37m\u001b[0m \u001b[1m1s\u001b[0m 1ms/step - loss: 205308067840.0000 - mean_absolute_error: 229800.8438 - val_loss: 175529115648.0000 - val_mean_absolute_error: 191851.3125\n",
      "Epoch 55/100\n",
      "\u001b[1m1037/1037\u001b[0m \u001b[32m━━━━━━━━━━━━━━━━━━━━\u001b[0m\u001b[37m\u001b[0m \u001b[1m1s\u001b[0m 900us/step - loss: 208707125248.0000 - mean_absolute_error: 231116.7969 - val_loss: 174275821568.0000 - val_mean_absolute_error: 193839.6562\n",
      "Epoch 56/100\n",
      "\u001b[1m1037/1037\u001b[0m \u001b[32m━━━━━━━━━━━━━━━━━━━━\u001b[0m\u001b[37m\u001b[0m \u001b[1m1s\u001b[0m 840us/step - loss: 202161029120.0000 - mean_absolute_error: 226953.7812 - val_loss: 173492076544.0000 - val_mean_absolute_error: 188934.9531\n",
      "Epoch 57/100\n",
      "\u001b[1m1037/1037\u001b[0m \u001b[32m━━━━━━━━━━━━━━━━━━━━\u001b[0m\u001b[37m\u001b[0m \u001b[1m1s\u001b[0m 815us/step - loss: 212926038016.0000 - mean_absolute_error: 231363.0156 - val_loss: 173589282816.0000 - val_mean_absolute_error: 189718.6562\n",
      "Epoch 58/100\n",
      "\u001b[1m1037/1037\u001b[0m \u001b[32m━━━━━━━━━━━━━━━━━━━━\u001b[0m\u001b[37m\u001b[0m \u001b[1m1s\u001b[0m 1ms/step - loss: 209493999616.0000 - mean_absolute_error: 230041.4844 - val_loss: 172679725056.0000 - val_mean_absolute_error: 187191.2344\n",
      "Epoch 59/100\n",
      "\u001b[1m1037/1037\u001b[0m \u001b[32m━━━━━━━━━━━━━━━━━━━━\u001b[0m\u001b[37m\u001b[0m \u001b[1m1s\u001b[0m 1ms/step - loss: 199475200000.0000 - mean_absolute_error: 226531.0312 - val_loss: 171142561792.0000 - val_mean_absolute_error: 190887.7969\n",
      "Epoch 60/100\n",
      "\u001b[1m1037/1037\u001b[0m \u001b[32m━━━━━━━━━━━━━━━━━━━━\u001b[0m\u001b[37m\u001b[0m \u001b[1m1s\u001b[0m 1ms/step - loss: 209550016512.0000 - mean_absolute_error: 233052.1406 - val_loss: 173439107072.0000 - val_mean_absolute_error: 197770.2500\n",
      "Epoch 61/100\n",
      "\u001b[1m1037/1037\u001b[0m \u001b[32m━━━━━━━━━━━━━━━━━━━━\u001b[0m\u001b[37m\u001b[0m \u001b[1m2s\u001b[0m 2ms/step - loss: 216963956736.0000 - mean_absolute_error: 232963.9219 - val_loss: 171668488192.0000 - val_mean_absolute_error: 186223.8906\n",
      "Epoch 62/100\n",
      "\u001b[1m1037/1037\u001b[0m \u001b[32m━━━━━━━━━━━━━━━━━━━━\u001b[0m\u001b[37m\u001b[0m \u001b[1m1s\u001b[0m 1ms/step - loss: 197393072128.0000 - mean_absolute_error: 225623.5781 - val_loss: 170766319616.0000 - val_mean_absolute_error: 189523.3594\n",
      "Epoch 63/100\n",
      "\u001b[1m1037/1037\u001b[0m \u001b[32m━━━━━━━━━━━━━━━━━━━━\u001b[0m\u001b[37m\u001b[0m \u001b[1m1s\u001b[0m 1ms/step - loss: 205404913664.0000 - mean_absolute_error: 227364.1250 - val_loss: 170319036416.0000 - val_mean_absolute_error: 191534.1719\n",
      "Epoch 64/100\n",
      "\u001b[1m1037/1037\u001b[0m \u001b[32m━━━━━━━━━━━━━━━━━━━━\u001b[0m\u001b[37m\u001b[0m \u001b[1m1s\u001b[0m 1ms/step - loss: 210971295744.0000 - mean_absolute_error: 230537.2656 - val_loss: 168605106176.0000 - val_mean_absolute_error: 186928.7812\n",
      "Epoch 65/100\n",
      "\u001b[1m1037/1037\u001b[0m \u001b[32m━━━━━━━━━━━━━━━━━━━━\u001b[0m\u001b[37m\u001b[0m \u001b[1m1s\u001b[0m 877us/step - loss: 192100532224.0000 - mean_absolute_error: 224032.6875 - val_loss: 168850997248.0000 - val_mean_absolute_error: 182741.1562\n",
      "Epoch 66/100\n",
      "\u001b[1m1037/1037\u001b[0m \u001b[32m━━━━━━━━━━━━━━━━━━━━\u001b[0m\u001b[37m\u001b[0m \u001b[1m1s\u001b[0m 942us/step - loss: 202792091648.0000 - mean_absolute_error: 225858.8438 - val_loss: 168146452480.0000 - val_mean_absolute_error: 188216.2969\n",
      "Epoch 67/100\n",
      "\u001b[1m1037/1037\u001b[0m \u001b[32m━━━━━━━━━━━━━━━━━━━━\u001b[0m\u001b[37m\u001b[0m \u001b[1m1s\u001b[0m 914us/step - loss: 197913788416.0000 - mean_absolute_error: 225183.6562 - val_loss: 167225884672.0000 - val_mean_absolute_error: 188733.5156\n",
      "Epoch 68/100\n",
      "\u001b[1m1037/1037\u001b[0m \u001b[32m━━━━━━━━━━━━━━━━━━━━\u001b[0m\u001b[37m\u001b[0m \u001b[1m1s\u001b[0m 835us/step - loss: 203786944512.0000 - mean_absolute_error: 227545.2500 - val_loss: 167167655936.0000 - val_mean_absolute_error: 183027.5781\n",
      "Epoch 69/100\n",
      "\u001b[1m1037/1037\u001b[0m \u001b[32m━━━━━━━━━━━━━━━━━━━━\u001b[0m\u001b[37m\u001b[0m \u001b[1m1s\u001b[0m 857us/step - loss: 200741126144.0000 - mean_absolute_error: 225401.2031 - val_loss: 166259326976.0000 - val_mean_absolute_error: 185634.0312\n",
      "Epoch 70/100\n",
      "\u001b[1m1037/1037\u001b[0m \u001b[32m━━━━━━━━━━━━━━━━━━━━\u001b[0m\u001b[37m\u001b[0m \u001b[1m1s\u001b[0m 869us/step - loss: 200790605824.0000 - mean_absolute_error: 226843.1562 - val_loss: 165589221376.0000 - val_mean_absolute_error: 187526.9062\n",
      "Epoch 71/100\n",
      "\u001b[1m1037/1037\u001b[0m \u001b[32m━━━━━━━━━━━━━━━━━━━━\u001b[0m\u001b[37m\u001b[0m \u001b[1m1s\u001b[0m 870us/step - loss: 189800464384.0000 - mean_absolute_error: 221316.2656 - val_loss: 165724225536.0000 - val_mean_absolute_error: 188163.9375\n",
      "Epoch 72/100\n",
      "\u001b[1m1037/1037\u001b[0m \u001b[32m━━━━━━━━━━━━━━━━━━━━\u001b[0m\u001b[37m\u001b[0m \u001b[1m1s\u001b[0m 884us/step - loss: 194360000512.0000 - mean_absolute_error: 219881.5469 - val_loss: 164432740352.0000 - val_mean_absolute_error: 191695.6250\n",
      "Epoch 73/100\n",
      "\u001b[1m1037/1037\u001b[0m \u001b[32m━━━━━━━━━━━━━━━━━━━━\u001b[0m\u001b[37m\u001b[0m \u001b[1m1s\u001b[0m 863us/step - loss: 199889944576.0000 - mean_absolute_error: 224807.8438 - val_loss: 163008970752.0000 - val_mean_absolute_error: 182100.7344\n",
      "Epoch 74/100\n",
      "\u001b[1m1037/1037\u001b[0m \u001b[32m━━━━━━━━━━━━━━━━━━━━\u001b[0m\u001b[37m\u001b[0m \u001b[1m1s\u001b[0m 1ms/step - loss: 187927986176.0000 - mean_absolute_error: 219775.6719 - val_loss: 162573287424.0000 - val_mean_absolute_error: 183525.1250\n",
      "Epoch 75/100\n",
      "\u001b[1m1037/1037\u001b[0m \u001b[32m━━━━━━━━━━━━━━━━━━━━\u001b[0m\u001b[37m\u001b[0m \u001b[1m1s\u001b[0m 1ms/step - loss: 194568585216.0000 - mean_absolute_error: 222733.8594 - val_loss: 162200387584.0000 - val_mean_absolute_error: 177189.8125\n",
      "Epoch 76/100\n",
      "\u001b[1m1037/1037\u001b[0m \u001b[32m━━━━━━━━━━━━━━━━━━━━\u001b[0m\u001b[37m\u001b[0m \u001b[1m1s\u001b[0m 1ms/step - loss: 205600931840.0000 - mean_absolute_error: 225083.3750 - val_loss: 161339817984.0000 - val_mean_absolute_error: 182248.9688\n",
      "Epoch 77/100\n",
      "\u001b[1m1037/1037\u001b[0m \u001b[32m━━━━━━━━━━━━━━━━━━━━\u001b[0m\u001b[37m\u001b[0m \u001b[1m1s\u001b[0m 933us/step - loss: 201536045056.0000 - mean_absolute_error: 228197.9688 - val_loss: 161188036608.0000 - val_mean_absolute_error: 188430.0781\n",
      "Epoch 78/100\n",
      "\u001b[1m1037/1037\u001b[0m \u001b[32m━━━━━━━━━━━━━━━━━━━━\u001b[0m\u001b[37m\u001b[0m \u001b[1m1s\u001b[0m 929us/step - loss: 197922701312.0000 - mean_absolute_error: 225555.5312 - val_loss: 159726878720.0000 - val_mean_absolute_error: 177087.0312\n",
      "Epoch 79/100\n",
      "\u001b[1m1037/1037\u001b[0m \u001b[32m━━━━━━━━━━━━━━━━━━━━\u001b[0m\u001b[37m\u001b[0m \u001b[1m1s\u001b[0m 1ms/step - loss: 204751290368.0000 - mean_absolute_error: 226864.3438 - val_loss: 159708053504.0000 - val_mean_absolute_error: 181757.5625\n",
      "Epoch 80/100\n",
      "\u001b[1m1037/1037\u001b[0m \u001b[32m━━━━━━━━━━━━━━━━━━━━\u001b[0m\u001b[37m\u001b[0m \u001b[1m1s\u001b[0m 937us/step - loss: 189982081024.0000 - mean_absolute_error: 221252.4531 - val_loss: 158015684608.0000 - val_mean_absolute_error: 176959.3594\n",
      "Epoch 81/100\n",
      "\u001b[1m1037/1037\u001b[0m \u001b[32m━━━━━━━━━━━━━━━━━━━━\u001b[0m\u001b[37m\u001b[0m \u001b[1m1s\u001b[0m 931us/step - loss: 181435334656.0000 - mean_absolute_error: 215281.3906 - val_loss: 156557082624.0000 - val_mean_absolute_error: 184410.4688\n",
      "Epoch 82/100\n",
      "\u001b[1m1037/1037\u001b[0m \u001b[32m━━━━━━━━━━━━━━━━━━━━\u001b[0m\u001b[37m\u001b[0m \u001b[1m1s\u001b[0m 945us/step - loss: 183555244032.0000 - mean_absolute_error: 218548.3594 - val_loss: 156232957952.0000 - val_mean_absolute_error: 175379.6875\n",
      "Epoch 83/100\n",
      "\u001b[1m1037/1037\u001b[0m \u001b[32m━━━━━━━━━━━━━━━━━━━━\u001b[0m\u001b[37m\u001b[0m \u001b[1m1s\u001b[0m 838us/step - loss: 200109031424.0000 - mean_absolute_error: 223249.6875 - val_loss: 155193425920.0000 - val_mean_absolute_error: 177119.1875\n",
      "Epoch 84/100\n",
      "\u001b[1m1037/1037\u001b[0m \u001b[32m━━━━━━━━━━━━━━━━━━━━\u001b[0m\u001b[37m\u001b[0m \u001b[1m1s\u001b[0m 816us/step - loss: 203615830016.0000 - mean_absolute_error: 222934.6250 - val_loss: 154888372224.0000 - val_mean_absolute_error: 178680.9844\n",
      "Epoch 85/100\n",
      "\u001b[1m1037/1037\u001b[0m \u001b[32m━━━━━━━━━━━━━━━━━━━━\u001b[0m\u001b[37m\u001b[0m \u001b[1m1s\u001b[0m 835us/step - loss: 177909776384.0000 - mean_absolute_error: 213519.6562 - val_loss: 152998985728.0000 - val_mean_absolute_error: 170884.4688\n",
      "Epoch 86/100\n",
      "\u001b[1m1037/1037\u001b[0m \u001b[32m━━━━━━━━━━━━━━━━━━━━\u001b[0m\u001b[37m\u001b[0m \u001b[1m1s\u001b[0m 853us/step - loss: 189281632256.0000 - mean_absolute_error: 217980.2500 - val_loss: 152636719104.0000 - val_mean_absolute_error: 175975.7656\n",
      "Epoch 87/100\n",
      "\u001b[1m1037/1037\u001b[0m \u001b[32m━━━━━━━━━━━━━━━━━━━━\u001b[0m\u001b[37m\u001b[0m \u001b[1m1s\u001b[0m 998us/step - loss: 200952135680.0000 - mean_absolute_error: 222795.1406 - val_loss: 152515870720.0000 - val_mean_absolute_error: 169067.8438\n",
      "Epoch 88/100\n",
      "\u001b[1m1037/1037\u001b[0m \u001b[32m━━━━━━━━━━━━━━━━━━━━\u001b[0m\u001b[37m\u001b[0m \u001b[1m1s\u001b[0m 878us/step - loss: 189126983680.0000 - mean_absolute_error: 218271.8594 - val_loss: 151085924352.0000 - val_mean_absolute_error: 184459.7031\n",
      "Epoch 89/100\n",
      "\u001b[1m1037/1037\u001b[0m \u001b[32m━━━━━━━━━━━━━━━━━━━━\u001b[0m\u001b[37m\u001b[0m \u001b[1m1s\u001b[0m 992us/step - loss: 190701551616.0000 - mean_absolute_error: 217592.9375 - val_loss: 147929874432.0000 - val_mean_absolute_error: 171453.7812\n",
      "Epoch 90/100\n",
      "\u001b[1m1037/1037\u001b[0m \u001b[32m━━━━━━━━━━━━━━━━━━━━\u001b[0m\u001b[37m\u001b[0m \u001b[1m1s\u001b[0m 1ms/step - loss: 204471648256.0000 - mean_absolute_error: 224781.3281 - val_loss: 149021933568.0000 - val_mean_absolute_error: 175793.2188\n",
      "Epoch 91/100\n",
      "\u001b[1m1037/1037\u001b[0m \u001b[32m━━━━━━━━━━━━━━━━━━━━\u001b[0m\u001b[37m\u001b[0m \u001b[1m1s\u001b[0m 913us/step - loss: 190881185792.0000 - mean_absolute_error: 219592.3438 - val_loss: 146785927168.0000 - val_mean_absolute_error: 173907.3125\n",
      "Epoch 92/100\n",
      "\u001b[1m1037/1037\u001b[0m \u001b[32m━━━━━━━━━━━━━━━━━━━━\u001b[0m\u001b[37m\u001b[0m \u001b[1m1s\u001b[0m 924us/step - loss: 193928675328.0000 - mean_absolute_error: 221108.6562 - val_loss: 145370578944.0000 - val_mean_absolute_error: 175669.9062\n",
      "Epoch 93/100\n",
      "\u001b[1m1037/1037\u001b[0m \u001b[32m━━━━━━━━━━━━━━━━━━━━\u001b[0m\u001b[37m\u001b[0m \u001b[1m1s\u001b[0m 980us/step - loss: 193412005888.0000 - mean_absolute_error: 220457.5625 - val_loss: 144341942272.0000 - val_mean_absolute_error: 170982.3594\n",
      "Epoch 94/100\n",
      "\u001b[1m1037/1037\u001b[0m \u001b[32m━━━━━━━━━━━━━━━━━━━━\u001b[0m\u001b[37m\u001b[0m \u001b[1m1s\u001b[0m 966us/step - loss: 163399909376.0000 - mean_absolute_error: 209733.2031 - val_loss: 141629014016.0000 - val_mean_absolute_error: 161377.2656\n",
      "Epoch 95/100\n",
      "\u001b[1m1037/1037\u001b[0m \u001b[32m━━━━━━━━━━━━━━━━━━━━\u001b[0m\u001b[37m\u001b[0m \u001b[1m1s\u001b[0m 968us/step - loss: 182928097280.0000 - mean_absolute_error: 217537.0156 - val_loss: 139707842560.0000 - val_mean_absolute_error: 165339.2344\n",
      "Epoch 96/100\n",
      "\u001b[1m1037/1037\u001b[0m \u001b[32m━━━━━━━━━━━━━━━━━━━━\u001b[0m\u001b[37m\u001b[0m \u001b[1m1s\u001b[0m 1ms/step - loss: 167427850240.0000 - mean_absolute_error: 209602.3594 - val_loss: 139574919168.0000 - val_mean_absolute_error: 176683.8594\n",
      "Epoch 97/100\n",
      "\u001b[1m1037/1037\u001b[0m \u001b[32m━━━━━━━━━━━━━━━━━━━━\u001b[0m\u001b[37m\u001b[0m \u001b[1m1s\u001b[0m 880us/step - loss: 182613557248.0000 - mean_absolute_error: 216168.4375 - val_loss: 136579301376.0000 - val_mean_absolute_error: 161503.6094\n",
      "Epoch 98/100\n",
      "\u001b[1m1037/1037\u001b[0m \u001b[32m━━━━━━━━━━━━━━━━━━━━\u001b[0m\u001b[37m\u001b[0m \u001b[1m1s\u001b[0m 929us/step - loss: 178791989248.0000 - mean_absolute_error: 215624.8906 - val_loss: 136268660736.0000 - val_mean_absolute_error: 166863.4844\n",
      "Epoch 99/100\n",
      "\u001b[1m1037/1037\u001b[0m \u001b[32m━━━━━━━━━━━━━━━━━━━━\u001b[0m\u001b[37m\u001b[0m \u001b[1m1s\u001b[0m 1ms/step - loss: 166848184320.0000 - mean_absolute_error: 209287.7812 - val_loss: 135289004032.0000 - val_mean_absolute_error: 166461.2656\n",
      "Epoch 100/100\n",
      "\u001b[1m1037/1037\u001b[0m \u001b[32m━━━━━━━━━━━━━━━━━━━━\u001b[0m\u001b[37m\u001b[0m \u001b[1m1s\u001b[0m 938us/step - loss: 183032348672.0000 - mean_absolute_error: 215884.9219 - val_loss: 134512812032.0000 - val_mean_absolute_error: 166970.7656\n",
      "\u001b[1m162/162\u001b[0m \u001b[32m━━━━━━━━━━━━━━━━━━━━\u001b[0m\u001b[37m\u001b[0m \u001b[1m0s\u001b[0m 440us/step\n",
      "Rede neural aprimorada:\n",
      "Mean Squared Error: 145871372950.84036\n",
      "Mean Absolute Error: 172276.50514841668\n",
      "R² Score: 0.6095644301347916\n"
     ]
    }
   ],
   "source": [
    "scaler = StandardScaler()\n",
    "X_train_scaled = scaler.fit_transform(X_train)\n",
    "X_test_scaled = scaler.transform(X_test)\n",
    "\n",
    "model = Sequential()\n",
    "model.add(Dense(128, input_dim=X_train.shape[1], activation='relu', kernel_regularizer=l2(0.01)))\n",
    "model.add(Dropout(0.2))\n",
    "model.add(Dense(64, activation='relu', kernel_regularizer=l2(0.01)))\n",
    "model.add(Dropout(0.2))\n",
    "model.add(Dense(32, activation='relu', kernel_regularizer=l2(0.01)))\n",
    "model.add(Dense(1)) \n",
    "\n",
    "model.compile(loss='mean_squared_error', optimizer='adam', metrics=['mean_absolute_error'])\n",
    "\n",
    "history = model.fit(X_train_scaled, y_train, epochs=100, batch_size=16, validation_split=0.2, verbose=1)\n",
    "\n",
    "y_pred = model.predict(X_test_scaled)\n",
    "mse = mean_squared_error(y_test, y_pred)\n",
    "mae = mean_absolute_error(y_test, y_pred)\n",
    "r2 = r2_score(y_test, y_pred)\n",
    "\n",
    "print(\"Rede neural aprimorada:\")\n",
    "print(f'Mean Squared Error: {mse}')\n",
    "print(f'Mean Absolute Error: {mae}')\n",
    "print(f'R² Score: {r2}')\n"
   ]
  },
  {
   "cell_type": "markdown",
   "metadata": {},
   "source": [
    "Camada de Entrada:\n",
    "\n",
    "Dense(128, input_dim=X_train.shape[1], activation='relu', kernel_regularizer=l2(0.01)):\n",
    "\n",
    "Dense: Esta é uma camada densamente conectada, onde cada neurônio da camada está conectado a todos os neurônios da camada anterior.\n",
    "\n",
    "128: Número de neurônios nesta camada.\n",
    "\n",
    "input_dim=X_train.shape[1]: Define a dimensão de entrada (número de características de entrada). Isso informa à rede o número de entradas para a primeira camada.\n",
    "\n",
    "activation='relu': Função de ativação ReLU (Rectified Linear Unit). ReLU é usada para introduzir não-linearidade ao modelo, permitindo que ele aprenda relações mais complexas. A fórmula é f(x) = max(0, x).\n",
    "\n",
    "kernel_regularizer=l2(0.01): Aplica regularização L2 para penalizar pesos grandes, ajudando a prevenir overfitting.\n",
    "\n",
    "Camada de Dropout:\n",
    "\n",
    "Dropout(0.2): Dropout é uma técnica de regularização onde, durante o treinamento, uma fração de neurônios (neste caso, 20%) são desligados aleatoriamente em cada iteração. Isso ajuda a prevenir overfitting ao forçar a rede a aprender representações mais robustas das entradas.\n",
    "\n",
    "Camada Oculta:\n",
    "\n",
    "Dense(64, activation='relu', kernel_regularizer=l2(0.01)):\n",
    "\n",
    "64: Número de neurônios nesta camada oculta.\n",
    "\n",
    "activation='relu': Função de ativação ReLU.\n",
    "\n",
    "kernel_regularizer=l2(0.01): Regularização L2 para prevenir overfitting.\n",
    "\n",
    "Outra Camada de Dropout:\n",
    "\n",
    "Dropout(0.2): Outra camada de Dropout para aumentar a robustez e ajudar a prevenir overfitting.\n",
    "\n",
    "Camada Oculta Adicional:\n",
    "\n",
    "Dense(32, activation='relu', kernel_regularizer=l2(0.01)):\n",
    "\n",
    "32: Número de neurônios nesta camada oculta.\n",
    "\n",
    "activation='relu': Função de ativação ReLU.\n",
    "\n",
    "kernel_regularizer=l2(0.01): Regularização L2.\n",
    "\n",
    "Camada de Saída:\n",
    "\n",
    "Dense(1):\n",
    "\n",
    "Dense: Camada densamente conectada.\n",
    "\n",
    "1: Número de neurônios de saída, uma vez que estamos prevendo um valor contínuo (consumo).\n",
    "\n",
    "Em resumo, as camadas de entrada e ocultas processam as características de entrada através de transformações lineares seguidas pela aplicação de funções de ativação não-lineares (ReLU), o que permite à rede aprender padrões complexos nos dados. As camadas de Dropout ajudam a prevenir overfitting desligando neurônios aleatoriamente durante o treinamento. A camada de saída gera a previsão final."
   ]
  },
  {
   "cell_type": "code",
   "execution_count": 100,
   "metadata": {},
   "outputs": [
    {
     "name": "stdout",
     "output_type": "stream",
     "text": [
      "R² da rede neural:  0.6095644301347916\n",
      "R² do random forest:  0.9976363660025784\n",
      "R² do linear regression:  0.30515543196663786\n"
     ]
    }
   ],
   "source": [
    "print(\"R² da rede neural: \",r2)\n",
    "print(\"R² do random forest: \",r2_rf)\n",
    "print(\"R² do linear regression: \",r2_lr)"
   ]
  },
  {
   "cell_type": "code",
   "execution_count": 101,
   "metadata": {},
   "outputs": [
    {
     "data": {
      "image/png": "[encoded data removed]",
      "text/plain": [
       "<Figure size 1000x1000 with 1 Axes>"
      ]
     },
     "metadata": {},
     "output_type": "display_data"
    }
   ],
   "source": [
    "models = ['Neural Network', 'Random Forest', 'Linear Regression']\n",
    "r2_scores = [r2, r2_rf, r2_lr]\n",
    "\n",
    "plt.figure(figsize=(10, 10))\n",
    "plt.bar(models, r2_scores, color=['blue', 'green', 'orange'])\n",
    "plt.xlabel('Modelos')\n",
    "plt.ylabel('R² Score')\n",
    "plt.title('Comparação dos R² Scores dos Modelos')\n",
    "plt.ylim(0, 1)\n",
    "\n",
    "for i, v in enumerate(r2_scores):\n",
    "    plt.text(i, v + 0.02, f\"{v:.2f}\", ha='center', va='bottom')\n",
    "\n",
    "# Exibindo o gráfico\n",
    "plt.show()\n"
   ]
  },
  {
   "cell_type": "markdown",
   "metadata": {},
   "source": [
    "Dos 3 métodos utilizados, o Ranfom Forest é o método mais recomendado, pois utiliza poucos recursos, com os melhores resultados.\n",
    "Foram utilizadas duas instâncias de Redes Neurais, mas os resultados não são tão bons quant os da Random Forest, além de demorar 2 minutos e 37 segundos para executar, enquanto o random forest foi de apenas 7 segundos.\n",
    "É interessante salientar que o primeiro modelo de rede neural usado teve resultados muito semelhantes aos de uma rede neural."
   ]
  },
  {
   "cell_type": "code",
   "execution_count": null,
   "metadata": {},
   "outputs": [],
   "source": [
    "def fig_to_html(fig):\n",
    "    buf = BytesIO()\n",
    "    fig.savefig(buf, format='png')\n",
    "    buf.seek(0)\n",
    "    image_base64 = base64.b64encode(buf.read()).decode('utf-8')\n",
    "    buf.close()\n",
    "    return f'<img src=\"data:image/png;base64,{image_base64}\" />'\n",
    "\n",
    "\n",
    "fig1 = plt.figure(figsize=(10, 6))\n",
    "sns.heatmap(df.pivot_table(values='consumo', index='ano', columns='mes', aggfunc='sum'), cmap='YlGnBu')\n",
    "plt.title('Distribuição de Consumo de Energia por Ano e Mês')\n",
    "plt.close()  \n",
    "\n",
    "\n",
    "fig2 = plt.figure(figsize=(10, 6))\n",
    "sns.boxplot(x='tipo_consumo', y='consumo', data=df)\n",
    "plt.title('Distribuição de Consumo por Tipo de Consumo')\n",
    "plt.close()  \n",
    "\n",
    "# Terceiro gráfico\n",
    "fig3 = plt.figure(figsize=(10, 10))\n",
    "plt.bar(models, r2_scores, color=['blue', 'green', 'orange'])\n",
    "plt.xlabel('Modelos')\n",
    "plt.ylabel('R² Score')\n",
    "plt.title('Comparação dos R² Scores dos Modelos')\n",
    "plt.ylim(0, 1)\n",
    "for i, v in enumerate(r2_scores):\n",
    "    plt.text(i, v + 0.02, f\"{v:.2f}\", ha='center', va='bottom')\n",
    "plt.close() \n",
    "\n",
    "\n",
    "html_content = f\"\"\"\n",
    "<html>\n",
    "<head>\n",
    "    <link rel=\"icon\" href=\"favicon.ico\" type=\"image/x-icon\">\n",
    "    <title>Resultados dos Modelos</title>\n",
    "    <link rel=\"stylesheet\" href=\"styles.css\">\n",
    "</head>\n",
    "<body>\n",
    "    <meta charset=\"UTF-8\">\n",
    "    <h1>Gráficos e Resultados dos Modelos</h1>\n",
    "    <h2>Distribuição de Consumo de Energia por Ano e Mês</h2>\n",
    "    {fig_to_html(fig1)}\n",
    "    <p>Com isso, é possível ver que o consumo vem aumentando conforme os anos passam.</p>\n",
    "    <h2>Distribuição de Consumo por Tipo de Consumo</h2>\n",
    "    {fig_to_html(fig2)}\n",
    "    <p>Com esse gráfico, é possível observar que as indústrias são as que mais consumem energia elétrica</p>\n",
    "    <h2>Comparação dos R² Scores dos Modelos</h2>\n",
    "    {fig_to_html(fig3)}\n",
    "    <h3>Resultados:</h3>\n",
    "    <ul>\n",
    "        <li>R² da Rede Neural: {r2:.2f}</li>\n",
    "        <li>R² do Random Forest: {r2_rf} (muito próxima de 1)</li>\n",
    "        <li>R² da Regressão Linear: {r2_lr:.2f}</li>\n",
    "    </ul>\n",
    "    <p>Com isso, conclue-se que o modelo de Random Forest foi o que obteve melhores resultados na previsão dos resultados.</p>\n",
    "</body>\n",
    "</html>\n",
    "\"\"\"\n",
    "\n",
    "# Salvar o conteúdo HTML em um arquivo\n",
    "with open('index.html', 'w') as f:\n",
    "    f.write(html_content)\n",
    "\n",
    "\n",
    "#HTML(html_content)\n",
    "#Retirar o comentário para exibir o conteúdo"
   ]
  },
  {
   "cell_type": "code",
   "execution_count": 106,
   "metadata": {},
   "outputs": [
    {
     "name": "stderr",
     "output_type": "stream",
     "text": [
      "4238.54s - pydevd: Sending message related to process being replaced timed-out after 5 seconds\n"
     ]
    },
    {
     "name": "stdout",
     "output_type": "stream",
     "text": [
      "Serving HTTP on 0.0.0.0 port 8000 (http://0.0.0.0:8000/) ...\n",
      "192.168.0.33 - - [19/Nov/2024 15:25:48] \"GET / HTTP/1.1\" 200 -\n",
      "192.168.0.33 - - [19/Nov/2024 15:25:48] \"GET /styles.css HTTP/1.1\" 200 -\n",
      "^C\n",
      "\n",
      "Keyboard interrupt received, exiting.\n"
     ]
    }
   ],
   "source": [
    "!python3 -m http.server && rm index.html\n",
    "## Inicia o servidor para subir o html, ao encerrar, exclui o html."
   ]
  },
  {
   "cell_type": "code",
   "execution_count": 104,
   "metadata": {},
   "outputs": [
    {
     "name": "stdout",
     "output_type": "stream",
     "text": [
      "Use 'sudo docker-compose down -v', para excluir o docker, se quiser.\n"
     ]
    }
   ],
   "source": [
    "print(\"Use 'sudo docker-compose down -v', para excluir o docker, se quiser.\")"
   ]
  }
 ],
 "metadata": {
  "kernelspec": {
   "display_name": "Python 3",
   "language": "python",
   "name": "python3"
  },
  "language_info": {
   "codemirror_mode": {
    "name": "ipython",
    "version": 3
   },
   "file_extension": ".py",
   "mimetype": "text/x-python",
   "name": "python",
   "nbconvert_exporter": "python",
   "pygments_lexer": "ipython3",
   "version": "3.10.12"
  }
 },
 "nbformat": 4,
 "nbformat_minor": 2
}
