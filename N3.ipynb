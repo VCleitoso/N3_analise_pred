{
 "cells": [
  {
   "cell_type": "code",
   "execution_count": 2,
   "metadata": {},
   "outputs": [],
   "source": [
    "import mysql.connector\n",
    "import pandas as pd\n"
   ]
  },
  {
   "cell_type": "code",
   "execution_count": 2,
   "metadata": {},
   "outputs": [
    {
     "name": "stdout",
     "output_type": "stream",
     "text": [
      "Defaulting to user installation because normal site-packages is not writeable\n",
      "Collecting mysql-connector-python\n",
      "  Downloading mysql_connector_python-9.1.0-cp310-cp310-manylinux_2_28_x86_64.whl (34.4 MB)\n",
      "\u001b[2K     \u001b[90m━━━━━━━━━━━━━━━━━━━━━━━━━━━━━━━━━━━━━━━━\u001b[0m \u001b[32m34.4/34.4 MB\u001b[0m \u001b[31m2.9 MB/s\u001b[0m eta \u001b[36m0:00:00\u001b[0m00:01\u001b[0m00:01\u001b[0m\n",
      "\u001b[?25hRequirement already satisfied: pandas in /home/vandelsoncleitoso/.local/lib/python3.10/site-packages (2.1.1)\n",
      "Requirement already satisfied: tzdata>=2022.1 in /home/vandelsoncleitoso/.local/lib/python3.10/site-packages (from pandas) (2023.3)\n",
      "Requirement already satisfied: numpy>=1.22.4 in /usr/local/lib/python3.10/dist-packages (from pandas) (1.25.2)\n",
      "Requirement already satisfied: python-dateutil>=2.8.2 in /usr/local/lib/python3.10/dist-packages (from pandas) (2.8.2)\n",
      "Requirement already satisfied: pytz>=2020.1 in /home/vandelsoncleitoso/.local/lib/python3.10/site-packages (from pandas) (2023.3.post1)\n",
      "Requirement already satisfied: six>=1.5 in /usr/lib/python3/dist-packages (from python-dateutil>=2.8.2->pandas) (1.16.0)\n",
      "Installing collected packages: mysql-connector-python\n",
      "Successfully installed mysql-connector-python-9.1.0\n",
      "Note: you may need to restart the kernel to use updated packages.\n"
     ]
    }
   ],
   "source": [
    "%pip install mysql-connector-python pandas\n"
   ]
  },
  {
   "cell_type": "code",
   "execution_count": 4,
   "metadata": {},
   "outputs": [
    {
     "name": "stderr",
     "output_type": "stream",
     "text": [
      "/tmp/ipykernel_11386/474337244.py:17: UserWarning: pandas only supports SQLAlchemy connectable (engine/connection) or database string URI or sqlite3 DBAPI2 connection. Other DBAPI2 objects are not tested. Please consider using SQLAlchemy.\n",
      "  df = pd.read_sql(query, connection)\n"
     ]
    },
    {
     "name": "stdout",
     "output_type": "stream",
     "text": [
      "        ano  mes sigla_uf tipo_consumo  numero_consumidores  consumo\n",
      "0      2004    1       TO        Total                  0.0    65876\n",
      "1      2004    1       BA        Total                  0.0  1444451\n",
      "2      2004    1       PR        Total                  0.0  1596274\n",
      "3      2004    1       RS        Total                  0.0  1780912\n",
      "4      2004    1       GO        Total                  0.0   630624\n",
      "...     ...  ...      ...          ...                  ...      ...\n",
      "38875  2023   12       BA  Residencial            5932740.0   718461\n",
      "38876  2023   12       PA  Residencial            2614106.0   478726\n",
      "38877  2023   12       AC  Residencial             245699.0    58301\n",
      "38878  2023   12       RN  Residencial            1390080.0   210119\n",
      "38879  2023   12       SC  Residencial            2719791.0   655389\n",
      "\n",
      "[38880 rows x 6 columns]\n"
     ]
    }
   ],
   "source": [
    "\n",
    "# Configurações de conexão com o MySQL no Docker\n",
    "db_config = {\n",
    "    'host': '192.168.137.4',  # Endereço do MySQL no Docker (localhost ou o IP do contêiner), no caso do meu notebook é 192.168.137.4\n",
    "    'port': 3306,         # Porta do MySQL\n",
    "    'user': 'root',       # Usuário do MySQL\n",
    "    'password': 'rootpassword',  # Senha configurada no Docker\n",
    "    'database': 'N3'      # Nome do banco de dados\n",
    "}\n",
    "\n",
    "# Conectar ao banco de dados MySQL\n",
    "connection = mysql.connector.connect(**db_config)\n",
    "\n",
    "# Consulta SQL\n",
    "query = \"SELECT * FROM consumo_energia_eletrica;\"\n",
    "\n",
    "# Usar pandas para ler a consulta diretamente em um DataFrame\n",
    "df = pd.read_sql(query, connection)\n",
    "\n",
    "# Fechar a conexão\n",
    "connection.close()\n",
    "\n",
    "# Exibir o DataFrame\n",
    "print(df)\n"
   ]
  },
  {
   "cell_type": "code",
   "execution_count": null,
   "metadata": {},
   "outputs": [],
   "source": []
  }
 ],
 "metadata": {
  "kernelspec": {
   "display_name": "Python 3",
   "language": "python",
   "name": "python3"
  },
  "language_info": {
   "codemirror_mode": {
    "name": "ipython",
    "version": 3
   },
   "file_extension": ".py",
   "mimetype": "text/x-python",
   "name": "python",
   "nbconvert_exporter": "python",
   "pygments_lexer": "ipython3",
   "version": "3.10.12"
  }
 },
 "nbformat": 4,
 "nbformat_minor": 2
}
