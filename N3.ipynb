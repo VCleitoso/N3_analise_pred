{
 "cells": [
  {
   "cell_type": "code",
   "execution_count": 5,
   "metadata": {},
   "outputs": [],
   "source": [
    "import mysql.connector\n",
    "import pandas as pd\n",
    "import seaborn as sns\n",
    "from IPython.display import HTML\n",
    "import base64\n",
    "from io import BytesIO\n",
    "import matplotlib.pyplot as plt\n",
    "from sklearn.preprocessing import LabelEncoder\n",
    "from sklearn.model_selection import train_test_split\n",
    "from sklearn.linear_model import LinearRegression\n",
    "from sklearn.ensemble import RandomForestRegressor\n",
    "from sklearn.metrics import mean_squared_error, r2_score, mean_absolute_error\n",
    "from sklearn.preprocessing import StandardScaler\n",
    "import tensorflow as tf\n",
    "from tensorflow.keras.models import Sequential\n",
    "from tensorflow.keras.layers import Dense, Dropout\n",
    "from tensorflow.keras.regularizers import l2\n"
   ]
  },
  {
   "cell_type": "code",
   "execution_count": 6,
   "metadata": {},
   "outputs": [
    {
     "name": "stdout",
     "output_type": "stream",
     "text": [
      "Defaulting to user installation because normal site-packages is not writeable\n",
      "Requirement already satisfied: mysql-connector-python in /home/vandelsoncleitoso/.local/lib/python3.10/site-packages (9.1.0)\n",
      "Requirement already satisfied: pandas in /home/vandelsoncleitoso/.local/lib/python3.10/site-packages (2.1.1)\n",
      "Requirement already satisfied: python-dateutil>=2.8.2 in /usr/local/lib/python3.10/dist-packages (from pandas) (2.8.2)\n",
      "Requirement already satisfied: numpy>=1.22.4 in /usr/local/lib/python3.10/dist-packages (from pandas) (1.25.2)\n",
      "Requirement already satisfied: tzdata>=2022.1 in /home/vandelsoncleitoso/.local/lib/python3.10/site-packages (from pandas) (2023.3)\n",
      "Requirement already satisfied: pytz>=2020.1 in /home/vandelsoncleitoso/.local/lib/python3.10/site-packages (from pandas) (2023.3.post1)\n",
      "Requirement already satisfied: six>=1.5 in /usr/lib/python3/dist-packages (from python-dateutil>=2.8.2->pandas) (1.16.0)\n",
      "Note: you may need to restart the kernel to use updated packages.\n"
     ]
    }
   ],
   "source": [
    "%pip install mysql-connector-python pandas\n"
   ]
  },
  {
   "cell_type": "code",
   "execution_count": 7,
   "metadata": {},
   "outputs": [
    {
     "name": "stdout",
     "output_type": "stream",
     "text": [
      "Antes de começar, executar 'sudo docker-compose up --build' nesta pasta\n",
      "Caso não queira, basta usar o endereõ de ip que estáhospedando o docker na rede interna.\n"
     ]
    }
   ],
   "source": [
    "print(\"Antes de começar, executar 'sudo docker-compose up --build' nesta pasta\")\n",
    "print(\"Caso não queira, basta usar o endereõ de ip que estáhospedando o docker na rede interna.\")\n",
    "host = input(\"digite o endereço para hospedagem: \")"
   ]
  },
  {
   "cell_type": "markdown",
   "metadata": {},
   "source": [
    "O que escrever no documento:\n",
    "\n",
    "Documento, entre 5 e 10 páginas, relatório do que foi feito e justificar"
   ]
  },
  {
   "cell_type": "code",
   "execution_count": 8,
   "metadata": {},
   "outputs": [
    {
     "name": "stdout",
     "output_type": "stream",
     "text": [
      "        ano  mes sigla_uf tipo_consumo  numero_consumidores  consumo\n",
      "0      2004    1       RN       Outros              40857.0    69617\n",
      "1      2004    1       SP       Outros             311650.0   937538\n",
      "2      2004    1       MS       Outros              56881.0    67601\n",
      "3      2004    1       SC       Outros             226165.0   209380\n",
      "4      2004    1       RJ       Outros              70634.0   416128\n",
      "...     ...  ...      ...          ...                  ...      ...\n",
      "25915  2023   12       BA  Residencial            5932740.0   718461\n",
      "25916  2023   12       PA  Residencial            2614106.0   478726\n",
      "25917  2023   12       AC  Residencial             245699.0    58301\n",
      "25918  2023   12       RN  Residencial            1390080.0   210119\n",
      "25919  2023   12       SC  Residencial            2719791.0   655389\n",
      "\n",
      "[25920 rows x 6 columns]\n"
     ]
    },
    {
     "name": "stderr",
     "output_type": "stream",
     "text": [
      "/tmp/ipykernel_5892/2328889262.py:10: UserWarning: pandas only supports SQLAlchemy connectable (engine/connection) or database string URI or sqlite3 DBAPI2 connection. Other DBAPI2 objects are not tested. Please consider using SQLAlchemy.\n",
      "  df = pd.read_sql(query, connection)\n"
     ]
    }
   ],
   "source": [
    "db_config = {\n",
    "    'host': host,  # Endereço do MySQL no Docker (localhost ou o IP do contêiner), no caso do meu notebook é 192.168.137.4\n",
    "    'port': 3306,         # Porta do MySQL\n",
    "    'user': 'root',       # Usuário do MySQL\n",
    "    'password': 'rootpassword',  # Senha configurada no Docker\n",
    "    'database': 'N3'      # Nome do banco de dados\n",
    "}\n",
    "connection = mysql.connector.connect(**db_config)\n",
    "query = \"SELECT * FROM consumo_energia_eletrica;\"\n",
    "df = pd.read_sql(query, connection)\n",
    "connection.close()\n",
    "print(df)\n"
   ]
  },
  {
   "cell_type": "code",
   "execution_count": 9,
   "metadata": {},
   "outputs": [
    {
     "data": {
      "text/plain": [
       "['ano', 'mes', 'sigla_uf', 'tipo_consumo', 'numero_consumidores', 'consumo']"
      ]
     },
     "execution_count": 9,
     "metadata": {},
     "output_type": "execute_result"
    }
   ],
   "source": [
    "df.columns.to_list()"
   ]
  },
  {
   "cell_type": "code",
   "execution_count": 10,
   "metadata": {},
   "outputs": [
    {
     "name": "stdout",
     "output_type": "stream",
     "text": [
      "    ano  mes sigla_uf tipo_consumo  numero_consumidores  consumo\n",
      "0  2004    1       RN       Outros              40857.0    69617\n",
      "1  2004    1       SP       Outros             311650.0   937538\n",
      "2  2004    1       MS       Outros              56881.0    67601\n",
      "3  2004    1       SC       Outros             226165.0   209380\n",
      "4  2004    1       RJ       Outros              70634.0   416128\n"
     ]
    }
   ],
   "source": [
    "print(df.head())\n"
   ]
  },
  {
   "cell_type": "code",
   "execution_count": 11,
   "metadata": {},
   "outputs": [
    {
     "name": "stdout",
     "output_type": "stream",
     "text": [
      "                ano           mes  numero_consumidores       consumo\n",
      "count  25920.000000  25920.000000         2.592000e+04  2.592000e+04\n",
      "mean    2013.500000      6.500000         6.823034e+05  3.391709e+05\n",
      "std        5.766393      3.452119         1.839312e+06  6.036427e+05\n",
      "min     2004.000000      1.000000         5.200000e+01  3.540000e+02\n",
      "25%     2008.750000      3.750000         1.895650e+04  6.154550e+04\n",
      "50%     2013.500000      6.500000         1.081745e+05  1.367545e+05\n",
      "75%     2018.250000      9.250000         4.424120e+05  3.616518e+05\n",
      "max     2023.000000     12.000000         1.920126e+07  4.849895e+06\n",
      "ano                    0\n",
      "mes                    0\n",
      "sigla_uf               0\n",
      "tipo_consumo           0\n",
      "numero_consumidores    0\n",
      "consumo                0\n",
      "dtype: int64\n"
     ]
    }
   ],
   "source": [
    "print(df.describe())\n",
    "print(df.isnull().sum())\n"
   ]
  },
  {
   "cell_type": "code",
   "execution_count": 12,
   "metadata": {},
   "outputs": [
    {
     "data": {
      "image/png": "[encoded data removed]",
      "text/plain": [
       "<Figure size 1000x600 with 2 Axes>"
      ]
     },
     "metadata": {},
     "output_type": "display_data"
    },
    {
     "data": {
      "image/png": "[encoded data removed]",
      "text/plain": [
       "<Figure size 1000x600 with 1 Axes>"
      ]
     },
     "metadata": {},
     "output_type": "display_data"
    }
   ],
   "source": [
    "plt.figure(figsize=(10, 6))\n",
    "sns.heatmap(df.pivot_table(values='consumo', index='ano', columns='mes', aggfunc='sum'), cmap='YlGnBu')\n",
    "plt.title('Distribuição de Consumo de Energia por Ano e Mês')\n",
    "plt.show()\n",
    "\n",
    "plt.figure(figsize=(10, 6))\n",
    "sns.boxplot(x='tipo_consumo', y='consumo', data=df)\n",
    "plt.title('Distribuição de Consumo por Tipo de Consumo')\n",
    "plt.show()\n"
   ]
  },
  {
   "cell_type": "code",
   "execution_count": 13,
   "metadata": {},
   "outputs": [],
   "source": [
    "label_encoder = LabelEncoder()\n",
    "df['sigla_uf_encoded'] = label_encoder.fit_transform(df['sigla_uf'])\n",
    "df['tipo_consumo_encoded'] = label_encoder.fit_transform(df['tipo_consumo'])\n"
   ]
  },
  {
   "cell_type": "code",
   "execution_count": 14,
   "metadata": {},
   "outputs": [],
   "source": [
    "X = df[['ano', 'mes', 'sigla_uf_encoded', 'tipo_consumo_encoded', 'numero_consumidores']]\n",
    "y = df['consumo']"
   ]
  },
  {
   "cell_type": "code",
   "execution_count": 15,
   "metadata": {},
   "outputs": [],
   "source": [
    "X_train, X_test, y_train, y_test = train_test_split(X, y, test_size=0.2, random_state=42)\n"
   ]
  },
  {
   "cell_type": "code",
   "execution_count": 16,
   "metadata": {},
   "outputs": [
    {
     "name": "stdout",
     "output_type": "stream",
     "text": [
      "MSE (Regressão Linear): 259602195469.6708\n",
      "R2 (Regressão Linear): 0.30515543196663786\n"
     ]
    }
   ],
   "source": [
    "model_lr = LinearRegression()\n",
    "model_lr.fit(X_train, y_train)\n",
    "\n",
    "y_pred_lr = model_lr.predict(X_test)\n",
    "\n",
    "mse_lr = mean_squared_error(y_test, y_pred_lr)\n",
    "r2_lr = r2_score(y_test, y_pred_lr)\n",
    "\n",
    "print(f'MSE (Regressão Linear): {mse_lr}')\n",
    "print(f'R2 (Regressão Linear): {r2_lr}')\n"
   ]
  },
  {
   "cell_type": "code",
   "execution_count": 17,
   "metadata": {},
   "outputs": [
    {
     "name": "stdout",
     "output_type": "stream",
     "text": [
      "MSE (Random Forest): 883081775.7618694\n",
      "R2 (Random Forest): 0.9976363660025784\n"
     ]
    }
   ],
   "source": [
    "model_rf = RandomForestRegressor(n_estimators=100, random_state=42)\n",
    "model_rf.fit(X_train, y_train)\n",
    "\n",
    "y_pred_rf = model_rf.predict(X_test)\n",
    "\n",
    "mse_rf = mean_squared_error(y_test, y_pred_rf)\n",
    "r2_rf = r2_score(y_test, y_pred_rf)\n",
    "\n",
    "print(f'MSE (Random Forest): {mse_rf}')\n",
    "print(f'R2 (Random Forest): {r2_rf}')\n"
   ]
  },
  {
   "cell_type": "markdown",
   "metadata": {},
   "source": [
    "Como o Random Forest Funciona Internamente:\n",
    "Ensemble Learning: Random Forest é uma técnica de ensemble learning que combina múltiplos modelos (árvores de decisão, neste caso) para melhorar a precisão e reduzir o overfitting.\n",
    "\n",
    "Árvores de Decisão: Cada árvore de decisão é treinada em um subconjunto aleatório dos dados. As divisões nas árvores são feitas de forma que cada árvore possa aprender de diferentes aspectos dos dados.\n",
    "\n",
    "Bootstrap Aggregation (Bagging): Random Forest usa amostragem bootstrap, o que significa que cada árvore é treinada em um subconjunto de dados com reposição. Isso ajuda a criar diversas árvores e reduz a variabilidade.\n",
    "\n",
    "Agregação das Previsões: As previsões finais são feitas agregando (por exemplo, através de média para regressão) as previsões de todas as árvores individuais. Isso tende a produzir previsões mais robustas e precisas do que uma única árvore de decisão.\n",
    "\n",
    "Isso proporciona uma combinação poderosa de flexibilidade e robustez, tornando o Random Forest uma ferramenta valiosa para muitos tipos de problemas de previsão.\n",
    "\n",
    " DIDÁTICA TECH. Entenda como funciona o Random Forest (Machine Learning). 2022. Disponível em: https://didatica.tech/o-que-e-e-como-funciona-o-algoritmo-randomforest/. Acesso em: 19 nov. 2024.\n",
    "\n"
   ]
  },
  {
   "cell_type": "code",
   "execution_count": 18,
   "metadata": {},
   "outputs": [
    {
     "name": "stdout",
     "output_type": "stream",
     "text": [
      "sigla uf encoded: \n",
      " 0        19\n",
      "1        25\n",
      "2        11\n",
      "3        23\n",
      "4        18\n",
      "         ..\n",
      "25915     4\n",
      "25916    13\n",
      "25917     0\n",
      "25918    19\n",
      "25919    23\n",
      "Name: sigla_uf_encoded, Length: 25920, dtype: int64 \n",
      "Tipo consumo encoded:\n",
      " 25910    3\n",
      "25911    3\n",
      "25912    3\n",
      "25913    3\n",
      "25914    3\n",
      "25915    3\n",
      "25916    3\n",
      "25917    3\n",
      "25918    3\n",
      "25919    3\n",
      "Name: tipo_consumo_encoded, dtype: int64\n"
     ]
    }
   ],
   "source": [
    "print(\"sigla uf encoded: \\n\",df['sigla_uf_encoded'], \"\\nTipo consumo encoded:\\n\", df['tipo_consumo_encoded'].tail(10))"
   ]
  },
  {
   "cell_type": "code",
   "execution_count": 19,
   "metadata": {},
   "outputs": [
    {
     "data": {
      "text/html": [
       "<div>\n",
       "<style scoped>\n",
       "    .dataframe tbody tr th:only-of-type {\n",
       "        vertical-align: middle;\n",
       "    }\n",
       "\n",
       "    .dataframe tbody tr th {\n",
       "        vertical-align: top;\n",
       "    }\n",
       "\n",
       "    .dataframe thead th {\n",
       "        text-align: right;\n",
       "    }\n",
       "</style>\n",
       "<table border=\"1\" class=\"dataframe\">\n",
       "  <thead>\n",
       "    <tr style=\"text-align: right;\">\n",
       "      <th></th>\n",
       "      <th>ano</th>\n",
       "      <th>mes</th>\n",
       "      <th>sigla_uf</th>\n",
       "      <th>tipo_consumo</th>\n",
       "      <th>numero_consumidores</th>\n",
       "      <th>consumo</th>\n",
       "      <th>sigla_uf_encoded</th>\n",
       "      <th>tipo_consumo_encoded</th>\n",
       "    </tr>\n",
       "  </thead>\n",
       "  <tbody>\n",
       "    <tr>\n",
       "      <th>25915</th>\n",
       "      <td>2023</td>\n",
       "      <td>12</td>\n",
       "      <td>BA</td>\n",
       "      <td>Residencial</td>\n",
       "      <td>5932740.0</td>\n",
       "      <td>718461</td>\n",
       "      <td>4</td>\n",
       "      <td>3</td>\n",
       "    </tr>\n",
       "    <tr>\n",
       "      <th>25916</th>\n",
       "      <td>2023</td>\n",
       "      <td>12</td>\n",
       "      <td>PA</td>\n",
       "      <td>Residencial</td>\n",
       "      <td>2614106.0</td>\n",
       "      <td>478726</td>\n",
       "      <td>13</td>\n",
       "      <td>3</td>\n",
       "    </tr>\n",
       "    <tr>\n",
       "      <th>25917</th>\n",
       "      <td>2023</td>\n",
       "      <td>12</td>\n",
       "      <td>AC</td>\n",
       "      <td>Residencial</td>\n",
       "      <td>245699.0</td>\n",
       "      <td>58301</td>\n",
       "      <td>0</td>\n",
       "      <td>3</td>\n",
       "    </tr>\n",
       "    <tr>\n",
       "      <th>25918</th>\n",
       "      <td>2023</td>\n",
       "      <td>12</td>\n",
       "      <td>RN</td>\n",
       "      <td>Residencial</td>\n",
       "      <td>1390080.0</td>\n",
       "      <td>210119</td>\n",
       "      <td>19</td>\n",
       "      <td>3</td>\n",
       "    </tr>\n",
       "    <tr>\n",
       "      <th>25919</th>\n",
       "      <td>2023</td>\n",
       "      <td>12</td>\n",
       "      <td>SC</td>\n",
       "      <td>Residencial</td>\n",
       "      <td>2719791.0</td>\n",
       "      <td>655389</td>\n",
       "      <td>23</td>\n",
       "      <td>3</td>\n",
       "    </tr>\n",
       "  </tbody>\n",
       "</table>\n",
       "</div>"
      ],
      "text/plain": [
       "        ano  mes sigla_uf tipo_consumo  numero_consumidores  consumo  \\\n",
       "25915  2023   12       BA  Residencial            5932740.0   718461   \n",
       "25916  2023   12       PA  Residencial            2614106.0   478726   \n",
       "25917  2023   12       AC  Residencial             245699.0    58301   \n",
       "25918  2023   12       RN  Residencial            1390080.0   210119   \n",
       "25919  2023   12       SC  Residencial            2719791.0   655389   \n",
       "\n",
       "       sigla_uf_encoded  tipo_consumo_encoded  \n",
       "25915                 4                     3  \n",
       "25916                13                     3  \n",
       "25917                 0                     3  \n",
       "25918                19                     3  \n",
       "25919                23                     3  "
      ]
     },
     "execution_count": 19,
     "metadata": {},
     "output_type": "execute_result"
    }
   ],
   "source": [
    "df.tail()"
   ]
  },
  {
   "cell_type": "code",
   "execution_count": 20,
   "metadata": {},
   "outputs": [
    {
     "name": "stdout",
     "output_type": "stream",
     "text": [
      "Consumo previsto: 626948.89\n"
     ]
    }
   ],
   "source": [
    "# Dados de entrada para previsão\n",
    "novos_dados = pd.DataFrame({\n",
    "    'ano': [2023],\n",
    "    'mes': [12],\n",
    "    'sigla_uf_encoded': [23],  # Codificando o estado\n",
    "    'tipo_consumo_encoded': [3],  # Codificando o tipo de consumo\n",
    "    'numero_consumidores': [2719791.0]\n",
    "})\n",
    "\n",
    "# Prevendo o consumo para os novos dados\n",
    "consumo_predito = model_rf.predict(novos_dados)\n",
    "print(f'Consumo previsto: {consumo_predito[0]}')\n"
   ]
  },
  {
   "cell_type": "code",
   "execution_count": 21,
   "metadata": {},
   "outputs": [
    {
     "name": "stdout",
     "output_type": "stream",
     "text": [
      "Diferença entre consumo real e predito:  [28440.11]  ou seja, uma diferença de [4.33942437] %\n"
     ]
    }
   ],
   "source": [
    "consumo_real = 655389.00\n",
    "diferenca = consumo_real-consumo_predito\n",
    "print(\"Diferença entre consumo real e predito: \", diferenca, \" ou seja, uma diferença de\", (diferenca*100)/consumo_real,\"%\")"
   ]
  },
  {
   "cell_type": "code",
   "execution_count": 22,
   "metadata": {},
   "outputs": [
    {
     "name": "stdout",
     "output_type": "stream",
     "text": [
      "Consumo previsto: 209598.36\n"
     ]
    }
   ],
   "source": [
    "#outra predção\n",
    "novos_dados = pd.DataFrame({\n",
    "    'ano': [2023],\n",
    "    'mes': [12],\n",
    "    'sigla_uf_encoded': [19],  # Codificando o estado\n",
    "    'tipo_consumo_encoded': [3],  # Codificando o tipo de consumo\n",
    "    'numero_consumidores': [1390080.0]\n",
    "})\n",
    "\n",
    "# Prevendo o consumo para os novos dados\n",
    "consumo_predito = model_rf.predict(novos_dados)\n",
    "print(f'Consumo previsto: {consumo_predito[0]}')"
   ]
  },
  {
   "cell_type": "code",
   "execution_count": 23,
   "metadata": {},
   "outputs": [
    {
     "name": "stdout",
     "output_type": "stream",
     "text": [
      "Diferença entre consumo real e predito:  [520.64]  ou seja, uma diferença de [0.2477834] %\n"
     ]
    }
   ],
   "source": [
    "consumo_real = 210119.00\n",
    "diferenca = consumo_real-consumo_predito\n",
    "print(\"Diferença entre consumo real e predito: \", diferenca, \" ou seja, uma diferença de\", (diferenca*100)/consumo_real,\"%\")"
   ]
  },
  {
   "cell_type": "code",
   "execution_count": null,
   "metadata": {},
   "outputs": [
    {
     "name": "stdout",
     "output_type": "stream",
     "text": [
      "Epoch 1/50\n"
     ]
    },
    {
     "name": "stderr",
     "output_type": "stream",
     "text": [
      "/home/vandelsoncleitoso/.local/lib/python3.10/site-packages/keras/src/layers/core/dense.py:86: UserWarning: Do not pass an `input_shape`/`input_dim` argument to a layer. When using Sequential models, prefer using an `Input(shape)` object as the first layer in the model instead.\n",
      "  super().__init__(activity_regularizer=activity_regularizer, **kwargs)\n"
     ]
    },
    {
     "name": "stdout",
     "output_type": "stream",
     "text": [
      "\u001b[1m1659/1659\u001b[0m \u001b[32m━━━━━━━━━━━━━━━━━━━━\u001b[0m\u001b[37m\u001b[0m \u001b[1m4s\u001b[0m 2ms/step - loss: 453692981248.0000 - mean_absolute_error: 331874.3438 - val_loss: 450489122816.0000 - val_mean_absolute_error: 314691.5312\n",
      "Epoch 2/50\n",
      "\u001b[1m1659/1659\u001b[0m \u001b[32m━━━━━━━━━━━━━━━━━━━━\u001b[0m\u001b[37m\u001b[0m \u001b[1m3s\u001b[0m 2ms/step - loss: 442583121920.0000 - mean_absolute_error: 307440.5625 - val_loss: 381739696128.0000 - val_mean_absolute_error: 274366.3438\n",
      "Epoch 3/50\n",
      "\u001b[1m1659/1659\u001b[0m \u001b[32m━━━━━━━━━━━━━━━━━━━━\u001b[0m\u001b[37m\u001b[0m \u001b[1m3s\u001b[0m 2ms/step - loss: 358156894208.0000 - mean_absolute_error: 270519.5938 - val_loss: 317090463744.0000 - val_mean_absolute_error: 264933.7500\n",
      "Epoch 4/50\n",
      "\u001b[1m1659/1659\u001b[0m \u001b[32m━━━━━━━━━━━━━━━━━━━━\u001b[0m\u001b[37m\u001b[0m \u001b[1m2s\u001b[0m 1ms/step - loss: 325274140672.0000 - mean_absolute_error: 275400.2188 - val_loss: 290019016704.0000 - val_mean_absolute_error: 275835.9375\n",
      "Epoch 5/50\n",
      "\u001b[1m1659/1659\u001b[0m \u001b[32m━━━━━━━━━━━━━━━━━━━━\u001b[0m\u001b[37m\u001b[0m \u001b[1m2s\u001b[0m 1ms/step - loss: 280545656832.0000 - mean_absolute_error: 279290.7500 - val_loss: 277767323648.0000 - val_mean_absolute_error: 281896.6250\n",
      "Epoch 6/50\n",
      "\u001b[1m1659/1659\u001b[0m \u001b[32m━━━━━━━━━━━━━━━━━━━━\u001b[0m\u001b[37m\u001b[0m \u001b[1m2s\u001b[0m 1ms/step - loss: 297622274048.0000 - mean_absolute_error: 289411.7812 - val_loss: 270129872896.0000 - val_mean_absolute_error: 280526.0625\n",
      "Epoch 7/50\n",
      "\u001b[1m1659/1659\u001b[0m \u001b[32m━━━━━━━━━━━━━━━━━━━━\u001b[0m\u001b[37m\u001b[0m \u001b[1m2s\u001b[0m 1ms/step - loss: 298363813888.0000 - mean_absolute_error: 288649.3750 - val_loss: 264045641728.0000 - val_mean_absolute_error: 277872.1250\n",
      "Epoch 8/50\n",
      "\u001b[1m1659/1659\u001b[0m \u001b[32m━━━━━━━━━━━━━━━━━━━━\u001b[0m\u001b[37m\u001b[0m \u001b[1m3s\u001b[0m 2ms/step - loss: 274593333248.0000 - mean_absolute_error: 279211.4688 - val_loss: 259088891904.0000 - val_mean_absolute_error: 275749.2188\n",
      "Epoch 9/50\n",
      "\u001b[1m1659/1659\u001b[0m \u001b[32m━━━━━━━━━━━━━━━━━━━━\u001b[0m\u001b[37m\u001b[0m \u001b[1m2s\u001b[0m 1ms/step - loss: 296883224576.0000 - mean_absolute_error: 283209.5625 - val_loss: 255348146176.0000 - val_mean_absolute_error: 273282.4688\n",
      "Epoch 10/50\n",
      "\u001b[1m1659/1659\u001b[0m \u001b[32m━━━━━━━━━━━━━━━━━━━━\u001b[0m\u001b[37m\u001b[0m \u001b[1m2s\u001b[0m 1ms/step - loss: 275184746496.0000 - mean_absolute_error: 277055.7500 - val_loss: 252647260160.0000 - val_mean_absolute_error: 270590.6250\n",
      "Epoch 11/50\n",
      "\u001b[1m1659/1659\u001b[0m \u001b[32m━━━━━━━━━━━━━━━━━━━━\u001b[0m\u001b[37m\u001b[0m \u001b[1m2s\u001b[0m 1ms/step - loss: 270729592832.0000 - mean_absolute_error: 273963.0625 - val_loss: 250698694656.0000 - val_mean_absolute_error: 267635.4688\n",
      "Epoch 12/50\n",
      "\u001b[1m1659/1659\u001b[0m \u001b[32m━━━━━━━━━━━━━━━━━━━━\u001b[0m\u001b[37m\u001b[0m \u001b[1m2s\u001b[0m 1ms/step - loss: 279334944768.0000 - mean_absolute_error: 274437.5312 - val_loss: 249331318784.0000 - val_mean_absolute_error: 265254.9062\n",
      "Epoch 13/50\n",
      "\u001b[1m1659/1659\u001b[0m \u001b[32m━━━━━━━━━━━━━━━━━━━━\u001b[0m\u001b[37m\u001b[0m \u001b[1m2s\u001b[0m 1ms/step - loss: 282377093120.0000 - mean_absolute_error: 273816.2812 - val_loss: 248421236736.0000 - val_mean_absolute_error: 262353.4688\n",
      "Epoch 14/50\n",
      "\u001b[1m1659/1659\u001b[0m \u001b[32m━━━━━━━━━━━━━━━━━━━━\u001b[0m\u001b[37m\u001b[0m \u001b[1m2s\u001b[0m 1ms/step - loss: 257595392000.0000 - mean_absolute_error: 265433.3125 - val_loss: 247801282560.0000 - val_mean_absolute_error: 261479.3750\n",
      "Epoch 15/50\n",
      "\u001b[1m1659/1659\u001b[0m \u001b[32m━━━━━━━━━━━━━━━━━━━━\u001b[0m\u001b[37m\u001b[0m \u001b[1m2s\u001b[0m 1ms/step - loss: 247338483712.0000 - mean_absolute_error: 258443.1250 - val_loss: 247354933248.0000 - val_mean_absolute_error: 260506.9062\n",
      "Epoch 16/50\n",
      "\u001b[1m1659/1659\u001b[0m \u001b[32m━━━━━━━━━━━━━━━━━━━━\u001b[0m\u001b[37m\u001b[0m \u001b[1m3s\u001b[0m 2ms/step - loss: 271756541952.0000 - mean_absolute_error: 269253.3750 - val_loss: 247017357312.0000 - val_mean_absolute_error: 259394.7500\n",
      "Epoch 17/50\n",
      "\u001b[1m1659/1659\u001b[0m \u001b[32m━━━━━━━━━━━━━━━━━━━━\u001b[0m\u001b[37m\u001b[0m \u001b[1m2s\u001b[0m 1ms/step - loss: 258950135808.0000 - mean_absolute_error: 262602.0938 - val_loss: 246778249216.0000 - val_mean_absolute_error: 258872.4375\n",
      "Epoch 18/50\n",
      "\u001b[1m1659/1659\u001b[0m \u001b[32m━━━━━━━━━━━━━━━━━━━━\u001b[0m\u001b[37m\u001b[0m \u001b[1m2s\u001b[0m 1ms/step - loss: 294256836608.0000 - mean_absolute_error: 272238.8750 - val_loss: 246574039040.0000 - val_mean_absolute_error: 257485.6094\n",
      "Epoch 19/50\n",
      "\u001b[1m1659/1659\u001b[0m \u001b[32m━━━━━━━━━━━━━━━━━━━━\u001b[0m\u001b[37m\u001b[0m \u001b[1m2s\u001b[0m 1ms/step - loss: 269200310272.0000 - mean_absolute_error: 265695.6875 - val_loss: 246417539072.0000 - val_mean_absolute_error: 257020.6562\n",
      "Epoch 20/50\n",
      "\u001b[1m1659/1659\u001b[0m \u001b[32m━━━━━━━━━━━━━━━━━━━━\u001b[0m\u001b[37m\u001b[0m \u001b[1m2s\u001b[0m 1ms/step - loss: 262974144512.0000 - mean_absolute_error: 262507.9688 - val_loss: 246262153216.0000 - val_mean_absolute_error: 257393.4062\n",
      "Epoch 21/50\n",
      "\u001b[1m1659/1659\u001b[0m \u001b[32m━━━━━━━━━━━━━━━━━━━━\u001b[0m\u001b[37m\u001b[0m \u001b[1m2s\u001b[0m 1ms/step - loss: 262653345792.0000 - mean_absolute_error: 263028.8438 - val_loss: 246162096128.0000 - val_mean_absolute_error: 257758.9062\n",
      "Epoch 22/50\n",
      "\u001b[1m1659/1659\u001b[0m \u001b[32m━━━━━━━━━━━━━━━━━━━━\u001b[0m\u001b[37m\u001b[0m \u001b[1m2s\u001b[0m 1ms/step - loss: 267110367232.0000 - mean_absolute_error: 263413.6250 - val_loss: 246016851968.0000 - val_mean_absolute_error: 256542.9531\n",
      "Epoch 23/50\n",
      "\u001b[1m1659/1659\u001b[0m \u001b[32m━━━━━━━━━━━━━━━━━━━━\u001b[0m\u001b[37m\u001b[0m \u001b[1m2s\u001b[0m 1ms/step - loss: 274308087808.0000 - mean_absolute_error: 265251.4375 - val_loss: 245902639104.0000 - val_mean_absolute_error: 255897.4375\n",
      "Epoch 24/50\n",
      "\u001b[1m1659/1659\u001b[0m \u001b[32m━━━━━━━━━━━━━━━━━━━━\u001b[0m\u001b[37m\u001b[0m \u001b[1m2s\u001b[0m 1ms/step - loss: 290930753536.0000 - mean_absolute_error: 268191.1562 - val_loss: 245836333056.0000 - val_mean_absolute_error: 254180.5625\n",
      "Epoch 25/50\n",
      "\u001b[1m1659/1659\u001b[0m \u001b[32m━━━━━━━━━━━━━━━━━━━━\u001b[0m\u001b[37m\u001b[0m \u001b[1m2s\u001b[0m 1ms/step - loss: 257847787520.0000 - mean_absolute_error: 258090.3594 - val_loss: 245670412288.0000 - val_mean_absolute_error: 255602.6094\n",
      "Epoch 26/50\n",
      "\u001b[1m1659/1659\u001b[0m \u001b[32m━━━━━━━━━━━━━━━━━━━━\u001b[0m\u001b[37m\u001b[0m \u001b[1m2s\u001b[0m 1ms/step - loss: 283554381824.0000 - mean_absolute_error: 268125.8750 - val_loss: 245574451200.0000 - val_mean_absolute_error: 254955.5625\n",
      "Epoch 27/50\n",
      "\u001b[1m1659/1659\u001b[0m \u001b[32m━━━━━━━━━━━━━━━━━━━━\u001b[0m\u001b[37m\u001b[0m \u001b[1m2s\u001b[0m 1ms/step - loss: 260442292224.0000 - mean_absolute_error: 261944.5781 - val_loss: 245476376576.0000 - val_mean_absolute_error: 255015.9688\n",
      "Epoch 28/50\n",
      "\u001b[1m1659/1659\u001b[0m \u001b[32m━━━━━━━━━━━━━━━━━━━━\u001b[0m\u001b[37m\u001b[0m \u001b[1m2s\u001b[0m 1ms/step - loss: 239313420288.0000 - mean_absolute_error: 255091.2188 - val_loss: 245379006464.0000 - val_mean_absolute_error: 255661.4219\n",
      "Epoch 29/50\n",
      "\u001b[1m1659/1659\u001b[0m \u001b[32m━━━━━━━━━━━━━━━━━━━━\u001b[0m\u001b[37m\u001b[0m \u001b[1m2s\u001b[0m 1ms/step - loss: 287619186688.0000 - mean_absolute_error: 270086.8438 - val_loss: 245271560192.0000 - val_mean_absolute_error: 253324.1875\n",
      "Epoch 30/50\n",
      "\u001b[1m1659/1659\u001b[0m \u001b[32m━━━━━━━━━━━━━━━━━━━━\u001b[0m\u001b[37m\u001b[0m \u001b[1m2s\u001b[0m 1ms/step - loss: 270307655680.0000 - mean_absolute_error: 263934.4688 - val_loss: 245202632704.0000 - val_mean_absolute_error: 253610.4219\n",
      "Epoch 31/50\n",
      "\u001b[1m1659/1659\u001b[0m \u001b[32m━━━━━━━━━━━━━━━━━━━━\u001b[0m\u001b[37m\u001b[0m \u001b[1m2s\u001b[0m 1ms/step - loss: 274846662656.0000 - mean_absolute_error: 265289.2188 - val_loss: 245071970304.0000 - val_mean_absolute_error: 253760.6719\n",
      "Epoch 32/50\n",
      "\u001b[1m1659/1659\u001b[0m \u001b[32m━━━━━━━━━━━━━━━━━━━━\u001b[0m\u001b[37m\u001b[0m \u001b[1m2s\u001b[0m 1ms/step - loss: 265319645184.0000 - mean_absolute_error: 263244.7500 - val_loss: 244991279104.0000 - val_mean_absolute_error: 253763.0312\n",
      "Epoch 33/50\n",
      "\u001b[1m1659/1659\u001b[0m \u001b[32m━━━━━━━━━━━━━━━━━━━━\u001b[0m\u001b[37m\u001b[0m \u001b[1m2s\u001b[0m 1ms/step - loss: 282297171968.0000 - mean_absolute_error: 268591.7188 - val_loss: 244871921664.0000 - val_mean_absolute_error: 252579.0781\n",
      "Epoch 34/50\n",
      "\u001b[1m1659/1659\u001b[0m \u001b[32m━━━━━━━━━━━━━━━━━━━━\u001b[0m\u001b[37m\u001b[0m \u001b[1m3s\u001b[0m 2ms/step - loss: 284639133696.0000 - mean_absolute_error: 264400.0938 - val_loss: 244739768320.0000 - val_mean_absolute_error: 252902.3438\n",
      "Epoch 35/50\n",
      "\u001b[1m1659/1659\u001b[0m \u001b[32m━━━━━━━━━━━━━━━━━━━━\u001b[0m\u001b[37m\u001b[0m \u001b[1m3s\u001b[0m 2ms/step - loss: 265991241728.0000 - mean_absolute_error: 261411.0156 - val_loss: 244645855232.0000 - val_mean_absolute_error: 253049.9375\n",
      "Epoch 36/50\n",
      "\u001b[1m1659/1659\u001b[0m \u001b[32m━━━━━━━━━━━━━━━━━━━━\u001b[0m\u001b[37m\u001b[0m \u001b[1m3s\u001b[0m 2ms/step - loss: 266713563136.0000 - mean_absolute_error: 261031.0000 - val_loss: 244531560448.0000 - val_mean_absolute_error: 252501.6406\n",
      "Epoch 37/50\n",
      "\u001b[1m1659/1659\u001b[0m \u001b[32m━━━━━━━━━━━━━━━━━━━━\u001b[0m\u001b[37m\u001b[0m \u001b[1m3s\u001b[0m 2ms/step - loss: 251001864192.0000 - mean_absolute_error: 256494.2344 - val_loss: 244470169600.0000 - val_mean_absolute_error: 252883.5781\n",
      "Epoch 38/50\n",
      "\u001b[1m1659/1659\u001b[0m \u001b[32m━━━━━━━━━━━━━━━━━━━━\u001b[0m\u001b[37m\u001b[0m \u001b[1m2s\u001b[0m 1ms/step - loss: 275180617728.0000 - mean_absolute_error: 262029.0938 - val_loss: 244371488768.0000 - val_mean_absolute_error: 252192.2500\n",
      "Epoch 39/50\n",
      "\u001b[1m1659/1659\u001b[0m \u001b[32m━━━━━━━━━━━━━━━━━━━━\u001b[0m\u001b[37m\u001b[0m \u001b[1m2s\u001b[0m 1ms/step - loss: 261198217216.0000 - mean_absolute_error: 259254.1250 - val_loss: 244265517056.0000 - val_mean_absolute_error: 252834.4375\n",
      "Epoch 40/50\n",
      "\u001b[1m1659/1659\u001b[0m \u001b[32m━━━━━━━━━━━━━━━━━━━━\u001b[0m\u001b[37m\u001b[0m \u001b[1m4s\u001b[0m 3ms/step - loss: 272282370048.0000 - mean_absolute_error: 266169.2188 - val_loss: 244164673536.0000 - val_mean_absolute_error: 252656.6562\n",
      "Epoch 41/50\n",
      "\u001b[1m1659/1659\u001b[0m \u001b[32m━━━━━━━━━━━━━━━━━━━━\u001b[0m\u001b[37m\u001b[0m \u001b[1m3s\u001b[0m 2ms/step - loss: 280948867072.0000 - mean_absolute_error: 265351.8750 - val_loss: 244065763328.0000 - val_mean_absolute_error: 251318.6562\n",
      "Epoch 42/50\n",
      "\u001b[1m1659/1659\u001b[0m \u001b[32m━━━━━━━━━━━━━━━━━━━━\u001b[0m\u001b[37m\u001b[0m \u001b[1m3s\u001b[0m 2ms/step - loss: 257734606848.0000 - mean_absolute_error: 257266.2188 - val_loss: 243974848512.0000 - val_mean_absolute_error: 252014.7656\n",
      "Epoch 43/50\n",
      "\u001b[1m1659/1659\u001b[0m \u001b[32m━━━━━━━━━━━━━━━━━━━━\u001b[0m\u001b[37m\u001b[0m \u001b[1m3s\u001b[0m 2ms/step - loss: 291433807872.0000 - mean_absolute_error: 269743.2188 - val_loss: 243893534720.0000 - val_mean_absolute_error: 250714.9375\n",
      "Epoch 44/50\n",
      "\u001b[1m1659/1659\u001b[0m \u001b[32m━━━━━━━━━━━━━━━━━━━━\u001b[0m\u001b[37m\u001b[0m \u001b[1m3s\u001b[0m 2ms/step - loss: 241934401536.0000 - mean_absolute_error: 252474.5000 - val_loss: 243758104576.0000 - val_mean_absolute_error: 252428.8594\n",
      "Epoch 45/50\n",
      "\u001b[1m1659/1659\u001b[0m \u001b[32m━━━━━━━━━━━━━━━━━━━━\u001b[0m\u001b[37m\u001b[0m \u001b[1m2s\u001b[0m 1ms/step - loss: 260993302528.0000 - mean_absolute_error: 259773.8125 - val_loss: 243663765504.0000 - val_mean_absolute_error: 251234.4219\n",
      "Epoch 46/50\n",
      "\u001b[1m1659/1659\u001b[0m \u001b[32m━━━━━━━━━━━━━━━━━━━━\u001b[0m\u001b[37m\u001b[0m \u001b[1m2s\u001b[0m 1ms/step - loss: 277891383296.0000 - mean_absolute_error: 264078.5938 - val_loss: 243594133504.0000 - val_mean_absolute_error: 250485.0000\n",
      "Epoch 47/50\n",
      "\u001b[1m1659/1659\u001b[0m \u001b[32m━━━━━━━━━━━━━━━━━━━━\u001b[0m\u001b[37m\u001b[0m \u001b[1m3s\u001b[0m 2ms/step - loss: 259088089088.0000 - mean_absolute_error: 255377.8906 - val_loss: 243475939328.0000 - val_mean_absolute_error: 250862.3750\n",
      "Epoch 48/50\n",
      "\u001b[1m1659/1659\u001b[0m \u001b[32m━━━━━━━━━━━━━━━━━━━━\u001b[0m\u001b[37m\u001b[0m \u001b[1m3s\u001b[0m 2ms/step - loss: 264097808384.0000 - mean_absolute_error: 261239.7500 - val_loss: 243391299584.0000 - val_mean_absolute_error: 250193.7500\n",
      "Epoch 49/50\n",
      "\u001b[1m1659/1659\u001b[0m \u001b[32m━━━━━━━━━━━━━━━━━━━━\u001b[0m\u001b[37m\u001b[0m \u001b[1m2s\u001b[0m 1ms/step - loss: 271980888064.0000 - mean_absolute_error: 259858.0469 - val_loss: 243313917952.0000 - val_mean_absolute_error: 249856.0625\n",
      "Epoch 50/50\n",
      "\u001b[1m1659/1659\u001b[0m \u001b[32m━━━━━━━━━━━━━━━━━━━━\u001b[0m\u001b[37m\u001b[0m \u001b[1m2s\u001b[0m 1ms/step - loss: 251606122496.0000 - mean_absolute_error: 252486.0000 - val_loss: 243214647296.0000 - val_mean_absolute_error: 250327.6094\n",
      "\u001b[1m162/162\u001b[0m \u001b[32m━━━━━━━━━━━━━━━━━━━━\u001b[0m\u001b[37m\u001b[0m \u001b[1m0s\u001b[0m 735us/step\n",
      "Rede neural sequencial, com uma camada de entrada, uma oculta e uma de saída relu.\n",
      "Rede neural aprimorada:\n",
      "Mean Squared Error: 255795799590.73486\n",
      "Mean Absolute Error: 253551.960753641\n",
      "R² Score: 0.3153435334019057\n"
     ]
    }
   ],
   "source": [
    "scaler = StandardScaler()\n",
    "X_train_scaled = scaler.fit_transform(X_train)\n",
    "X_test_scaled = scaler.transform(X_test)\n",
    "model = Sequential()\n",
    "model.add(Dense(64, input_dim=X_train.shape[1], activation='relu'))\n",
    "model.add(Dense(32, activation='relu'))\n",
    "model.add(Dense(1))  \n",
    "model.compile(loss='mean_squared_error', optimizer='adam', metrics=['mean_absolute_error'])\n",
    "history = model.fit(X_train_scaled, y_train, epochs=50, batch_size=10, validation_split=0.2, verbose=1)\n",
    "y_pred = model.predict(X_test_scaled)\n",
    "mse = mean_squared_error(y_test, y_pred)\n",
    "mae = mean_absolute_error(y_test, y_pred)\n",
    "print(\"Rede neural sequencial, com uma camada de entrada, uma oculta e uma de saída relu.\")\n",
    "r2 = r2_score(y_test, y_pred)\n",
    "\n",
    "print(f'Mean Squared Error: {mse}')\n",
    "print(f'Mean Absolute Error: {mae}')\n",
    "print(f'R² Score: {r2}')\n",
    "\n",
    "#resultado foi bem ruim"
   ]
  },
  {
   "cell_type": "code",
   "execution_count": 38,
   "metadata": {},
   "outputs": [
    {
     "name": "stdout",
     "output_type": "stream",
     "text": [
      "Epoch 1/100\n"
     ]
    },
    {
     "name": "stderr",
     "output_type": "stream",
     "text": [
      "/home/vandelsoncleitoso/.local/lib/python3.10/site-packages/keras/src/layers/core/dense.py:86: UserWarning: Do not pass an `input_shape`/`input_dim` argument to a layer. When using Sequential models, prefer using an `Input(shape)` object as the first layer in the model instead.\n",
      "  super().__init__(activity_regularizer=activity_regularizer, **kwargs)\n"
     ]
    },
    {
     "name": "stdout",
     "output_type": "stream",
     "text": [
      "\u001b[1m1037/1037\u001b[0m \u001b[32m━━━━━━━━━━━━━━━━━━━━\u001b[0m\u001b[37m\u001b[0m \u001b[1m5s\u001b[0m 3ms/step - loss: 427598348288.0000 - mean_absolute_error: 317839.0000 - val_loss: 282418249728.0000 - val_mean_absolute_error: 285062.3125\n",
      "Epoch 2/100\n",
      "\u001b[1m1037/1037\u001b[0m \u001b[32m━━━━━━━━━━━━━━━━━━━━\u001b[0m\u001b[37m\u001b[0m \u001b[1m2s\u001b[0m 2ms/step - loss: 285837000704.0000 - mean_absolute_error: 288602.4062 - val_loss: 256258949120.0000 - val_mean_absolute_error: 271448.9688\n",
      "Epoch 3/100\n",
      "\u001b[1m1037/1037\u001b[0m \u001b[32m━━━━━━━━━━━━━━━━━━━━\u001b[0m\u001b[37m\u001b[0m \u001b[1m2s\u001b[0m 2ms/step - loss: 277842853888.0000 - mean_absolute_error: 276482.4375 - val_loss: 248309858304.0000 - val_mean_absolute_error: 257641.0312\n",
      "Epoch 4/100\n",
      "\u001b[1m1037/1037\u001b[0m \u001b[32m━━━━━━━━━━━━━━━━━━━━\u001b[0m\u001b[37m\u001b[0m \u001b[1m2s\u001b[0m 2ms/step - loss: 270245953536.0000 - mean_absolute_error: 267694.5312 - val_loss: 245867184128.0000 - val_mean_absolute_error: 253619.5625\n",
      "Epoch 5/100\n",
      "\u001b[1m1037/1037\u001b[0m \u001b[32m━━━━━━━━━━━━━━━━━━━━\u001b[0m\u001b[37m\u001b[0m \u001b[1m2s\u001b[0m 2ms/step - loss: 274377408512.0000 - mean_absolute_error: 266329.5938 - val_loss: 244880703488.0000 - val_mean_absolute_error: 252977.2188\n",
      "Epoch 6/100\n",
      "\u001b[1m1037/1037\u001b[0m \u001b[32m━━━━━━━━━━━━━━━━━━━━\u001b[0m\u001b[37m\u001b[0m \u001b[1m1s\u001b[0m 1ms/step - loss: 258267234304.0000 - mean_absolute_error: 260428.5781 - val_loss: 244330561536.0000 - val_mean_absolute_error: 250630.5156\n",
      "Epoch 7/100\n",
      "\u001b[1m1037/1037\u001b[0m \u001b[32m━━━━━━━━━━━━━━━━━━━━\u001b[0m\u001b[37m\u001b[0m \u001b[1m1s\u001b[0m 1ms/step - loss: 243778387968.0000 - mean_absolute_error: 253490.1406 - val_loss: 243941359616.0000 - val_mean_absolute_error: 255053.6250\n",
      "Epoch 8/100\n",
      "\u001b[1m1037/1037\u001b[0m \u001b[32m━━━━━━━━━━━━━━━━━━━━\u001b[0m\u001b[37m\u001b[0m \u001b[1m1s\u001b[0m 1ms/step - loss: 270344388608.0000 - mean_absolute_error: 263442.9375 - val_loss: 243731447808.0000 - val_mean_absolute_error: 246488.2656\n",
      "Epoch 9/100\n",
      "\u001b[1m1037/1037\u001b[0m \u001b[32m━━━━━━━━━━━━━━━━━━━━\u001b[0m\u001b[37m\u001b[0m \u001b[1m1s\u001b[0m 1ms/step - loss: 271537487872.0000 - mean_absolute_error: 258501.0625 - val_loss: 243239714816.0000 - val_mean_absolute_error: 249937.6250\n",
      "Epoch 10/100\n",
      "\u001b[1m1037/1037\u001b[0m \u001b[32m━━━━━━━━━━━━━━━━━━━━\u001b[0m\u001b[37m\u001b[0m \u001b[1m2s\u001b[0m 1ms/step - loss: 271076261888.0000 - mean_absolute_error: 262141.1562 - val_loss: 242997870592.0000 - val_mean_absolute_error: 248086.0469\n",
      "Epoch 11/100\n",
      "\u001b[1m1037/1037\u001b[0m \u001b[32m━━━━━━━━━━━━━━━━━━━━\u001b[0m\u001b[37m\u001b[0m \u001b[1m1s\u001b[0m 1ms/step - loss: 257138900992.0000 - mean_absolute_error: 255110.9375 - val_loss: 242761236480.0000 - val_mean_absolute_error: 255671.4531\n",
      "Epoch 12/100\n",
      "\u001b[1m1037/1037\u001b[0m \u001b[32m━━━━━━━━━━━━━━━━━━━━\u001b[0m\u001b[37m\u001b[0m \u001b[1m1s\u001b[0m 1ms/step - loss: 288449036288.0000 - mean_absolute_error: 270686.8438 - val_loss: 242064736256.0000 - val_mean_absolute_error: 249127.2500\n",
      "Epoch 13/100\n",
      "\u001b[1m1037/1037\u001b[0m \u001b[32m━━━━━━━━━━━━━━━━━━━━\u001b[0m\u001b[37m\u001b[0m \u001b[1m1s\u001b[0m 1ms/step - loss: 269211992064.0000 - mean_absolute_error: 261624.5469 - val_loss: 241767874560.0000 - val_mean_absolute_error: 248469.0625\n",
      "Epoch 14/100\n",
      "\u001b[1m1037/1037\u001b[0m \u001b[32m━━━━━━━━━━━━━━━━━━━━\u001b[0m\u001b[37m\u001b[0m \u001b[1m1s\u001b[0m 1ms/step - loss: 259289186304.0000 - mean_absolute_error: 260739.1094 - val_loss: 241636474880.0000 - val_mean_absolute_error: 245854.7188\n",
      "Epoch 15/100\n",
      "\u001b[1m1037/1037\u001b[0m \u001b[32m━━━━━━━━━━━━━━━━━━━━\u001b[0m\u001b[37m\u001b[0m \u001b[1m1s\u001b[0m 1ms/step - loss: 272852041728.0000 - mean_absolute_error: 259736.8438 - val_loss: 241344495616.0000 - val_mean_absolute_error: 243812.2656\n",
      "Epoch 16/100\n",
      "\u001b[1m1037/1037\u001b[0m \u001b[32m━━━━━━━━━━━━━━━━━━━━\u001b[0m\u001b[37m\u001b[0m \u001b[1m1s\u001b[0m 1ms/step - loss: 269920190464.0000 - mean_absolute_error: 259323.8594 - val_loss: 241009246208.0000 - val_mean_absolute_error: 243761.2969\n",
      "Epoch 17/100\n",
      "\u001b[1m1037/1037\u001b[0m \u001b[32m━━━━━━━━━━━━━━━━━━━━\u001b[0m\u001b[37m\u001b[0m \u001b[1m1s\u001b[0m 1ms/step - loss: 254250795008.0000 - mean_absolute_error: 253917.1406 - val_loss: 240500408320.0000 - val_mean_absolute_error: 246644.0469\n",
      "Epoch 18/100\n",
      "\u001b[1m1037/1037\u001b[0m \u001b[32m━━━━━━━━━━━━━━━━━━━━\u001b[0m\u001b[37m\u001b[0m \u001b[1m1s\u001b[0m 1ms/step - loss: 280075337728.0000 - mean_absolute_error: 264694.8750 - val_loss: 239966978048.0000 - val_mean_absolute_error: 246465.6875\n",
      "Epoch 19/100\n",
      "\u001b[1m1037/1037\u001b[0m \u001b[32m━━━━━━━━━━━━━━━━━━━━\u001b[0m\u001b[37m\u001b[0m \u001b[1m1s\u001b[0m 1ms/step - loss: 268651773952.0000 - mean_absolute_error: 262206.0938 - val_loss: 239786541056.0000 - val_mean_absolute_error: 244351.5000\n",
      "Epoch 20/100\n",
      "\u001b[1m1037/1037\u001b[0m \u001b[32m━━━━━━━━━━━━━━━━━━━━\u001b[0m\u001b[37m\u001b[0m \u001b[1m1s\u001b[0m 1ms/step - loss: 249650888704.0000 - mean_absolute_error: 251278.2969 - val_loss: 239243280384.0000 - val_mean_absolute_error: 248041.4219\n",
      "Epoch 21/100\n",
      "\u001b[1m1037/1037\u001b[0m \u001b[32m━━━━━━━━━━━━━━━━━━━━\u001b[0m\u001b[37m\u001b[0m \u001b[1m2s\u001b[0m 2ms/step - loss: 264049737728.0000 - mean_absolute_error: 260496.3594 - val_loss: 238855815168.0000 - val_mean_absolute_error: 247792.3594\n",
      "Epoch 22/100\n",
      "\u001b[1m1037/1037\u001b[0m \u001b[32m━━━━━━━━━━━━━━━━━━━━\u001b[0m\u001b[37m\u001b[0m \u001b[1m2s\u001b[0m 2ms/step - loss: 279204790272.0000 - mean_absolute_error: 263745.4062 - val_loss: 238442119168.0000 - val_mean_absolute_error: 243729.7656\n",
      "Epoch 23/100\n",
      "\u001b[1m1037/1037\u001b[0m \u001b[32m━━━━━━━━━━━━━━━━━━━━\u001b[0m\u001b[37m\u001b[0m \u001b[1m1s\u001b[0m 1ms/step - loss: 251043069952.0000 - mean_absolute_error: 253087.0000 - val_loss: 238290190336.0000 - val_mean_absolute_error: 252330.2969\n",
      "Epoch 24/100\n",
      "\u001b[1m1037/1037\u001b[0m \u001b[32m━━━━━━━━━━━━━━━━━━━━\u001b[0m\u001b[37m\u001b[0m \u001b[1m1s\u001b[0m 1ms/step - loss: 266786193408.0000 - mean_absolute_error: 261170.7344 - val_loss: 237402587136.0000 - val_mean_absolute_error: 243794.0938\n",
      "Epoch 25/100\n",
      "\u001b[1m1037/1037\u001b[0m \u001b[32m━━━━━━━━━━━━━━━━━━━━\u001b[0m\u001b[37m\u001b[0m \u001b[1m1s\u001b[0m 1ms/step - loss: 268181667840.0000 - mean_absolute_error: 260586.5000 - val_loss: 236759269376.0000 - val_mean_absolute_error: 243666.9844\n",
      "Epoch 26/100\n",
      "\u001b[1m1037/1037\u001b[0m \u001b[32m━━━━━━━━━━━━━━━━━━━━\u001b[0m\u001b[37m\u001b[0m \u001b[1m1s\u001b[0m 1ms/step - loss: 254175739904.0000 - mean_absolute_error: 251579.9531 - val_loss: 236016058368.0000 - val_mean_absolute_error: 247682.3750\n",
      "Epoch 27/100\n",
      "\u001b[1m1037/1037\u001b[0m \u001b[32m━━━━━━━━━━━━━━━━━━━━\u001b[0m\u001b[37m\u001b[0m \u001b[1m1s\u001b[0m 1ms/step - loss: 261780815872.0000 - mean_absolute_error: 257469.8438 - val_loss: 234983473152.0000 - val_mean_absolute_error: 245313.5000\n",
      "Epoch 28/100\n",
      "\u001b[1m1037/1037\u001b[0m \u001b[32m━━━━━━━━━━━━━━━━━━━━\u001b[0m\u001b[37m\u001b[0m \u001b[1m1s\u001b[0m 1ms/step - loss: 279684841472.0000 - mean_absolute_error: 263812.0625 - val_loss: 233873883136.0000 - val_mean_absolute_error: 244965.8281\n",
      "Epoch 29/100\n",
      "\u001b[1m1037/1037\u001b[0m \u001b[32m━━━━━━━━━━━━━━━━━━━━\u001b[0m\u001b[37m\u001b[0m \u001b[1m1s\u001b[0m 993us/step - loss: 255897288704.0000 - mean_absolute_error: 254659.0000 - val_loss: 232450539520.0000 - val_mean_absolute_error: 245171.0469\n",
      "Epoch 30/100\n",
      "\u001b[1m1037/1037\u001b[0m \u001b[32m━━━━━━━━━━━━━━━━━━━━\u001b[0m\u001b[37m\u001b[0m \u001b[1m1s\u001b[0m 1ms/step - loss: 281102385152.0000 - mean_absolute_error: 263550.3438 - val_loss: 231085998080.0000 - val_mean_absolute_error: 237092.4531\n",
      "Epoch 31/100\n",
      "\u001b[1m1037/1037\u001b[0m \u001b[32m━━━━━━━━━━━━━━━━━━━━\u001b[0m\u001b[37m\u001b[0m \u001b[1m2s\u001b[0m 1ms/step - loss: 237234782208.0000 - mean_absolute_error: 247555.4688 - val_loss: 229071241216.0000 - val_mean_absolute_error: 242408.6250\n",
      "Epoch 32/100\n",
      "\u001b[1m1037/1037\u001b[0m \u001b[32m━━━━━━━━━━━━━━━━━━━━\u001b[0m\u001b[37m\u001b[0m \u001b[1m1s\u001b[0m 1ms/step - loss: 245154922496.0000 - mean_absolute_error: 249379.0469 - val_loss: 226245967872.0000 - val_mean_absolute_error: 239129.6094\n",
      "Epoch 33/100\n",
      "\u001b[1m1037/1037\u001b[0m \u001b[32m━━━━━━━━━━━━━━━━━━━━\u001b[0m\u001b[37m\u001b[0m \u001b[1m1s\u001b[0m 920us/step - loss: 255595708416.0000 - mean_absolute_error: 253051.2969 - val_loss: 224200228864.0000 - val_mean_absolute_error: 230973.1094\n",
      "Epoch 34/100\n",
      "\u001b[1m1037/1037\u001b[0m \u001b[32m━━━━━━━━━━━━━━━━━━━━\u001b[0m\u001b[37m\u001b[0m \u001b[1m1s\u001b[0m 911us/step - loss: 241660018688.0000 - mean_absolute_error: 246372.6250 - val_loss: 220536487936.0000 - val_mean_absolute_error: 230393.2188\n",
      "Epoch 35/100\n",
      "\u001b[1m1037/1037\u001b[0m \u001b[32m━━━━━━━━━━━━━━━━━━━━\u001b[0m\u001b[37m\u001b[0m \u001b[1m1s\u001b[0m 916us/step - loss: 228758487040.0000 - mean_absolute_error: 240825.3125 - val_loss: 217076236288.0000 - val_mean_absolute_error: 236474.2656\n",
      "Epoch 36/100\n",
      "\u001b[1m1037/1037\u001b[0m \u001b[32m━━━━━━━━━━━━━━━━━━━━\u001b[0m\u001b[37m\u001b[0m \u001b[1m1s\u001b[0m 908us/step - loss: 267028742144.0000 - mean_absolute_error: 254948.0312 - val_loss: 213124775936.0000 - val_mean_absolute_error: 226902.1562\n",
      "Epoch 37/100\n",
      "\u001b[1m1037/1037\u001b[0m \u001b[32m━━━━━━━━━━━━━━━━━━━━\u001b[0m\u001b[37m\u001b[0m \u001b[1m1s\u001b[0m 938us/step - loss: 242434162688.0000 - mean_absolute_error: 246661.0938 - val_loss: 209992515584.0000 - val_mean_absolute_error: 219886.7344\n",
      "Epoch 38/100\n",
      "\u001b[1m1037/1037\u001b[0m \u001b[32m━━━━━━━━━━━━━━━━━━━━\u001b[0m\u001b[37m\u001b[0m \u001b[1m1s\u001b[0m 934us/step - loss: 228850614272.0000 - mean_absolute_error: 237737.0312 - val_loss: 206316027904.0000 - val_mean_absolute_error: 223921.5469\n",
      "Epoch 39/100\n",
      "\u001b[1m1037/1037\u001b[0m \u001b[32m━━━━━━━━━━━━━━━━━━━━\u001b[0m\u001b[37m\u001b[0m \u001b[1m2s\u001b[0m 2ms/step - loss: 232325595136.0000 - mean_absolute_error: 240071.4688 - val_loss: 203291099136.0000 - val_mean_absolute_error: 220149.2812\n",
      "Epoch 40/100\n",
      "\u001b[1m1037/1037\u001b[0m \u001b[32m━━━━━━━━━━━━━━━━━━━━\u001b[0m\u001b[37m\u001b[0m \u001b[1m3s\u001b[0m 2ms/step - loss: 224349011968.0000 - mean_absolute_error: 236993.5938 - val_loss: 199899561984.0000 - val_mean_absolute_error: 214419.0938\n",
      "Epoch 41/100\n",
      "\u001b[1m1037/1037\u001b[0m \u001b[32m━━━━━━━━━━━━━━━━━━━━\u001b[0m\u001b[37m\u001b[0m \u001b[1m1s\u001b[0m 1ms/step - loss: 218407419904.0000 - mean_absolute_error: 235353.8750 - val_loss: 196838948864.0000 - val_mean_absolute_error: 211372.2969\n",
      "Epoch 42/100\n",
      "\u001b[1m1037/1037\u001b[0m \u001b[32m━━━━━━━━━━━━━━━━━━━━\u001b[0m\u001b[37m\u001b[0m \u001b[1m2s\u001b[0m 2ms/step - loss: 231413776384.0000 - mean_absolute_error: 237329.4375 - val_loss: 194662957056.0000 - val_mean_absolute_error: 208242.1875\n",
      "Epoch 43/100\n",
      "\u001b[1m1037/1037\u001b[0m \u001b[32m━━━━━━━━━━━━━━━━━━━━\u001b[0m\u001b[37m\u001b[0m \u001b[1m1s\u001b[0m 967us/step - loss: 215540678656.0000 - mean_absolute_error: 234728.1719 - val_loss: 192143654912.0000 - val_mean_absolute_error: 211665.2969\n",
      "Epoch 44/100\n",
      "\u001b[1m1037/1037\u001b[0m \u001b[32m━━━━━━━━━━━━━━━━━━━━\u001b[0m\u001b[37m\u001b[0m \u001b[1m1s\u001b[0m 1ms/step - loss: 216309579776.0000 - mean_absolute_error: 236020.5938 - val_loss: 189392404480.0000 - val_mean_absolute_error: 205523.4062\n",
      "Epoch 45/100\n",
      "\u001b[1m1037/1037\u001b[0m \u001b[32m━━━━━━━━━━━━━━━━━━━━\u001b[0m\u001b[37m\u001b[0m \u001b[1m1s\u001b[0m 1ms/step - loss: 212053540864.0000 - mean_absolute_error: 231354.1719 - val_loss: 188072607744.0000 - val_mean_absolute_error: 206000.5781\n",
      "Epoch 46/100\n",
      "\u001b[1m1037/1037\u001b[0m \u001b[32m━━━━━━━━━━━━━━━━━━━━\u001b[0m\u001b[37m\u001b[0m \u001b[1m2s\u001b[0m 2ms/step - loss: 223887720448.0000 - mean_absolute_error: 237215.3594 - val_loss: 186863091712.0000 - val_mean_absolute_error: 198749.6562\n",
      "Epoch 47/100\n",
      "\u001b[1m1037/1037\u001b[0m \u001b[32m━━━━━━━━━━━━━━━━━━━━\u001b[0m\u001b[37m\u001b[0m \u001b[1m1s\u001b[0m 1ms/step - loss: 216280399872.0000 - mean_absolute_error: 233873.7656 - val_loss: 184972099584.0000 - val_mean_absolute_error: 200175.0781\n",
      "Epoch 48/100\n",
      "\u001b[1m1037/1037\u001b[0m \u001b[32m━━━━━━━━━━━━━━━━━━━━\u001b[0m\u001b[37m\u001b[0m \u001b[1m2s\u001b[0m 1ms/step - loss: 219538784256.0000 - mean_absolute_error: 236029.0156 - val_loss: 184062951424.0000 - val_mean_absolute_error: 202412.3594\n",
      "Epoch 49/100\n",
      "\u001b[1m1037/1037\u001b[0m \u001b[32m━━━━━━━━━━━━━━━━━━━━\u001b[0m\u001b[37m\u001b[0m \u001b[1m1s\u001b[0m 1ms/step - loss: 210139496448.0000 - mean_absolute_error: 230476.9375 - val_loss: 182391668736.0000 - val_mean_absolute_error: 197531.8125\n",
      "Epoch 50/100\n",
      "\u001b[1m1037/1037\u001b[0m \u001b[32m━━━━━━━━━━━━━━━━━━━━\u001b[0m\u001b[37m\u001b[0m \u001b[1m1s\u001b[0m 1ms/step - loss: 216884936704.0000 - mean_absolute_error: 234477.4062 - val_loss: 182022160384.0000 - val_mean_absolute_error: 200503.5469\n",
      "Epoch 51/100\n",
      "\u001b[1m1037/1037\u001b[0m \u001b[32m━━━━━━━━━━━━━━━━━━━━\u001b[0m\u001b[37m\u001b[0m \u001b[1m2s\u001b[0m 2ms/step - loss: 220006940672.0000 - mean_absolute_error: 232634.0000 - val_loss: 181714321408.0000 - val_mean_absolute_error: 200710.7656\n",
      "Epoch 52/100\n",
      "\u001b[1m1037/1037\u001b[0m \u001b[32m━━━━━━━━━━━━━━━━━━━━\u001b[0m\u001b[37m\u001b[0m \u001b[1m2s\u001b[0m 2ms/step - loss: 228942495744.0000 - mean_absolute_error: 234851.0938 - val_loss: 180831731712.0000 - val_mean_absolute_error: 194028.3906\n",
      "Epoch 53/100\n",
      "\u001b[1m1037/1037\u001b[0m \u001b[32m━━━━━━━━━━━━━━━━━━━━\u001b[0m\u001b[37m\u001b[0m \u001b[1m2s\u001b[0m 1ms/step - loss: 225340899328.0000 - mean_absolute_error: 236512.4375 - val_loss: 179695435776.0000 - val_mean_absolute_error: 195767.9375\n",
      "Epoch 54/100\n",
      "\u001b[1m1037/1037\u001b[0m \u001b[32m━━━━━━━━━━━━━━━━━━━━\u001b[0m\u001b[37m\u001b[0m \u001b[1m1s\u001b[0m 1ms/step - loss: 220279275520.0000 - mean_absolute_error: 232374.2500 - val_loss: 177815175168.0000 - val_mean_absolute_error: 196044.2969\n",
      "Epoch 55/100\n",
      "\u001b[1m1037/1037\u001b[0m \u001b[32m━━━━━━━━━━━━━━━━━━━━\u001b[0m\u001b[37m\u001b[0m \u001b[1m1s\u001b[0m 1ms/step - loss: 220208873472.0000 - mean_absolute_error: 236813.0781 - val_loss: 177370398720.0000 - val_mean_absolute_error: 193876.3438\n",
      "Epoch 56/100\n",
      "\u001b[1m1037/1037\u001b[0m \u001b[32m━━━━━━━━━━━━━━━━━━━━\u001b[0m\u001b[37m\u001b[0m \u001b[1m1s\u001b[0m 1ms/step - loss: 217067143168.0000 - mean_absolute_error: 231961.2344 - val_loss: 176949411840.0000 - val_mean_absolute_error: 191308.2812\n",
      "Epoch 57/100\n",
      "\u001b[1m1037/1037\u001b[0m \u001b[32m━━━━━━━━━━━━━━━━━━━━\u001b[0m\u001b[37m\u001b[0m \u001b[1m1s\u001b[0m 1ms/step - loss: 197791907840.0000 - mean_absolute_error: 223961.5781 - val_loss: 176319447040.0000 - val_mean_absolute_error: 193002.6562\n",
      "Epoch 58/100\n",
      "\u001b[1m1037/1037\u001b[0m \u001b[32m━━━━━━━━━━━━━━━━━━━━\u001b[0m\u001b[37m\u001b[0m \u001b[1m2s\u001b[0m 1ms/step - loss: 190637801472.0000 - mean_absolute_error: 221265.7969 - val_loss: 175621849088.0000 - val_mean_absolute_error: 195930.5156\n",
      "Epoch 59/100\n",
      "\u001b[1m1037/1037\u001b[0m \u001b[32m━━━━━━━━━━━━━━━━━━━━\u001b[0m\u001b[37m\u001b[0m \u001b[1m2s\u001b[0m 2ms/step - loss: 209345691648.0000 - mean_absolute_error: 228206.8125 - val_loss: 174496464896.0000 - val_mean_absolute_error: 195212.9844\n",
      "Epoch 60/100\n",
      "\u001b[1m1037/1037\u001b[0m \u001b[32m━━━━━━━━━━━━━━━━━━━━\u001b[0m\u001b[37m\u001b[0m \u001b[1m1s\u001b[0m 1ms/step - loss: 201716776960.0000 - mean_absolute_error: 227631.2031 - val_loss: 173435224064.0000 - val_mean_absolute_error: 195341.2656\n",
      "Epoch 61/100\n",
      "\u001b[1m1037/1037\u001b[0m \u001b[32m━━━━━━━━━━━━━━━━━━━━\u001b[0m\u001b[37m\u001b[0m \u001b[1m1s\u001b[0m 1ms/step - loss: 216149852160.0000 - mean_absolute_error: 235472.9375 - val_loss: 172972359680.0000 - val_mean_absolute_error: 190515.0781\n",
      "Epoch 62/100\n",
      "\u001b[1m1037/1037\u001b[0m \u001b[32m━━━━━━━━━━━━━━━━━━━━\u001b[0m\u001b[37m\u001b[0m \u001b[1m1s\u001b[0m 1ms/step - loss: 217148620800.0000 - mean_absolute_error: 230233.9062 - val_loss: 172490194944.0000 - val_mean_absolute_error: 193178.3125\n",
      "Epoch 63/100\n",
      "\u001b[1m1037/1037\u001b[0m \u001b[32m━━━━━━━━━━━━━━━━━━━━\u001b[0m\u001b[37m\u001b[0m \u001b[1m1s\u001b[0m 1ms/step - loss: 207130869760.0000 - mean_absolute_error: 228212.6250 - val_loss: 171381587968.0000 - val_mean_absolute_error: 189181.6562\n",
      "Epoch 64/100\n",
      "\u001b[1m1037/1037\u001b[0m \u001b[32m━━━━━━━━━━━━━━━━━━━━\u001b[0m\u001b[37m\u001b[0m \u001b[1m1s\u001b[0m 1ms/step - loss: 200553136128.0000 - mean_absolute_error: 227610.0156 - val_loss: 170869325824.0000 - val_mean_absolute_error: 191240.9531\n",
      "Epoch 65/100\n",
      "\u001b[1m1037/1037\u001b[0m \u001b[32m━━━━━━━━━━━━━━━━━━━━\u001b[0m\u001b[37m\u001b[0m \u001b[1m1s\u001b[0m 1ms/step - loss: 191746605056.0000 - mean_absolute_error: 220838.2344 - val_loss: 171022172160.0000 - val_mean_absolute_error: 192352.3281\n",
      "Epoch 66/100\n",
      "\u001b[1m1037/1037\u001b[0m \u001b[32m━━━━━━━━━━━━━━━━━━━━\u001b[0m\u001b[37m\u001b[0m \u001b[1m1s\u001b[0m 1ms/step - loss: 205680492544.0000 - mean_absolute_error: 227752.8906 - val_loss: 170084712448.0000 - val_mean_absolute_error: 191602.7344\n",
      "Epoch 67/100\n",
      "\u001b[1m1037/1037\u001b[0m \u001b[32m━━━━━━━━━━━━━━━━━━━━\u001b[0m\u001b[37m\u001b[0m \u001b[1m1s\u001b[0m 1ms/step - loss: 214282649600.0000 - mean_absolute_error: 229974.1875 - val_loss: 169327607808.0000 - val_mean_absolute_error: 190364.9062\n",
      "Epoch 68/100\n",
      "\u001b[1m1037/1037\u001b[0m \u001b[32m━━━━━━━━━━━━━━━━━━━━\u001b[0m\u001b[37m\u001b[0m \u001b[1m1s\u001b[0m 1ms/step - loss: 208845144064.0000 - mean_absolute_error: 227949.3125 - val_loss: 169387868160.0000 - val_mean_absolute_error: 185880.3906\n",
      "Epoch 69/100\n",
      "\u001b[1m1037/1037\u001b[0m \u001b[32m━━━━━━━━━━━━━━━━━━━━\u001b[0m\u001b[37m\u001b[0m \u001b[1m1s\u001b[0m 1ms/step - loss: 214344286208.0000 - mean_absolute_error: 228962.6094 - val_loss: 167787642880.0000 - val_mean_absolute_error: 189311.3594\n",
      "Epoch 70/100\n",
      "\u001b[1m1037/1037\u001b[0m \u001b[32m━━━━━━━━━━━━━━━━━━━━\u001b[0m\u001b[37m\u001b[0m \u001b[1m1s\u001b[0m 1ms/step - loss: 198581043200.0000 - mean_absolute_error: 223136.0000 - val_loss: 166890422272.0000 - val_mean_absolute_error: 189838.0469\n",
      "Epoch 71/100\n",
      "\u001b[1m1037/1037\u001b[0m \u001b[32m━━━━━━━━━━━━━━━━━━━━\u001b[0m\u001b[37m\u001b[0m \u001b[1m2s\u001b[0m 2ms/step - loss: 203373871104.0000 - mean_absolute_error: 225241.7812 - val_loss: 166073188352.0000 - val_mean_absolute_error: 185141.2188\n",
      "Epoch 72/100\n",
      "\u001b[1m1037/1037\u001b[0m \u001b[32m━━━━━━━━━━━━━━━━━━━━\u001b[0m\u001b[37m\u001b[0m \u001b[1m1s\u001b[0m 1ms/step - loss: 191541346304.0000 - mean_absolute_error: 221157.1094 - val_loss: 165122490368.0000 - val_mean_absolute_error: 186393.2344\n",
      "Epoch 73/100\n",
      "\u001b[1m1037/1037\u001b[0m \u001b[32m━━━━━━━━━━━━━━━━━━━━\u001b[0m\u001b[37m\u001b[0m \u001b[1m1s\u001b[0m 990us/step - loss: 188671688704.0000 - mean_absolute_error: 218715.0625 - val_loss: 163797352448.0000 - val_mean_absolute_error: 184229.1562\n",
      "Epoch 74/100\n",
      "\u001b[1m1037/1037\u001b[0m \u001b[32m━━━━━━━━━━━━━━━━━━━━\u001b[0m\u001b[37m\u001b[0m \u001b[1m1s\u001b[0m 1ms/step - loss: 204975800320.0000 - mean_absolute_error: 225712.2656 - val_loss: 162838102016.0000 - val_mean_absolute_error: 184808.5781\n",
      "Epoch 75/100\n",
      "\u001b[1m1037/1037\u001b[0m \u001b[32m━━━━━━━━━━━━━━━━━━━━\u001b[0m\u001b[37m\u001b[0m \u001b[1m1s\u001b[0m 1ms/step - loss: 217630556160.0000 - mean_absolute_error: 233545.0625 - val_loss: 163384918016.0000 - val_mean_absolute_error: 181843.0781\n",
      "Epoch 76/100\n",
      "\u001b[1m1037/1037\u001b[0m \u001b[32m━━━━━━━━━━━━━━━━━━━━\u001b[0m\u001b[37m\u001b[0m \u001b[1m1s\u001b[0m 1ms/step - loss: 202347954176.0000 - mean_absolute_error: 222925.9531 - val_loss: 162160443392.0000 - val_mean_absolute_error: 179029.0938\n",
      "Epoch 77/100\n",
      "\u001b[1m1037/1037\u001b[0m \u001b[32m━━━━━━━━━━━━━━━━━━━━\u001b[0m\u001b[37m\u001b[0m \u001b[1m2s\u001b[0m 2ms/step - loss: 182516826112.0000 - mean_absolute_error: 217207.7344 - val_loss: 159872516096.0000 - val_mean_absolute_error: 184484.7969\n",
      "Epoch 78/100\n",
      "\u001b[1m1037/1037\u001b[0m \u001b[32m━━━━━━━━━━━━━━━━━━━━\u001b[0m\u001b[37m\u001b[0m \u001b[1m1s\u001b[0m 1ms/step - loss: 179122176000.0000 - mean_absolute_error: 218884.2500 - val_loss: 159092899840.0000 - val_mean_absolute_error: 182758.4062\n",
      "Epoch 79/100\n",
      "\u001b[1m1037/1037\u001b[0m \u001b[32m━━━━━━━━━━━━━━━━━━━━\u001b[0m\u001b[37m\u001b[0m \u001b[1m1s\u001b[0m 1ms/step - loss: 199871758336.0000 - mean_absolute_error: 223882.7656 - val_loss: 158082023424.0000 - val_mean_absolute_error: 178734.3438\n",
      "Epoch 80/100\n",
      "\u001b[1m1037/1037\u001b[0m \u001b[32m━━━━━━━━━━━━━━━━━━━━\u001b[0m\u001b[37m\u001b[0m \u001b[1m2s\u001b[0m 2ms/step - loss: 188184641536.0000 - mean_absolute_error: 217923.7344 - val_loss: 156799647744.0000 - val_mean_absolute_error: 177383.0312\n",
      "Epoch 81/100\n",
      "\u001b[1m1037/1037\u001b[0m \u001b[32m━━━━━━━━━━━━━━━━━━━━\u001b[0m\u001b[37m\u001b[0m \u001b[1m1s\u001b[0m 1ms/step - loss: 196161110016.0000 - mean_absolute_error: 224095.7188 - val_loss: 156224405504.0000 - val_mean_absolute_error: 173803.0000\n",
      "Epoch 82/100\n",
      "\u001b[1m1037/1037\u001b[0m \u001b[32m━━━━━━━━━━━━━━━━━━━━\u001b[0m\u001b[37m\u001b[0m \u001b[1m2s\u001b[0m 2ms/step - loss: 187315142656.0000 - mean_absolute_error: 218719.7031 - val_loss: 154477903872.0000 - val_mean_absolute_error: 178368.9375\n",
      "Epoch 83/100\n",
      "\u001b[1m1037/1037\u001b[0m \u001b[32m━━━━━━━━━━━━━━━━━━━━\u001b[0m\u001b[37m\u001b[0m \u001b[1m2s\u001b[0m 2ms/step - loss: 200838823936.0000 - mean_absolute_error: 223784.7344 - val_loss: 153165283328.0000 - val_mean_absolute_error: 172558.4375\n",
      "Epoch 84/100\n",
      "\u001b[1m1037/1037\u001b[0m \u001b[32m━━━━━━━━━━━━━━━━━━━━\u001b[0m\u001b[37m\u001b[0m \u001b[1m1s\u001b[0m 1ms/step - loss: 185497845760.0000 - mean_absolute_error: 218981.5000 - val_loss: 151462068224.0000 - val_mean_absolute_error: 174479.1875\n",
      "Epoch 85/100\n",
      "\u001b[1m1037/1037\u001b[0m \u001b[32m━━━━━━━━━━━━━━━━━━━━\u001b[0m\u001b[37m\u001b[0m \u001b[1m1s\u001b[0m 1ms/step - loss: 199422558208.0000 - mean_absolute_error: 223950.7656 - val_loss: 150524821504.0000 - val_mean_absolute_error: 170845.9062\n",
      "Epoch 86/100\n",
      "\u001b[1m1037/1037\u001b[0m \u001b[32m━━━━━━━━━━━━━━━━━━━━\u001b[0m\u001b[37m\u001b[0m \u001b[1m1s\u001b[0m 1ms/step - loss: 183610261504.0000 - mean_absolute_error: 213871.2188 - val_loss: 150666575872.0000 - val_mean_absolute_error: 180893.3750\n",
      "Epoch 87/100\n",
      "\u001b[1m1037/1037\u001b[0m \u001b[32m━━━━━━━━━━━━━━━━━━━━\u001b[0m\u001b[37m\u001b[0m \u001b[1m1s\u001b[0m 1ms/step - loss: 188530802688.0000 - mean_absolute_error: 219552.3750 - val_loss: 147026378752.0000 - val_mean_absolute_error: 169681.6094\n",
      "Epoch 88/100\n",
      "\u001b[1m1037/1037\u001b[0m \u001b[32m━━━━━━━━━━━━━━━━━━━━\u001b[0m\u001b[37m\u001b[0m \u001b[1m2s\u001b[0m 1ms/step - loss: 175545647104.0000 - mean_absolute_error: 212767.7031 - val_loss: 145865048064.0000 - val_mean_absolute_error: 176986.2656\n",
      "Epoch 89/100\n",
      "\u001b[1m1037/1037\u001b[0m \u001b[32m━━━━━━━━━━━━━━━━━━━━\u001b[0m\u001b[37m\u001b[0m \u001b[1m1s\u001b[0m 1ms/step - loss: 183125164032.0000 - mean_absolute_error: 214000.1719 - val_loss: 144915038208.0000 - val_mean_absolute_error: 167927.3438\n",
      "Epoch 90/100\n",
      "\u001b[1m1037/1037\u001b[0m \u001b[32m━━━━━━━━━━━━━━━━━━━━\u001b[0m\u001b[37m\u001b[0m \u001b[1m1s\u001b[0m 1ms/step - loss: 182747021312.0000 - mean_absolute_error: 213236.4375 - val_loss: 142314143744.0000 - val_mean_absolute_error: 167051.7031\n",
      "Epoch 91/100\n",
      "\u001b[1m1037/1037\u001b[0m \u001b[32m━━━━━━━━━━━━━━━━━━━━\u001b[0m\u001b[37m\u001b[0m \u001b[1m1s\u001b[0m 1ms/step - loss: 175886876672.0000 - mean_absolute_error: 211297.5938 - val_loss: 141108920320.0000 - val_mean_absolute_error: 167815.2344\n",
      "Epoch 92/100\n",
      "\u001b[1m1037/1037\u001b[0m \u001b[32m━━━━━━━━━━━━━━━━━━━━\u001b[0m\u001b[37m\u001b[0m \u001b[1m1s\u001b[0m 1ms/step - loss: 181819195392.0000 - mean_absolute_error: 213711.9688 - val_loss: 138663247872.0000 - val_mean_absolute_error: 168506.1719\n",
      "Epoch 93/100\n",
      "\u001b[1m1037/1037\u001b[0m \u001b[32m━━━━━━━━━━━━━━━━━━━━\u001b[0m\u001b[37m\u001b[0m \u001b[1m1s\u001b[0m 1ms/step - loss: 182189621248.0000 - mean_absolute_error: 212676.0156 - val_loss: 137225625600.0000 - val_mean_absolute_error: 169307.2500\n",
      "Epoch 94/100\n",
      "\u001b[1m1037/1037\u001b[0m \u001b[32m━━━━━━━━━━━━━━━━━━━━\u001b[0m\u001b[37m\u001b[0m \u001b[1m1s\u001b[0m 1ms/step - loss: 172291309568.0000 - mean_absolute_error: 208363.9375 - val_loss: 135487029248.0000 - val_mean_absolute_error: 158939.5625\n",
      "Epoch 95/100\n",
      "\u001b[1m1037/1037\u001b[0m \u001b[32m━━━━━━━━━━━━━━━━━━━━\u001b[0m\u001b[37m\u001b[0m \u001b[1m1s\u001b[0m 1ms/step - loss: 167048429568.0000 - mean_absolute_error: 207093.8438 - val_loss: 133352464384.0000 - val_mean_absolute_error: 159591.1875\n",
      "Epoch 96/100\n",
      "\u001b[1m1037/1037\u001b[0m \u001b[32m━━━━━━━━━━━━━━━━━━━━\u001b[0m\u001b[37m\u001b[0m \u001b[1m2s\u001b[0m 1ms/step - loss: 170330963968.0000 - mean_absolute_error: 207226.6719 - val_loss: 131473408000.0000 - val_mean_absolute_error: 159845.6406\n",
      "Epoch 97/100\n",
      "\u001b[1m1037/1037\u001b[0m \u001b[32m━━━━━━━━━━━━━━━━━━━━\u001b[0m\u001b[37m\u001b[0m \u001b[1m1s\u001b[0m 1ms/step - loss: 178562744320.0000 - mean_absolute_error: 211800.1250 - val_loss: 129707753472.0000 - val_mean_absolute_error: 159542.9062\n",
      "Epoch 98/100\n",
      "\u001b[1m1037/1037\u001b[0m \u001b[32m━━━━━━━━━━━━━━━━━━━━\u001b[0m\u001b[37m\u001b[0m \u001b[1m1s\u001b[0m 1ms/step - loss: 162397569024.0000 - mean_absolute_error: 205779.8125 - val_loss: 130349228032.0000 - val_mean_absolute_error: 168444.5312\n",
      "Epoch 99/100\n",
      "\u001b[1m1037/1037\u001b[0m \u001b[32m━━━━━━━━━━━━━━━━━━━━\u001b[0m\u001b[37m\u001b[0m \u001b[1m1s\u001b[0m 1ms/step - loss: 164691017728.0000 - mean_absolute_error: 206232.3438 - val_loss: 126588485632.0000 - val_mean_absolute_error: 159307.0781\n",
      "Epoch 100/100\n",
      "\u001b[1m1037/1037\u001b[0m \u001b[32m━━━━━━━━━━━━━━━━━━━━\u001b[0m\u001b[37m\u001b[0m \u001b[1m1s\u001b[0m 1ms/step - loss: 164932927488.0000 - mean_absolute_error: 202517.2656 - val_loss: 125670285312.0000 - val_mean_absolute_error: 159039.9219\n",
      "\u001b[1m162/162\u001b[0m \u001b[32m━━━━━━━━━━━━━━━━━━━━\u001b[0m\u001b[37m\u001b[0m \u001b[1m0s\u001b[0m 546us/step\n",
      "Rede neural aprimorada:\n",
      "Mean Squared Error: 134099676920.25916\n",
      "Mean Absolute Error: 163406.9317450185\n",
      "R² Score: 0.641072249352541\n"
     ]
    }
   ],
   "source": [
    "scaler = StandardScaler()\n",
    "X_train_scaled = scaler.fit_transform(X_train)\n",
    "X_test_scaled = scaler.transform(X_test)\n",
    "\n",
    "model = Sequential()\n",
    "model.add(Dense(128, input_dim=X_train.shape[1], activation='relu', kernel_regularizer=l2(0.01)))\n",
    "model.add(Dropout(0.2))\n",
    "model.add(Dense(64, activation='relu', kernel_regularizer=l2(0.01)))\n",
    "model.add(Dropout(0.2))\n",
    "model.add(Dense(32, activation='relu', kernel_regularizer=l2(0.01)))\n",
    "model.add(Dense(1)) \n",
    "\n",
    "model.compile(loss='mean_squared_error', optimizer='adam', metrics=['mean_absolute_error'])\n",
    "\n",
    "history = model.fit(X_train_scaled, y_train, epochs=100, batch_size=16, validation_split=0.2, verbose=1)\n",
    "\n",
    "y_pred = model.predict(X_test_scaled)\n",
    "mse = mean_squared_error(y_test, y_pred)\n",
    "mae = mean_absolute_error(y_test, y_pred)\n",
    "r2_2 = r2_score(y_test, y_pred)\n",
    "\n",
    "print(\"Rede neural aprimorada:\")\n",
    "print(f'Mean Squared Error: {mse}')\n",
    "print(f'Mean Absolute Error: {mae}')\n",
    "print(f'R² Score: {r2_2}')\n"
   ]
  },
  {
   "cell_type": "markdown",
   "metadata": {},
   "source": [
    "Camada de Entrada:\n",
    "\n",
    "Dense(128, input_dim=X_train.shape[1], activation='relu', kernel_regularizer=l2(0.01)):\n",
    "\n",
    "Dense: Esta é uma camada densamente conectada, onde cada neurônio da camada está conectado a todos os neurônios da camada anterior.\n",
    "\n",
    "128: Número de neurônios nesta camada.\n",
    "\n",
    "input_dim=X_train.shape[1]: Define a dimensão de entrada (número de características de entrada). Isso informa à rede o número de entradas para a primeira camada.\n",
    "\n",
    "activation='relu': Função de ativação ReLU (Rectified Linear Unit). ReLU é usada para introduzir não-linearidade ao modelo, permitindo que ele aprenda relações mais complexas. A fórmula é f(x) = max(0, x).\n",
    "\n",
    "kernel_regularizer=l2(0.01): Aplica regularização L2 para penalizar pesos grandes, ajudando a prevenir overfitting.\n",
    "\n",
    "Camada de Dropout:\n",
    "\n",
    "Dropout(0.2): Dropout é uma técnica de regularização onde, durante o treinamento, uma fração de neurônios (neste caso, 20%) são desligados aleatoriamente em cada iteração. Isso ajuda a prevenir overfitting ao forçar a rede a aprender representações mais robustas das entradas.\n",
    "\n",
    "Camada Oculta:\n",
    "\n",
    "Dense(64, activation='relu', kernel_regularizer=l2(0.01)):\n",
    "\n",
    "64: Número de neurônios nesta camada oculta.\n",
    "\n",
    "activation='relu': Função de ativação ReLU.\n",
    "\n",
    "kernel_regularizer=l2(0.01): Regularização L2 para prevenir overfitting.\n",
    "\n",
    "Outra Camada de Dropout:\n",
    "\n",
    "Dropout(0.2): Outra camada de Dropout para aumentar a robustez e ajudar a prevenir overfitting.\n",
    "\n",
    "Camada Oculta Adicional:\n",
    "\n",
    "Dense(32, activation='relu', kernel_regularizer=l2(0.01)):\n",
    "\n",
    "32: Número de neurônios nesta camada oculta.\n",
    "\n",
    "activation='relu': Função de ativação ReLU.\n",
    "\n",
    "kernel_regularizer=l2(0.01): Regularização L2.\n",
    "\n",
    "Camada de Saída:\n",
    "\n",
    "Dense(1):\n",
    "\n",
    "Dense: Camada densamente conectada.\n",
    "\n",
    "1: Número de neurônios de saída, uma vez que estamos prevendo um valor contínuo (consumo).\n",
    "\n",
    "Em resumo, as camadas de entrada e ocultas processam as características de entrada através de transformações lineares seguidas pela aplicação de funções de ativação não-lineares (ReLU), o que permite à rede aprender padrões complexos nos dados. As camadas de Dropout ajudam a prevenir overfitting desligando neurônios aleatoriamente durante o treinamento. A camada de saída gera a previsão final."
   ]
  },
  {
   "cell_type": "code",
   "execution_count": 39,
   "metadata": {},
   "outputs": [
    {
     "name": "stdout",
     "output_type": "stream",
     "text": [
      "R² da rede neural 1:  0.3153435334019057\n",
      "R² da rede neural 2:  0.641072249352541\n",
      "R² do random forest:  0.9976363660025784\n",
      "R² do linear regression:  0.30515543196663786\n"
     ]
    }
   ],
   "source": [
    "print(\"R² da rede neural 1: \",r2)\n",
    "print(\"R² da rede neural 2: \",r2_2)\n",
    "print(\"R² do random forest: \",r2_rf)\n",
    "print(\"R² do linear regression: \",r2_lr)"
   ]
  },
  {
   "cell_type": "code",
   "execution_count": 40,
   "metadata": {},
   "outputs": [
    {
     "data": {
      "image/png": "[encoded data removed]",
      "text/plain": [
       "<Figure size 1000x1000 with 1 Axes>"
      ]
     },
     "metadata": {},
     "output_type": "display_data"
    }
   ],
   "source": [
    "models = ['Rede Neural 1', 'Rede Neural 2', 'Random Forest', 'Linear Regression']\n",
    "r2_scores = [r2, r2_2, r2_rf, r2_lr]\n",
    "\n",
    "plt.figure(figsize=(10, 10))\n",
    "plt.bar(models, r2_scores, color=['blue', 'green', 'orange'])\n",
    "plt.xlabel('Modelos')\n",
    "plt.ylabel('R² Score')\n",
    "plt.title('Comparação dos R² Scores dos Modelos')\n",
    "plt.ylim(0, 1)\n",
    "\n",
    "for i, v in enumerate(r2_scores):\n",
    "    plt.text(i, v + 0.02, f\"{v:.2f}\", ha='center', va='bottom')\n",
    "\n",
    "# Exibindo o gráfico\n",
    "plt.show()\n"
   ]
  },
  {
   "cell_type": "markdown",
   "metadata": {},
   "source": [
    "Dos 3 métodos utilizados, o Ranfom Forest é o método mais recomendado, pois utiliza poucos recursos, com os melhores resultados.\n",
    "Foram utilizadas duas instâncias de Redes Neurais, mas os resultados não são tão bons quant os da Random Forest, além de demorar 2 minutos e 37 segundos para executar, enquanto o random forest foi de apenas 7 segundos.\n",
    "É interessante salientar que o primeiro modelo de rede neural usado teve resultados muito semelhantes aos de uma rede neural."
   ]
  },
  {
   "cell_type": "code",
   "execution_count": null,
   "metadata": {},
   "outputs": [],
   "source": [
    "def fig_to_html(fig):\n",
    "    buf = BytesIO()\n",
    "    fig.savefig(buf, format='png')\n",
    "    buf.seek(0)\n",
    "    image_base64 = base64.b64encode(buf.read()).decode('utf-8')\n",
    "    buf.close()\n",
    "    return f'<img src=\"data:image/png;base64,{image_base64}\" />'\n",
    "\n",
    "\n",
    "fig1 = plt.figure(figsize=(10, 6))\n",
    "sns.heatmap(df.pivot_table(values='consumo', index='ano', columns='mes', aggfunc='sum'), cmap='YlGnBu')\n",
    "plt.title('Distribuição de Consumo de Energia por Ano e Mês')\n",
    "plt.close()  \n",
    "\n",
    "\n",
    "fig2 = plt.figure(figsize=(10, 6))\n",
    "sns.boxplot(x='tipo_consumo', y='consumo', data=df)\n",
    "plt.title('Distribuição de Consumo por Tipo de Consumo')\n",
    "plt.close()  \n",
    "\n",
    "# Terceiro gráfico\n",
    "fig3 = plt.figure(figsize=(10, 10))\n",
    "plt.bar(models, r2_scores, color=['blue', 'green', 'orange'])\n",
    "plt.xlabel('Modelos')\n",
    "plt.ylabel('R² Score')\n",
    "plt.title('Comparação dos R² Scores dos Modelos')\n",
    "plt.ylim(0, 1)\n",
    "for i, v in enumerate(r2_scores):\n",
    "    plt.text(i, v + 0.02, f\"{v:.2f}\", ha='center', va='bottom')\n",
    "plt.close() \n",
    "\n",
    "\n",
    "html_content = f\"\"\"\n",
    "<html>\n",
    "<head>\n",
    "    <link rel=\"icon\" href=\"favicon.ico\" type=\"image/x-icon\">\n",
    "    <title>Resultados dos Modelos</title>\n",
    "    <link rel=\"stylesheet\" href=\"styles.css\">\n",
    "</head>\n",
    "<body>\n",
    "    <meta charset=\"UTF-8\">\n",
    "    <p>Clique <a href=\"https://docs.google.com/document/d/1mJCFssUlHcSfijeMaOiy6FvUFGPwMBIJ9eiEKMEGBpk/edit?tab=t.0\">aqui</a> para obter o relatório.</p>\n",
    "    <h1>Gráficos e Resultados dos Modelos</h1>\n",
    "    <h2>Distribuição de Consumo de Energia por Ano e Mês</h2>\n",
    "    {fig_to_html(fig1)}\n",
    "    <p>Com isso, é possível ver que o consumo vem aumentando conforme os anos passam.</p>\n",
    "    <h2>Distribuição de Consumo por Tipo de Consumo</h2>\n",
    "    {fig_to_html(fig2)}\n",
    "    <p>Com esse gráfico, é possível observar que as indústrias são as que mais consumem energia elétrica</p>\n",
    "    <h2>Comparação dos R² Scores dos Modelos</h2>\n",
    "    {fig_to_html(fig3)}\n",
    "    <h3>Resultados:</h3>\n",
    "    <ul>\n",
    "        <li>R² da Rede Neural: {r2:.2f}</li>\n",
    "        <li>R² do Random Forest: {r2_rf} (muito próxima de 1)</li>\n",
    "        <li>R² da Regressão Linear: {r2_lr:.2f}</li>\n",
    "    </ul>\n",
    "    <p>Com isso, conclue-se que o modelo de Random Forest foi o que obteve melhores resultados na previsão dos resultados.</p>\n",
    "    <p>Link do repositório do <a href=\"https://github.com/VCleitoso/N3_analise_pred\">GitHub</a></p>\n",
    "</body>\n",
    "</html>\n",
    "\"\"\"\n",
    "\n",
    "# Salvar o conteúdo HTML em um arquivo\n",
    "with open('index.html', 'w') as f:\n",
    "    f.write(html_content)\n",
    "\n",
    "\n",
    "#HTML(html_content)\n",
    "#Retirar o comentário para exibir o conteúdo"
   ]
  },
  {
   "cell_type": "code",
   "execution_count": 42,
   "metadata": {},
   "outputs": [
    {
     "name": "stdout",
     "output_type": "stream",
     "text": [
      "Serving HTTP on 0.0.0.0 port 8000 (http://0.0.0.0:8000/) ...\n",
      "127.0.0.1 - - [22/Nov/2024 20:51:15] \"GET / HTTP/1.1\" 200 -\n",
      "127.0.0.1 - - [22/Nov/2024 20:51:15] \"GET /styles.css HTTP/1.1\" 200 -\n",
      "127.0.0.1 - - [22/Nov/2024 20:51:15] \"GET /favicon.ico HTTP/1.1\" 200 -\n",
      "^C\n",
      "\n",
      "Keyboard interrupt received, exiting.\n"
     ]
    }
   ],
   "source": [
    "!python3 -m http.server && rm index.html\n",
    "## Inicia o servidor para subir o html, ao encerrar, exclui o html."
   ]
  },
  {
   "cell_type": "code",
   "execution_count": null,
   "metadata": {},
   "outputs": [
    {
     "name": "stdout",
     "output_type": "stream",
     "text": [
      "Use 'sudo docker-compose down -v', para excluir o docker, se quiser.\n"
     ]
    }
   ],
   "source": [
    "print(\"Use 'sudo docker-compose down -v', para excluir o docker, se quiser.\")"
   ]
  }
 ],
 "metadata": {
  "kernelspec": {
   "display_name": "Python 3",
   "language": "python",
   "name": "python3"
  },
  "language_info": {
   "codemirror_mode": {
    "name": "ipython",
    "version": 3
   },
   "file_extension": ".py",
   "mimetype": "text/x-python",
   "name": "python",
   "nbconvert_exporter": "python",
   "pygments_lexer": "ipython3",
   "version": "3.10.12"
  }
 },
 "nbformat": 4,
 "nbformat_minor": 2
}
